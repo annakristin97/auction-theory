{
 "cells": [
  {
   "cell_type": "code",
   "execution_count": 212,
   "metadata": {},
   "outputs": [],
   "source": [
    "import numpy as np\n",
    "import random as rd\n",
    "import matplotlib.pyplot as plt\n",
    "import math\n",
    "import copy\n",
    "import pandas as pd\n",
    "import plotly.express as px\n",
    "\n",
    "\n",
    "from enum import Enum\n",
    "from scipy.stats import truncnorm\n",
    "from scipy.stats import norm\n",
    "\n",
    "import seaborn as sns\n"
   ]
  },
  {
   "cell_type": "markdown",
   "metadata": {},
   "source": [
    "# Auction Simulation\n"
   ]
  },
  {
   "cell_type": "markdown",
   "metadata": {},
   "source": [
    "## Enums and Static Values\n"
   ]
  },
  {
   "cell_type": "code",
   "execution_count": 213,
   "metadata": {},
   "outputs": [],
   "source": [
    "class BIDDER_TYPE(Enum):\n",
    "    influencer = 1\n",
    "    reactor = 2\n"
   ]
  },
  {
   "cell_type": "code",
   "execution_count": 214,
   "metadata": {},
   "outputs": [],
   "source": [
    "new_line = '\\n'\n",
    "new_line_space = '\\n' + '   '\n"
   ]
  },
  {
   "cell_type": "markdown",
   "metadata": {},
   "source": [
    "## Helper Functions\n"
   ]
  },
  {
   "cell_type": "code",
   "execution_count": 215,
   "metadata": {},
   "outputs": [],
   "source": [
    "def get_truncated_normal(mean, std, count, low=0, upp=1):\n",
    "    a, b = (low - mean) / std, (upp - mean) / std\n",
    "\n",
    "    return truncnorm.rvs(\n",
    "        a, b, loc=mean, scale=std, size=count)\n"
   ]
  },
  {
   "cell_type": "code",
   "execution_count": 216,
   "metadata": {},
   "outputs": [],
   "source": [
    "def get_nth_percentile(beta: float, mean: float, n: int):\n",
    "    std = math.sqrt(1/beta)\n",
    "    return norm.ppf(n / 100.0, loc=mean, scale=std)\n"
   ]
  },
  {
   "cell_type": "code",
   "execution_count": 217,
   "metadata": {},
   "outputs": [],
   "source": [
    "def get_bidder_type(beta_self, std):\n",
    "    std_self = (1/math.sqrt(beta_self)) / std\n",
    "    if std_self < 0.5:\n",
    "        return BIDDER_TYPE.reactor\n",
    "\n",
    "    return BIDDER_TYPE.influencer\n"
   ]
  },
  {
   "cell_type": "code",
   "execution_count": 218,
   "metadata": {},
   "outputs": [],
   "source": [
    "def average_value(values):\n",
    "    return sum(values) / len(values)\n"
   ]
  },
  {
   "cell_type": "code",
   "execution_count": 219,
   "metadata": {},
   "outputs": [],
   "source": [
    "def calculate_betas(private_info, consensus_bias, desire_coef, risk_coef, std_private_values):\n",
    "    # beta = 1/std^2\n",
    "    std_self_coef = average_value(\n",
    "        [1-private_info, 1-consensus_bias, desire_coef, risk_coef])\n",
    "    std_others_coef = 1 - std_self_coef\n",
    "\n",
    "    std_self = std_self_coef * std_private_values\n",
    "    std_others = std_others_coef * std_private_values\n",
    "    return 1/math.pow(std_self, 2), 1/math.pow(std_others, 2)\n"
   ]
  },
  {
   "cell_type": "code",
   "execution_count": 220,
   "metadata": {},
   "outputs": [],
   "source": [
    "def get_value_belief_dist(private_value, beta, no_bidders):\n",
    "    # loc: mean\n",
    "    # scale: std (sigma)\n",
    "    # size: how many numbers to generate\n",
    "    return np.random.normal(loc=private_value, scale=math.sqrt(1/(beta)), size=no_bidders)\n"
   ]
  },
  {
   "cell_type": "code",
   "execution_count": 221,
   "metadata": {},
   "outputs": [],
   "source": [
    "# hvernig ferill? (nota ML til að finna fall sem lýsir hvernig þetta breytist)\n",
    "def get_beta_at_time(beta_others: float, time: int):\n",
    "    return beta_others * (time * 0.01)"
   ]
  },
  {
   "cell_type": "code",
   "execution_count": 222,
   "metadata": {},
   "outputs": [],
   "source": [
    "def update_belief_set(bidder, new_bid_amount, no_bidders, time, total_time):\n",
    "    # what is the probability that this new_bid_amount is correct, given our current assumptions?\n",
    "\n",
    "    # std_others = math.sqrt(1/bidder.beta_others)\n",
    "    # std_self = math.sqrt(1/bidder.beta_self)\n",
    "\n",
    "\n",
    "    beta_incoming = get_beta_at_time(bidder.beta_others, time)\n",
    "    beta_new = bidder.beta_self + beta_incoming\n",
    "\n",
    "    mean_new = ((bidder.beta_self/beta_new) * bidder.curr_value) + \\\n",
    "        ((beta_incoming/beta_new) * new_bid_amount)\n",
    "\n",
    "    bidder.curr_value = math.floor(mean_new)\n",
    "    bidder.beta = beta_new\n",
    "    bidder.value_belief_distribution = get_value_belief_dist(\n",
    "        bidder.curr_value, bidder.beta, no_bidders)\n"
   ]
  },
  {
   "cell_type": "markdown",
   "metadata": {},
   "source": [
    "### Plotting\n"
   ]
  },
  {
   "cell_type": "code",
   "execution_count": 223,
   "metadata": {},
   "outputs": [],
   "source": [
    "def plot_belief_distributions(belief_sets, title):\n",
    "    plt.figure(figsize=(20, 12))\n",
    "\n",
    "    belief_set_df = pd.concat([pd.Series(x) for x in belief_sets], axis=1)\n",
    "\n",
    "    sns.displot(data=belief_set_df, kind=\"kde\").set(\n",
    "        title=title, xlabel='Item Value', ylabel='Density')\n",
    "\n",
    "    plt.show()\n"
   ]
  },
  {
   "cell_type": "markdown",
   "metadata": {},
   "source": [
    "## Classes\n"
   ]
  },
  {
   "cell_type": "code",
   "execution_count": 224,
   "metadata": {},
   "outputs": [],
   "source": [
    "class Auction:\n",
    "    def __init__(self, id, N, T, reserve, start_bid):\n",
    "        self.id = id\n",
    "\n",
    "        # static values\n",
    "        self.N = N\n",
    "        self.T = T\n",
    "        self.reserve = reserve\n",
    "        self.start_bid = start_bid\n",
    "        self.bidders = None\n",
    "\n",
    "        # dynamic values\n",
    "        self.t = 0\n",
    "        self.curr_bid = start_bid\n",
    "\n",
    "    def __str__(self) -> str:\n",
    "\n",
    "        attribute_strings = (\n",
    "            'id: ' + self.id + new_line_space +\n",
    "            'no. bidders: ' + str(self.N) + new_line_space +\n",
    "            'duration: ' + str(self.T) + new_line_space +\n",
    "            'reserve: ' + str(self.reserve) + new_line\n",
    "        )\n",
    "\n",
    "        return (\n",
    "            'Auction(' + new_line_space +\n",
    "            attribute_strings +\n",
    "            ')' + new_line\n",
    "        )\n"
   ]
  },
  {
   "cell_type": "code",
   "execution_count": 225,
   "metadata": {},
   "outputs": [],
   "source": [
    "\n",
    "class Bidder:\n",
    "    def __init__(self, name, bidder_type, predef_value, beta_self, beta_others, desire_coef, value_belief_distribution):\n",
    "        self.name = name\n",
    "        self.bidder_type = bidder_type  # influencer bidder or reactor\n",
    "        self.predef_value = predef_value  # bidder's estimated value of item pre-auction\n",
    "\n",
    "        # how much does the bidder want the item at the start?\n",
    "        self.desire_coef = desire_coef\n",
    "        self.curr_value = predef_value  # bidders updated in-auction value\n",
    "        self.is_active = True  # all bidders start active\n",
    "        self.no_bids_submitted = 0  # no bids submitted by bidder\n",
    "\n",
    "        # what he thinks other bidder's values are\n",
    "        self.value_belief_distribution = value_belief_distribution\n",
    "\n",
    "        # --- beta coefficients ---\n",
    "\n",
    "        # static\n",
    "        self.beta_self = beta_self  # how much bidder trusts his original value estimate\n",
    "        self.beta_others = beta_others  # how much the bidder trusts incoming information\n",
    "        self.max_raise = get_nth_percentile(beta_self, predef_value, 95) # the maximum amount he will update his value to (95th percentile)\n",
    "\n",
    "        # dynamic\n",
    "        self.beta = beta_self  # how much bidder trusts his current value estimate\n",
    "\n",
    "    def __str__(self) -> str:\n",
    "\n",
    "        attribute_strings = (\n",
    "            'name: ' + self.name + new_line_space +\n",
    "            'predef_value: ' + str(self.predef_value) + new_line_space +\n",
    "            'curr_value: ' + str(self.curr_value) + new_line_space +\n",
    "            'beta_self: ' + str(self.beta_self) + new_line_space +\n",
    "            'beta: ' + str(self.beta) + new_line_space +\n",
    "            'beta_others: ' + str(self.beta_others) + new_line_space +\n",
    "            'bidder_type: ' + str(self.bidder_type) + new_line_space +\n",
    "            'max_raise: ' + str(self.max_raise) + new_line\n",
    "        )\n",
    "\n",
    "        return (\n",
    "            'Bidder(' + new_line_space +\n",
    "            attribute_strings +\n",
    "            ')' + new_line\n",
    "        )\n"
   ]
  },
  {
   "cell_type": "code",
   "execution_count": 226,
   "metadata": {},
   "outputs": [],
   "source": [
    "class Bid:\n",
    "    def __init__(self, amount: int, bidder: Bidder):\n",
    "        self.amount = amount\n",
    "        self.bidder = bidder\n",
    "\n",
    "    def __str__(self) -> str:\n",
    "        return 'Bid(amount=' + str(self.amount) + ' ,bidder=' + str(self.bidder) + ')'\n"
   ]
  },
  {
   "cell_type": "markdown",
   "metadata": {},
   "source": [
    "## Simulation Functions\n"
   ]
  },
  {
   "cell_type": "code",
   "execution_count": 227,
   "metadata": {},
   "outputs": [],
   "source": [
    "def get_bidder_bid(curr_bid: Bid, curr_time: int, bidder: Bidder, duration: int):\n",
    "    bid_amount = 0\n",
    "\n",
    "    if((curr_bid.amount > bidder.max_raise) | (curr_bid.amount > bidder.curr_value)):\n",
    "        bidder.is_active = False\n",
    "        return 0\n",
    "\n",
    "\n",
    "    is_time_to_bid = (\n",
    "        (bidder.bidder_type == BIDDER_TYPE.influencer)\n",
    "        |\n",
    "        (\n",
    "            # bids if time 90% of T or bid 90% of value\n",
    "            (bidder.bidder_type == BIDDER_TYPE.reactor)\n",
    "            &\n",
    "            ((curr_time > 0.9 * duration) |\n",
    "             (curr_bid.amount > bidder.curr_value * 0.9))\n",
    "        )\n",
    "    )\n",
    "\n",
    "    # influencer vs. reactor\n",
    "    if (is_time_to_bid & (curr_bid.bidder != bidder) & (curr_bid.amount < bidder.curr_value)):\n",
    "        # bid random btw. current bid and halfway from current bid to own value\n",
    "        bid_amount = rd.randint(curr_bid.amount, math.floor(\n",
    "            curr_bid.amount + (bidder.curr_value - curr_bid.amount) / 2))\n",
    "\n",
    "    return bid_amount\n"
   ]
  },
  {
   "cell_type": "code",
   "execution_count": 228,
   "metadata": {},
   "outputs": [],
   "source": [
    "\n",
    "def run_auction(auction):\n",
    "    auction.curr_bid = auction.start_bid\n",
    "    auction.t = 0\n",
    "    no_more_bids = False\n",
    "\n",
    "    while ((auction.t < auction.T) & (not no_more_bids)):\n",
    "        bids = []\n",
    "\n",
    "        for bidder in auction.bidders:\n",
    "            if(bidder.is_active):\n",
    "                bid_amount = get_bidder_bid(\n",
    "                    auction.curr_bid, auction.t, bidder, auction.T)\n",
    "\n",
    "                if (bid_amount > auction.curr_bid.amount):\n",
    "                    bids.append(Bid(bid_amount, bidder))\n",
    "\n",
    "        if (len(bids) > 0):\n",
    "            max_bid = max(bids, key=lambda bid: bid.amount)\n",
    "            auction.curr_bid = max_bid\n",
    "            auction.curr_bid.bidder.no_bids_submitted += 1\n",
    "            for bidder in auction.bidders:\n",
    "                update_belief_set(\n",
    "                    bidder=bidder, new_bid_amount=auction.curr_bid.amount, no_bidders=auction.N, time=auction.t, total_time=auction.T)\n",
    "\n",
    "        else:\n",
    "            no_more_bids = True\n",
    "\n",
    "        auction.t += 1\n",
    "\n",
    "    return auction.curr_bid\n"
   ]
  },
  {
   "cell_type": "code",
   "execution_count": null,
   "metadata": {},
   "outputs": [],
   "source": [
    "def run_simulation(no_iterations):\n",
    "    # mean and standard deviation of private values\n",
    "    # std: how affiliated are the private values?? TODO!!\n",
    "    avg = 5000\n",
    "    std = avg * 0.2\n",
    "    winning_bids = []\n",
    "    all_original_bidders = []\n",
    "    all_final_bidders = []\n",
    "    for i in range(0, no_iterations):\n",
    "        auction = Auction(id='b'+str(i+1), N=10, T=30,\n",
    "                          reserve=4000, start_bid=Bid(0, None))\n",
    "\n",
    "        bidder_private_values = [math.floor(x) for x in get_truncated_normal(\n",
    "            mean=avg, std=std, count=auction.N, low=0, upp=1000000)]\n",
    "        bidder_private_infos = get_truncated_normal(\n",
    "            mean=0.5, std=0.25, count=auction.N)\n",
    "        bidder_consensus_bias = get_truncated_normal(\n",
    "            mean=0.5, std=0.25, count=auction.N)\n",
    "        bidder_desires = get_truncated_normal(\n",
    "            mean=0.5, std=0.25, count=auction.N)\n",
    "        bidder_risk_coefs = get_truncated_normal(\n",
    "            mean=0.5, std=0.25, count=auction.N)\n",
    "\n",
    "        bidders = []\n",
    "        for i in range(0, auction.N):\n",
    "            beta_self, beta_others = calculate_betas(\n",
    "                bidder_private_infos[i], bidder_consensus_bias[i], bidder_desires[i], bidder_risk_coefs[i], std)\n",
    "            bidder_type = get_bidder_type(beta_self, std)\n",
    "\n",
    "            bidders.append(Bidder(\n",
    "                name='b'+str(i+1),\n",
    "                bidder_type=bidder_type,\n",
    "                predef_value=bidder_private_values[i],\n",
    "                beta_self=beta_self,\n",
    "                beta_others=beta_others,\n",
    "                desire_coef=bidder_desires[i],\n",
    "                value_belief_distribution=get_value_belief_dist(bidder_private_values[i], beta_self, auction.N)))\n",
    "\n",
    "        original_bidders = copy.deepcopy(bidders)\n",
    "        all_original_bidders.append(original_bidders)\n",
    "\n",
    "        auction.bidders = bidders\n",
    "\n",
    "        winning_bids.append(run_auction(auction))\n",
    "        all_final_bidders.append(auction.bidders)\n",
    "\n",
    "    return winning_bids, all_final_bidders, all_original_bidders\n"
   ]
  },
  {
   "cell_type": "markdown",
   "metadata": {},
   "source": [
    "## Simulation\n"
   ]
  },
  {
   "cell_type": "code",
   "execution_count": null,
   "metadata": {},
   "outputs": [],
   "source": [
    "winning_bids, all_final_bidders, all_original_bidders = run_simulation(1)\n"
   ]
  },
  {
   "cell_type": "code",
   "execution_count": null,
   "metadata": {},
   "outputs": [
    {
     "data": {
      "text/plain": [
       "<Figure size 2000x1200 with 0 Axes>"
      ]
     },
     "metadata": {},
     "output_type": "display_data"
    },
    {
     "data": {
      "image/png": "[encoded data removed]",
      "text/plain": [
       "<Figure size 558.875x500 with 1 Axes>"
      ]
     },
     "metadata": {},
     "output_type": "display_data"
    },
    {
     "data": {
      "text/plain": [
       "<Figure size 2000x1200 with 0 Axes>"
      ]
     },
     "metadata": {},
     "output_type": "display_data"
    },
    {
     "data": {
      "image/png": "[encoded data removed]",
      "text/plain": [
       "<Figure size 558.875x500 with 1 Axes>"
      ]
     },
     "metadata": {},
     "output_type": "display_data"
    }
   ],
   "source": [
    "\n",
    "for i in range(0,len(all_original_bidders)):\n",
    "    plot_belief_distributions(list(map(lambda bidder: bidder.value_belief_distribution,\n",
    "                                 all_original_bidders[i])), 'Bidder\\'s (Original) Belief Distributions')\n",
    "    plot_belief_distributions(list(map(lambda bidder: bidder.value_belief_distribution,\n",
    "                                       all_final_bidders[i])), 'Bidder\\'s (Final) Belief Distributions')\n"
   ]
  },
  {
   "cell_type": "code",
   "execution_count": null,
   "metadata": {},
   "outputs": [
    {
     "name": "stdout",
     "output_type": "stream",
     "text": [
      "5593.645293455732\n",
      "5560.926409181566\n",
      "6397.291836018976\n",
      "5677.525358222395\n",
      "6827.493707355055\n",
      "6775.569245141277\n",
      "5100.176598978315\n",
      "4381.696741076068\n",
      "5867.315678866945\n",
      "6217.070481863578\n"
     ]
    }
   ],
   "source": [
    "for bidders in all_final_bidders:\n",
    "    for bidder in bidders:\n",
    "        print(bidder.max_raise)"
   ]
  },
  {
   "cell_type": "code",
   "execution_count": null,
   "metadata": {},
   "outputs": [
    {
     "data": {
      "application/vnd.plotly.v1+json": {
       "config": {
        "plotlyServerURL": "https://plot.ly"
       },
       "data": [
        {
         "hovertemplate": "winner_type=BIDDER_TYPE.reactor<br>winner_amount=%{x}<br>winner_curse=%{y}<extra></extra>",
         "legendgroup": "BIDDER_TYPE.reactor",
         "marker": {
          "color": "#636efa",
          "opacity": 0.3,
          "size": 5,
          "symbol": "circle"
         },
         "mode": "markers",
         "name": "BIDDER_TYPE.reactor",
         "orientation": "v",
         "showlegend": true,
         "type": "scatter",
         "x": [
          5621
         ],
         "xaxis": "x",
         "y": [
          -714.8888888888887
         ],
         "yaxis": "y"
        },
        {
         "hovertemplate": "winner_type=BIDDER_TYPE.reactor<extra></extra>",
         "legendgroup": "BIDDER_TYPE.reactor",
         "marker": {
          "color": "#636efa",
          "size": 5,
          "symbol": "circle"
         },
         "mode": "lines",
         "name": "BIDDER_TYPE.reactor",
         "showlegend": false,
         "type": "scatter",
         "xaxis": "x",
         "yaxis": "y"
        }
       ],
       "layout": {
        "legend": {
         "title": {
          "text": "winner_type"
         },
         "tracegroupgap": 0
        },
        "template": {
         "data": {
          "bar": [
           {
            "error_x": {
             "color": "#2a3f5f"
            },
            "error_y": {
             "color": "#2a3f5f"
            },
            "marker": {
             "line": {
              "color": "#E5ECF6",
              "width": 0.5
             },
             "pattern": {
              "fillmode": "overlay",
              "size": 10,
              "solidity": 0.2
             }
            },
            "type": "bar"
           }
          ],
          "barpolar": [
           {
            "marker": {
             "line": {
              "color": "#E5ECF6",
              "width": 0.5
             },
             "pattern": {
              "fillmode": "overlay",
              "size": 10,
              "solidity": 0.2
             }
            },
            "type": "barpolar"
           }
          ],
          "carpet": [
           {
            "aaxis": {
             "endlinecolor": "#2a3f5f",
             "gridcolor": "white",
             "linecolor": "white",
             "minorgridcolor": "white",
             "startlinecolor": "#2a3f5f"
            },
            "baxis": {
             "endlinecolor": "#2a3f5f",
             "gridcolor": "white",
             "linecolor": "white",
             "minorgridcolor": "white",
             "startlinecolor": "#2a3f5f"
            },
            "type": "carpet"
           }
          ],
          "choropleth": [
           {
            "colorbar": {
             "outlinewidth": 0,
             "ticks": ""
            },
            "type": "choropleth"
           }
          ],
          "contour": [
           {
            "colorbar": {
             "outlinewidth": 0,
             "ticks": ""
            },
            "colorscale": [
             [
              0,
              "#0d0887"
             ],
             [
              0.1111111111111111,
              "#46039f"
             ],
             [
              0.2222222222222222,
              "#7201a8"
             ],
             [
              0.3333333333333333,
              "#9c179e"
             ],
             [
              0.4444444444444444,
              "#bd3786"
             ],
             [
              0.5555555555555556,
              "#d8576b"
             ],
             [
              0.6666666666666666,
              "#ed7953"
             ],
             [
              0.7777777777777778,
              "#fb9f3a"
             ],
             [
              0.8888888888888888,
              "#fdca26"
             ],
             [
              1,
              "#f0f921"
             ]
            ],
            "type": "contour"
           }
          ],
          "contourcarpet": [
           {
            "colorbar": {
             "outlinewidth": 0,
             "ticks": ""
            },
            "type": "contourcarpet"
           }
          ],
          "heatmap": [
           {
            "colorbar": {
             "outlinewidth": 0,
             "ticks": ""
            },
            "colorscale": [
             [
              0,
              "#0d0887"
             ],
             [
              0.1111111111111111,
              "#46039f"
             ],
             [
              0.2222222222222222,
              "#7201a8"
             ],
             [
              0.3333333333333333,
              "#9c179e"
             ],
             [
              0.4444444444444444,
              "#bd3786"
             ],
             [
              0.5555555555555556,
              "#d8576b"
             ],
             [
              0.6666666666666666,
              "#ed7953"
             ],
             [
              0.7777777777777778,
              "#fb9f3a"
             ],
             [
              0.8888888888888888,
              "#fdca26"
             ],
             [
              1,
              "#f0f921"
             ]
            ],
            "type": "heatmap"
           }
          ],
          "heatmapgl": [
           {
            "colorbar": {
             "outlinewidth": 0,
             "ticks": ""
            },
            "colorscale": [
             [
              0,
              "#0d0887"
             ],
             [
              0.1111111111111111,
              "#46039f"
             ],
             [
              0.2222222222222222,
              "#7201a8"
             ],
             [
              0.3333333333333333,
              "#9c179e"
             ],
             [
              0.4444444444444444,
              "#bd3786"
             ],
             [
              0.5555555555555556,
              "#d8576b"
             ],
             [
              0.6666666666666666,
              "#ed7953"
             ],
             [
              0.7777777777777778,
              "#fb9f3a"
             ],
             [
              0.8888888888888888,
              "#fdca26"
             ],
             [
              1,
              "#f0f921"
             ]
            ],
            "type": "heatmapgl"
           }
          ],
          "histogram": [
           {
            "marker": {
             "pattern": {
              "fillmode": "overlay",
              "size": 10,
              "solidity": 0.2
             }
            },
            "type": "histogram"
           }
          ],
          "histogram2d": [
           {
            "colorbar": {
             "outlinewidth": 0,
             "ticks": ""
            },
            "colorscale": [
             [
              0,
              "#0d0887"
             ],
             [
              0.1111111111111111,
              "#46039f"
             ],
             [
              0.2222222222222222,
              "#7201a8"
             ],
             [
              0.3333333333333333,
              "#9c179e"
             ],
             [
              0.4444444444444444,
              "#bd3786"
             ],
             [
              0.5555555555555556,
              "#d8576b"
             ],
             [
              0.6666666666666666,
              "#ed7953"
             ],
             [
              0.7777777777777778,
              "#fb9f3a"
             ],
             [
              0.8888888888888888,
              "#fdca26"
             ],
             [
              1,
              "#f0f921"
             ]
            ],
            "type": "histogram2d"
           }
          ],
          "histogram2dcontour": [
           {
            "colorbar": {
             "outlinewidth": 0,
             "ticks": ""
            },
            "colorscale": [
             [
              0,
              "#0d0887"
             ],
             [
              0.1111111111111111,
              "#46039f"
             ],
             [
              0.2222222222222222,
              "#7201a8"
             ],
             [
              0.3333333333333333,
              "#9c179e"
             ],
             [
              0.4444444444444444,
              "#bd3786"
             ],
             [
              0.5555555555555556,
              "#d8576b"
             ],
             [
              0.6666666666666666,
              "#ed7953"
             ],
             [
              0.7777777777777778,
              "#fb9f3a"
             ],
             [
              0.8888888888888888,
              "#fdca26"
             ],
             [
              1,
              "#f0f921"
             ]
            ],
            "type": "histogram2dcontour"
           }
          ],
          "mesh3d": [
           {
            "colorbar": {
             "outlinewidth": 0,
             "ticks": ""
            },
            "type": "mesh3d"
           }
          ],
          "parcoords": [
           {
            "line": {
             "colorbar": {
              "outlinewidth": 0,
              "ticks": ""
             }
            },
            "type": "parcoords"
           }
          ],
          "pie": [
           {
            "automargin": true,
            "type": "pie"
           }
          ],
          "scatter": [
           {
            "fillpattern": {
             "fillmode": "overlay",
             "size": 10,
             "solidity": 0.2
            },
            "type": "scatter"
           }
          ],
          "scatter3d": [
           {
            "line": {
             "colorbar": {
              "outlinewidth": 0,
              "ticks": ""
             }
            },
            "marker": {
             "colorbar": {
              "outlinewidth": 0,
              "ticks": ""
             }
            },
            "type": "scatter3d"
           }
          ],
          "scattercarpet": [
           {
            "marker": {
             "colorbar": {
              "outlinewidth": 0,
              "ticks": ""
             }
            },
            "type": "scattercarpet"
           }
          ],
          "scattergeo": [
           {
            "marker": {
             "colorbar": {
              "outlinewidth": 0,
              "ticks": ""
             }
            },
            "type": "scattergeo"
           }
          ],
          "scattergl": [
           {
            "marker": {
             "colorbar": {
              "outlinewidth": 0,
              "ticks": ""
             }
            },
            "type": "scattergl"
           }
          ],
          "scattermapbox": [
           {
            "marker": {
             "colorbar": {
              "outlinewidth": 0,
              "ticks": ""
             }
            },
            "type": "scattermapbox"
           }
          ],
          "scatterpolar": [
           {
            "marker": {
             "colorbar": {
              "outlinewidth": 0,
              "ticks": ""
             }
            },
            "type": "scatterpolar"
           }
          ],
          "scatterpolargl": [
           {
            "marker": {
             "colorbar": {
              "outlinewidth": 0,
              "ticks": ""
             }
            },
            "type": "scatterpolargl"
           }
          ],
          "scatterternary": [
           {
            "marker": {
             "colorbar": {
              "outlinewidth": 0,
              "ticks": ""
             }
            },
            "type": "scatterternary"
           }
          ],
          "surface": [
           {
            "colorbar": {
             "outlinewidth": 0,
             "ticks": ""
            },
            "colorscale": [
             [
              0,
              "#0d0887"
             ],
             [
              0.1111111111111111,
              "#46039f"
             ],
             [
              0.2222222222222222,
              "#7201a8"
             ],
             [
              0.3333333333333333,
              "#9c179e"
             ],
             [
              0.4444444444444444,
              "#bd3786"
             ],
             [
              0.5555555555555556,
              "#d8576b"
             ],
             [
              0.6666666666666666,
              "#ed7953"
             ],
             [
              0.7777777777777778,
              "#fb9f3a"
             ],
             [
              0.8888888888888888,
              "#fdca26"
             ],
             [
              1,
              "#f0f921"
             ]
            ],
            "type": "surface"
           }
          ],
          "table": [
           {
            "cells": {
             "fill": {
              "color": "#EBF0F8"
             },
             "line": {
              "color": "white"
             }
            },
            "header": {
             "fill": {
              "color": "#C8D4E3"
             },
             "line": {
              "color": "white"
             }
            },
            "type": "table"
           }
          ]
         },
         "layout": {
          "annotationdefaults": {
           "arrowcolor": "#2a3f5f",
           "arrowhead": 0,
           "arrowwidth": 1
          },
          "autotypenumbers": "strict",
          "coloraxis": {
           "colorbar": {
            "outlinewidth": 0,
            "ticks": ""
           }
          },
          "colorscale": {
           "diverging": [
            [
             0,
             "#8e0152"
            ],
            [
             0.1,
             "#c51b7d"
            ],
            [
             0.2,
             "#de77ae"
            ],
            [
             0.3,
             "#f1b6da"
            ],
            [
             0.4,
             "#fde0ef"
            ],
            [
             0.5,
             "#f7f7f7"
            ],
            [
             0.6,
             "#e6f5d0"
            ],
            [
             0.7,
             "#b8e186"
            ],
            [
             0.8,
             "#7fbc41"
            ],
            [
             0.9,
             "#4d9221"
            ],
            [
             1,
             "#276419"
            ]
           ],
           "sequential": [
            [
             0,
             "#0d0887"
            ],
            [
             0.1111111111111111,
             "#46039f"
            ],
            [
             0.2222222222222222,
             "#7201a8"
            ],
            [
             0.3333333333333333,
             "#9c179e"
            ],
            [
             0.4444444444444444,
             "#bd3786"
            ],
            [
             0.5555555555555556,
             "#d8576b"
            ],
            [
             0.6666666666666666,
             "#ed7953"
            ],
            [
             0.7777777777777778,
             "#fb9f3a"
            ],
            [
             0.8888888888888888,
             "#fdca26"
            ],
            [
             1,
             "#f0f921"
            ]
           ],
           "sequentialminus": [
            [
             0,
             "#0d0887"
            ],
            [
             0.1111111111111111,
             "#46039f"
            ],
            [
             0.2222222222222222,
             "#7201a8"
            ],
            [
             0.3333333333333333,
             "#9c179e"
            ],
            [
             0.4444444444444444,
             "#bd3786"
            ],
            [
             0.5555555555555556,
             "#d8576b"
            ],
            [
             0.6666666666666666,
             "#ed7953"
            ],
            [
             0.7777777777777778,
             "#fb9f3a"
            ],
            [
             0.8888888888888888,
             "#fdca26"
            ],
            [
             1,
             "#f0f921"
            ]
           ]
          },
          "colorway": [
           "#636efa",
           "#EF553B",
           "#00cc96",
           "#ab63fa",
           "#FFA15A",
           "#19d3f3",
           "#FF6692",
           "#B6E880",
           "#FF97FF",
           "#FECB52"
          ],
          "font": {
           "color": "#2a3f5f"
          },
          "geo": {
           "bgcolor": "white",
           "lakecolor": "white",
           "landcolor": "#E5ECF6",
           "showlakes": true,
           "showland": true,
           "subunitcolor": "white"
          },
          "hoverlabel": {
           "align": "left"
          },
          "hovermode": "closest",
          "mapbox": {
           "style": "light"
          },
          "paper_bgcolor": "white",
          "plot_bgcolor": "#E5ECF6",
          "polar": {
           "angularaxis": {
            "gridcolor": "white",
            "linecolor": "white",
            "ticks": ""
           },
           "bgcolor": "#E5ECF6",
           "radialaxis": {
            "gridcolor": "white",
            "linecolor": "white",
            "ticks": ""
           }
          },
          "scene": {
           "xaxis": {
            "backgroundcolor": "#E5ECF6",
            "gridcolor": "white",
            "gridwidth": 2,
            "linecolor": "white",
            "showbackground": true,
            "ticks": "",
            "zerolinecolor": "white"
           },
           "yaxis": {
            "backgroundcolor": "#E5ECF6",
            "gridcolor": "white",
            "gridwidth": 2,
            "linecolor": "white",
            "showbackground": true,
            "ticks": "",
            "zerolinecolor": "white"
           },
           "zaxis": {
            "backgroundcolor": "#E5ECF6",
            "gridcolor": "white",
            "gridwidth": 2,
            "linecolor": "white",
            "showbackground": true,
            "ticks": "",
            "zerolinecolor": "white"
           }
          },
          "shapedefaults": {
           "line": {
            "color": "#2a3f5f"
           }
          },
          "ternary": {
           "aaxis": {
            "gridcolor": "white",
            "linecolor": "white",
            "ticks": ""
           },
           "baxis": {
            "gridcolor": "white",
            "linecolor": "white",
            "ticks": ""
           },
           "bgcolor": "#E5ECF6",
           "caxis": {
            "gridcolor": "white",
            "linecolor": "white",
            "ticks": ""
           }
          },
          "title": {
           "x": 0.05
          },
          "xaxis": {
           "automargin": true,
           "gridcolor": "white",
           "linecolor": "white",
           "ticks": "",
           "title": {
            "standoff": 15
           },
           "zerolinecolor": "white",
           "zerolinewidth": 2
          },
          "yaxis": {
           "automargin": true,
           "gridcolor": "white",
           "linecolor": "white",
           "ticks": "",
           "title": {
            "standoff": 15
           },
           "zerolinecolor": "white",
           "zerolinewidth": 2
          }
         }
        },
        "title": {
         "text": "Winner's Curse vs. Amount Paid"
        },
        "xaxis": {
         "anchor": "y",
         "domain": [
          0,
          1
         ],
         "title": {
          "text": "Amount Paid for Item"
         }
        },
        "yaxis": {
         "anchor": "x",
         "domain": [
          0,
          1
         ],
         "title": {
          "text": "Average Loser Value - Amount Paid"
         }
        }
       }
      }
     },
     "metadata": {},
     "output_type": "display_data"
    }
   ],
   "source": [
    "auction_results = []\n",
    "\n",
    "for i in range(0, len(winning_bids)):\n",
    "    winning_bidder = winning_bids[i].bidder\n",
    "    all_but_winner = filter(lambda bidder: bidder.name !=\n",
    "                            winning_bidder.name, all_original_bidders[i])\n",
    "    average_loser_value = average_value(\n",
    "        list(map(lambda losing_bidder: losing_bidder.curr_value, all_but_winner)))\n",
    "    winner_curse = average_loser_value - winning_bids[i].amount\n",
    "\n",
    "    auction_result = {\n",
    "        'winner_curse': winner_curse,\n",
    "        'winner_amount': winning_bids[i].amount,\n",
    "        'winner_utility': winning_bids[i].bidder.curr_value - winning_bids[i].amount,\n",
    "        'winner_type': winning_bids[i].bidder.bidder_type\n",
    "    }\n",
    "    auction_results.append(auction_result)\n",
    "\n",
    "df = pd.DataFrame(auction_results, columns=[\n",
    "                  'winner_curse', 'winner_amount', 'winner_utility', 'winner_type'])\n",
    "\n",
    "fig = px.scatter(df, x=\"winner_amount\", y=\"winner_curse\", color=\"winner_type\", trendline='ols',\n",
    "                 opacity=0.3, title='Winner\\'s Curse vs. Amount Paid')\n",
    "fig.update_traces(marker_size=5)\n",
    "fig.update_xaxes(title='Amount Paid for Item')\n",
    "fig.update_yaxes(title='Average Loser Value - Amount Paid')\n",
    "fig.show()\n"
   ]
  },
  {
   "cell_type": "code",
   "execution_count": null,
   "metadata": {},
   "outputs": [
    {
     "data": {
      "image/png": "[encoded data removed]",
      "text/plain": [
       "<Figure size 640x480 with 1 Axes>"
      ]
     },
     "metadata": {},
     "output_type": "display_data"
    }
   ],
   "source": [
    "# ---WINNING BID AMOUNT---\n",
    "winning_bid_amounts = list(map(lambda bid: bid.amount, winning_bids))\n",
    "\n",
    "# ---WINNING BIDDER UTILITY---\n",
    "winning_bidder_utility = list(\n",
    "    map(lambda bid: bid.bidder.curr_value - bid.amount, winning_bids))\n",
    "\n",
    "# pd.value_counts(winning_bidder_utility).sort_index().plot.bar()\n",
    "\n",
    "plt.scatter(x=winning_bid_amounts, y=winning_bidder_utility, s=1)\n",
    "plt.show()\n"
   ]
  },
  {
   "cell_type": "code",
   "execution_count": null,
   "metadata": {},
   "outputs": [
    {
     "data": {
      "text/plain": [
       "<AxesSubplot: >"
      ]
     },
     "execution_count": 204,
     "metadata": {},
     "output_type": "execute_result"
    },
    {
     "data": {
      "image/png": "[encoded data removed]",
      "text/plain": [
       "<Figure size 640x480 with 1 Axes>"
      ]
     },
     "metadata": {},
     "output_type": "display_data"
    }
   ],
   "source": [
    "# ---WINNING BIDDER TYPE---\n",
    "\n",
    "winning_bidder_types = list(\n",
    "    map(lambda bid: bid.bidder.bidder_type, winning_bids))\n",
    "\n",
    "pd.value_counts(winning_bidder_types).plot.bar()\n"
   ]
  },
  {
   "cell_type": "code",
   "execution_count": null,
   "metadata": {},
   "outputs": [
    {
     "data": {
      "image/png": "[encoded data removed]",
      "text/plain": [
       "<Figure size 640x480 with 1 Axes>"
      ]
     },
     "metadata": {},
     "output_type": "display_data"
    }
   ],
   "source": [
    "# ---WINNING BIDDER UTILITY---\n",
    "winning_bidder_beta_self = list(\n",
    "    map(lambda bid: bid.bidder.beta_self, winning_bids))\n",
    "\n",
    "winning_bidder_beta = list(\n",
    "    map(lambda bid: bid.bidder.beta, winning_bids))\n",
    "\n",
    "\n",
    "plt.scatter(x=winning_bidder_beta_self, y=winning_bidder_beta, s=0.6)\n",
    "plt.show()\n"
   ]
  },
  {
   "cell_type": "code",
   "execution_count": null,
   "metadata": {},
   "outputs": [
    {
     "data": {
      "text/plain": [
       "<AxesSubplot: >"
      ]
     },
     "execution_count": 206,
     "metadata": {},
     "output_type": "execute_result"
    },
    {
     "data": {
      "image/png": "[encoded data removed]",
      "text/plain": [
       "<Figure size 640x480 with 1 Axes>"
      ]
     },
     "metadata": {},
     "output_type": "display_data"
    }
   ],
   "source": [
    "# ---WINNING BIDDER NO BIDS SUBMITTED---\n",
    "winning_bidder_bid_count = list(\n",
    "    map(lambda bid: bid.bidder.no_bids_submitted, winning_bids))\n",
    "\n",
    "pd.value_counts(winning_bidder_bid_count).sort_index().plot.bar()\n"
   ]
  },
  {
   "cell_type": "code",
   "execution_count": null,
   "metadata": {},
   "outputs": [
    {
     "data": {
      "image/png": "[encoded data removed]",
      "text/plain": [
       "<Figure size 640x480 with 1 Axes>"
      ]
     },
     "metadata": {},
     "output_type": "display_data"
    }
   ],
   "source": [
    "foo = get_truncated_normal(\n",
    "    mean=0.5, std=0.25, count=500)\n",
    "\n",
    "plt.hist(foo, density=True)\n",
    "plt.show()\n"
   ]
  },
  {
   "cell_type": "code",
   "execution_count": null,
   "metadata": {},
   "outputs": [],
   "source": []
  }
 ],
 "metadata": {
  "kernelspec": {
   "display_name": "Python 3.9.13 64-bit",
   "language": "python",
   "name": "python3"
  },
  "language_info": {
   "codemirror_mode": {
    "name": "ipython",
    "version": 3
   },
   "file_extension": ".py",
   "mimetype": "text/x-python",
   "name": "python",
   "nbconvert_exporter": "python",
   "pygments_lexer": "ipython3",
   "version": "3.9.13"
  },
  "orig_nbformat": 4,
  "vscode": {
   "interpreter": {
    "hash": "aee8b7b246df8f9039afb4144a1f6fd8d2ca17a180786b69acc140d282b71a49"
   }
  }
 },
 "nbformat": 4,
 "nbformat_minor": 2
}
