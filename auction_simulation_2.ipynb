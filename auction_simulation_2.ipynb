{
 "cells": [
  {
   "cell_type": "code",
   "execution_count": 39,
   "metadata": {},
   "outputs": [],
   "source": [
    "import numpy as np\n",
    "import random as rd\n",
    "import matplotlib.pyplot as plt\n",
    "import math\n",
    "import copy\n",
    "import pandas as pd\n",
    "import plotly.express as px\n",
    "import plotly.figure_factory as ff\n",
    "\n",
    "\n",
    "from enum import Enum\n",
    "from scipy.stats import truncnorm\n",
    "from scipy.stats import norm\n",
    "\n",
    "import seaborn as sns\n"
   ]
  },
  {
   "cell_type": "markdown",
   "metadata": {},
   "source": [
    "# Auction Simulation\n"
   ]
  },
  {
   "cell_type": "markdown",
   "metadata": {},
   "source": [
    "## Enums and Static Values\n"
   ]
  },
  {
   "cell_type": "code",
   "execution_count": 40,
   "metadata": {},
   "outputs": [],
   "source": [
    "class BIDDER_TYPE(Enum):\n",
    "    influencer = 1\n",
    "    reactor = 2\n"
   ]
  },
  {
   "cell_type": "code",
   "execution_count": 41,
   "metadata": {},
   "outputs": [],
   "source": [
    "new_line = '\\n'\n",
    "new_line_space = '\\n' + '   '\n"
   ]
  },
  {
   "cell_type": "markdown",
   "metadata": {},
   "source": [
    "## Helper Functions\n"
   ]
  },
  {
   "cell_type": "code",
   "execution_count": 42,
   "metadata": {},
   "outputs": [],
   "source": [
    "# returns n values, normally distributed:\n",
    "# mean: average value\n",
    "# std: standard deviation\n",
    "# on range [low, upp] (squashed into that range)\n",
    "def get_truncated_normal(mean, std, count, low=0, upp=1):\n",
    "    a, b = (low - mean) / std, (upp - mean) / std\n",
    "\n",
    "    return truncnorm.rvs(\n",
    "        a, b, loc=mean, scale=std, size=count)\n"
   ]
  },
  {
   "cell_type": "code",
   "execution_count": 43,
   "metadata": {},
   "outputs": [],
   "source": [
    "# returns the n-th percentile of a normal distribution with:\n",
    "# mean: average value\n",
    "# n: n-th percentile\n",
    "\n",
    "# Ex: 95th percentile -> point which 95% of the numbers are below\n",
    "def get_nth_percentile(std: float, mean: float, n: int):\n",
    "    return norm.ppf(n / 100.0, loc=mean, scale=std) # percent-point-function \n"
   ]
  },
  {
   "cell_type": "code",
   "execution_count": 44,
   "metadata": {},
   "outputs": [],
   "source": [
    "# infers bidder type based on his std_self value\n",
    "def get_bidder_type(std_self, std):\n",
    "    std_self_trunc = std_self / std # std truncated to range [0,1]\n",
    "\n",
    "    # low std -> much confindence in own start value estimate\n",
    "    if std_self_trunc > 0.5:\n",
    "        return BIDDER_TYPE.reactor\n",
    "\n",
    "    return BIDDER_TYPE.influencer\n"
   ]
  },
  {
   "cell_type": "code",
   "execution_count": 45,
   "metadata": {},
   "outputs": [],
   "source": [
    "# returns average of values in list\n",
    "def average_value(values: list[int] or list[float]):\n",
    "    return sum(values) / len(values)\n"
   ]
  },
  {
   "cell_type": "code",
   "execution_count": 46,
   "metadata": {},
   "outputs": [],
   "source": [
    "# returns:\n",
    "# std_self - how little he trusts his original value estimate\n",
    "# std_others - how little he trusts other people's bids as estimates\n",
    "# ..the values are negatively correlated\n",
    "def calculate_stds(private_info, consensus_bias, desire_coef, risk_coef, std_private_values):\n",
    "    std_self_coef = average_value(\n",
    "        [1-private_info, 1-consensus_bias, desire_coef, risk_coef])\n",
    "    std_others_coef = 1 - std_self_coef\n",
    "\n",
    "    std_self = std_self_coef * std_private_values\n",
    "    std_others = std_others_coef * std_private_values\n",
    "\n",
    "    return std_self, std_others\n"
   ]
  },
  {
   "cell_type": "code",
   "execution_count": 47,
   "metadata": {},
   "outputs": [],
   "source": [
    "# returns distribution of bidder's belief of other people's values as list of random floats\n",
    "def get_value_belief_dist(private_value, std, no_bidders):\n",
    "    # loc: mean\n",
    "    # scale: std (sigma)\n",
    "    # size: how many numbers to generate\n",
    "    return np.random.normal(loc=private_value, scale=std, size=no_bidders)\n"
   ]
  },
  {
   "cell_type": "code",
   "execution_count": 48,
   "metadata": {},
   "outputs": [],
   "source": [
    "# how much the bidder trusts incoming information at time t\n",
    "def get_std_incoming(std_others: float, t: int):\n",
    "    #time_coef = 0.000000001 + t * 0.05 # VILJUM FINNA ÞETTA FALL!\n",
    "    return std_others "
   ]
  },
  {
   "cell_type": "code",
   "execution_count": 49,
   "metadata": {},
   "outputs": [],
   "source": [
    "def update_belief_set2(bidder, no_bidders, time, all_bids):\n",
    "    std_incoming =  bidder.std_others # TODO: use function instead\n",
    "    std_prior = bidder.std\n",
    "    n = time\n",
    "\n",
    "    std_post = math.sqrt(1 / ( (n / math.pow(std_incoming, 2)) + (1 / math.pow(std_prior, 2)) ))\n",
    "\n",
    "\n",
    "    mu_prior = bidder.curr_value\n",
    "    x_mean = average_value(list(map(lambda bid: bid.amount, all_bids)))\n",
    "\n",
    "    mean_post = math.pow(std_post, 2) * ( (mu_prior / math.pow(std_prior, 2)) + ((time * x_mean) / math.pow(std_incoming, 2)))\n",
    "\n",
    "    bidder.curr_value = math.floor(mean_post)\n",
    "    bidder.std = std_post\n",
    "\n",
    "    # get updated value distribution using new mean and std\n",
    "    bidder.value_belief_distribution = get_value_belief_dist(\n",
    "        bidder.curr_value, bidder.std, no_bidders)\n"
   ]
  },
  {
   "cell_type": "markdown",
   "metadata": {},
   "source": []
  },
  {
   "cell_type": "markdown",
   "metadata": {},
   "source": [
    "### Plotting\n"
   ]
  },
  {
   "cell_type": "code",
   "execution_count": 50,
   "metadata": {},
   "outputs": [],
   "source": [
    "# plots all bidder's belief set distributions in one graph\n",
    "def plot_belief_distributions(belief_sets, title):\n",
    "\n",
    "    plt.figure(figsize=(20, 12))\n",
    "\n",
    "    hist_data = list(belief_sets)\n",
    "    group_labels = list(map(lambda x: str(x), range(0, len(belief_sets))))\n",
    "\n",
    "    fig = ff.create_distplot(hist_data, group_labels, show_hist=False, show_rug=False, curve_type=\"kde\", bin_size=50)\n",
    "    fig.update_layout(title=title)\n",
    "    fig.show()\n"
   ]
  },
  {
   "cell_type": "markdown",
   "metadata": {},
   "source": [
    "## Classes\n"
   ]
  },
  {
   "cell_type": "code",
   "execution_count": 51,
   "metadata": {},
   "outputs": [],
   "source": [
    "class Auction:\n",
    "    def __init__(self, id, N, reserve, start_bid):\n",
    "        self.id = id\n",
    "\n",
    "        # static values\n",
    "        self.N = N\n",
    "        self.reserve = reserve\n",
    "        self.start_bid = start_bid\n",
    "        self.bidders = None\n",
    "\n",
    "        # dynamic values\n",
    "        self.t = 0\n",
    "        self.curr_bid = start_bid\n",
    "        self.all_bids = []\n",
    "\n",
    "    def __str__(self) -> str:\n",
    "\n",
    "        attribute_strings = (\n",
    "            'id: ' + self.id + new_line_space +\n",
    "            'no. bidders: ' + str(self.N) + new_line_space +\n",
    "            'reserve: ' + str(self.reserve) + new_line\n",
    "        )\n",
    "\n",
    "        return (\n",
    "            'Auction(' + new_line_space +\n",
    "            attribute_strings +\n",
    "            ')' + new_line\n",
    "        )\n"
   ]
  },
  {
   "cell_type": "code",
   "execution_count": 52,
   "metadata": {},
   "outputs": [],
   "source": [
    "\n",
    "class Bidder:\n",
    "    def __init__(self, name, bidder_type, predef_value, std_self, std_others, desire_coef, value_belief_distribution):\n",
    "        self.name = name\n",
    "        self.bidder_type = bidder_type  # influencer bidder or reactor\n",
    "        self.predef_value = predef_value  # bidder's estimated value of item pre-auction\n",
    "\n",
    "        # how much does the bidder want the item at the start?\n",
    "        self.desire_coef = desire_coef\n",
    "        self.curr_value = predef_value  # bidders updated in-auction value\n",
    "        self.is_active = True  # all bidders start active\n",
    "        self.no_bids_submitted = 0  # no bids submitted by bidder\n",
    "        self.max_raise = get_nth_percentile(std_self, predef_value, 95) # the maximum amount he will update his value to (95th percentile)\n",
    "\n",
    "\n",
    "        # what he thinks other bidder's values are\n",
    "        self.value_belief_distribution = value_belief_distribution\n",
    "\n",
    "        # --- std coefficients ---\n",
    "\n",
    "        # static\n",
    "        self.std_self = std_self  # how much bidder trusts his original value estimate\n",
    "        self.std_others = std_others  # how much the bidder trusts incoming information\n",
    "        \n",
    "        # dynamic\n",
    "        self.std = std_self  # how much bidder trusts his current value estimate\n",
    "\n",
    "    def __str__(self) -> str:\n",
    "\n",
    "        attribute_strings = (\n",
    "            'name: ' + self.name + new_line_space +\n",
    "            'predef_value: ' + str(self.predef_value) + new_line_space +\n",
    "            'curr_value: ' + str(self.curr_value) + new_line_space +\n",
    "            'std_self: ' + str(self.std_self) + new_line_space +\n",
    "            'std_others: ' + str(self.std_others) + new_line_space +\n",
    "            'std: ' + str(self.std) + new_line_space +\n",
    "            'bidder_type: ' + str(self.bidder_type) + new_line_space +\n",
    "            'is_active: ' + str(self.is_active) + new_line_space +\n",
    "            'max_raise: ' + str(self.max_raise) + new_line\n",
    "        )\n",
    "\n",
    "        return (\n",
    "            'Bidder(' + new_line_space +\n",
    "            attribute_strings +\n",
    "            ')' + new_line\n",
    "        )\n"
   ]
  },
  {
   "cell_type": "code",
   "execution_count": 53,
   "metadata": {},
   "outputs": [],
   "source": [
    "class Bid:\n",
    "    def __init__(self, amount: int, bidder: Bidder):\n",
    "        self.amount = amount\n",
    "        self.bidder = bidder\n",
    "\n",
    "    def __str__(self) -> str:\n",
    "        return 'Bid(amount=' + str(self.amount) + ' ,bidder=' + str(self.bidder) + ')'\n"
   ]
  },
  {
   "cell_type": "markdown",
   "metadata": {},
   "source": [
    "## Simulation Functions\n"
   ]
  },
  {
   "cell_type": "code",
   "execution_count": 54,
   "metadata": {},
   "outputs": [],
   "source": [
    "def get_bidder_bid(curr_bid: Bid, curr_time: int, bidder: Bidder, no_bidders: int):\n",
    "    bid_amount = 0\n",
    "\n",
    "    # bidder has reached his maximum coming in to the auction\n",
    "    # OR\n",
    "    # current bid is higher than his current estimated value\n",
    "    if((curr_bid.amount > bidder.max_raise) | (curr_bid.amount > bidder.curr_value)):\n",
    "        # bidder opts out of the auction\n",
    "        bidder.is_active = False\n",
    "        return 0\n",
    "\n",
    "\n",
    "    # is bidder ready to place a bid?\n",
    "    is_time_to_bid = (\n",
    "        (bidder.bidder_type == BIDDER_TYPE.influencer)\n",
    "        |\n",
    "        (\n",
    "            # bids if time 90% of T or bid 90% of value\n",
    "            (bidder.bidder_type == BIDDER_TYPE.reactor)\n",
    "            &\n",
    "            ((curr_time > (no_bidders / 2)) | # half of bidders have on avg. bid\n",
    "             (curr_bid.amount > bidder.curr_value * 0.75))\n",
    "        )\n",
    "    )\n",
    "    \n",
    "\n",
    "    \n",
    "    if (is_time_to_bid & (curr_bid.bidder != bidder) & (curr_bid.amount < bidder.curr_value)):\n",
    "        # bid random on range [current bid, halfway from current bid to own value]\n",
    "        bid_amount = rd.randint(curr_bid.amount, math.floor(\n",
    "            curr_bid.amount + (bidder.curr_value - curr_bid.amount) / 2))\n",
    "\n",
    "    return bid_amount\n"
   ]
  },
  {
   "cell_type": "code",
   "execution_count": 55,
   "metadata": {},
   "outputs": [],
   "source": [
    "\n",
    "def run_auction(auction):\n",
    "    auction.curr_bid = auction.start_bid\n",
    "    auction.t = 0\n",
    "    no_more_bids = False\n",
    "\n",
    "    while (not no_more_bids):\n",
    "        bids = []\n",
    "\n",
    "        for bidder in auction.bidders:\n",
    "            if(bidder.is_active):\n",
    "                bid_amount = get_bidder_bid(\n",
    "                    auction.curr_bid, auction.t, bidder, auction.N)\n",
    "\n",
    "                if (bid_amount > auction.curr_bid.amount):\n",
    "                    bids.append(Bid(bid_amount, bidder))\n",
    "        \n",
    "        if (len(bids) > 0):\n",
    "            # get maximum of the placed bids at time t and set as current bid\n",
    "            max_bid = max(bids, key=lambda bid: bid.amount)\n",
    "            auction.curr_bid = max_bid\n",
    "            auction.all_bids.append(max_bid)\n",
    "\n",
    "            # update bidder no. bids\n",
    "            auction.curr_bid.bidder.no_bids_submitted += 1\n",
    "\n",
    "            # update each active bidder's belief set\n",
    "            for bidder in auction.bidders:\n",
    "                if((bidder.is_active) & (auction.curr_bid.bidder != bidder)):\n",
    "                    update_belief_set2(\n",
    "                        bidder=bidder, no_bidders=auction.N, time=auction.t, all_bids=auction.all_bids)\n",
    "\n",
    "        else:\n",
    "            no_more_bids = True\n",
    "\n",
    "        auction.t += 1\n",
    "\n",
    "    return auction.curr_bid\n"
   ]
  },
  {
   "cell_type": "code",
   "execution_count": 56,
   "metadata": {},
   "outputs": [],
   "source": [
    "def run_simulation(no_iterations):\n",
    "    # mean and standard deviation of private values\n",
    "    # std: how affiliated are the private values?? !!TEST!!\n",
    "    avg = 1000\n",
    "    std = avg * 0.2\n",
    "    winning_bids = []\n",
    "    all_original_bidders = []\n",
    "    all_final_bidders = []\n",
    "    for i in range(0, no_iterations):\n",
    "        auction = Auction(id='b'+str(i+1), N=15,\n",
    "                          reserve=avg * 0.8, start_bid=Bid(0, None))\n",
    "\n",
    "        bidder_private_values = [math.floor(x) for x in get_truncated_normal(\n",
    "            mean=avg, std=std, count=auction.N, low=0, upp=1000000)]\n",
    "        bidder_private_infos = get_truncated_normal(\n",
    "            mean=0.5, std=0.25, count=auction.N)\n",
    "        bidder_consensus_bias = get_truncated_normal(\n",
    "            mean=0.5, std=0.25, count=auction.N)\n",
    "        bidder_desires = get_truncated_normal(\n",
    "            mean=0.5, std=0.25, count=auction.N)\n",
    "        bidder_risk_coefs = get_truncated_normal(\n",
    "            mean=0.5, std=0.25, count=auction.N)\n",
    "\n",
    "        bidders = []\n",
    "        for i in range(0, auction.N):\n",
    "            std_self, std_others = calculate_stds(\n",
    "                bidder_private_infos[i], bidder_consensus_bias[i], bidder_desires[i], bidder_risk_coefs[i], std)\n",
    "            bidder_type = get_bidder_type(std_self, std)\n",
    "\n",
    "            bidders.append(Bidder(\n",
    "                name='b'+str(i+1),\n",
    "                bidder_type=bidder_type,\n",
    "                predef_value=bidder_private_values[i],\n",
    "                std_self=std_self,\n",
    "                std_others=std_others,\n",
    "                desire_coef=bidder_desires[i],\n",
    "                value_belief_distribution=get_value_belief_dist(bidder_private_values[i], std_self, auction.N)))\n",
    "\n",
    "        original_bidders = copy.deepcopy(bidders)\n",
    "        all_original_bidders.append(original_bidders)\n",
    "\n",
    "        auction.bidders = bidders\n",
    "\n",
    "        winning_bids.append(run_auction(auction))\n",
    "        all_final_bidders.append(auction.bidders)\n",
    "\n",
    "    return winning_bids, all_final_bidders, all_original_bidders\n"
   ]
  },
  {
   "cell_type": "markdown",
   "metadata": {},
   "source": [
    "## Simulation\n"
   ]
  },
  {
   "cell_type": "code",
   "execution_count": 57,
   "metadata": {},
   "outputs": [],
   "source": [
    "winning_bids, all_final_bidders, all_original_bidders = run_simulation(500)\n"
   ]
  },
  {
   "cell_type": "code",
   "execution_count": 58,
   "metadata": {},
   "outputs": [],
   "source": [
    "\n",
    "# for i in range(0,len(all_original_bidders)):\n",
    "#     plot_belief_distributions(list(map(lambda bidder: bidder.value_belief_distribution,\n",
    "#                                  all_original_bidders[i])), 'Bidder\\'s (Original) Belief Distributions')\n",
    "#     plot_belief_distributions(list(map(lambda bidder: bidder.value_belief_distribution,\n",
    "#                                        all_final_bidders[i])), 'Bidder\\'s (Final) Belief Distributions')\n"
   ]
  },
  {
   "cell_type": "code",
   "execution_count": 59,
   "metadata": {},
   "outputs": [],
   "source": [
    "auction_results = []\n",
    "\n",
    "for i in range(0, len(winning_bids)):\n",
    "    winning_bidder = winning_bids[i].bidder\n",
    "    all_but_winner = filter(lambda bidder: bidder.name !=\n",
    "                            winning_bidder.name, all_original_bidders[i])\n",
    "    average_loser_value = average_value(\n",
    "        list(map(lambda losing_bidder: losing_bidder.curr_value, all_but_winner)))\n",
    "    winner_curse = average_loser_value - winning_bids[i].amount\n",
    "\n",
    "    auction_result = {\n",
    "        'winner_curse': winner_curse,\n",
    "        'winner_amount': winning_bids[i].amount,\n",
    "        'winner_utility': winning_bids[i].bidder.curr_value - winning_bids[i].amount,\n",
    "        'winner_type': winning_bids[i].bidder.bidder_type,\n",
    "        'winner_no_bids_submitted': winning_bids[i].bidder.no_bids_submitted,\n",
    "        'winner_std': winning_bids[i].bidder.std,\n",
    "        'winner_std_self': winning_bids[i].bidder.std_self\n",
    "    }\n",
    "    auction_results.append(auction_result)\n",
    "\n",
    "df = pd.DataFrame(auction_results)\n"
   ]
  },
  {
   "cell_type": "code",
   "execution_count": 60,
   "metadata": {},
   "outputs": [
    {
     "data": {
      "application/vnd.plotly.v1+json": {
       "config": {
        "plotlyServerURL": "https://plot.ly"
       },
       "data": [
        {
         "hovertemplate": "winner_type=BIDDER_TYPE.influencer<br>winner_amount=%{x}<br>winner_curse=%{y}<extra></extra>",
         "legendgroup": "BIDDER_TYPE.influencer",
         "marker": {
          "color": "#636efa",
          "opacity": 0.3,
          "size": 5,
          "symbol": "circle"
         },
         "mode": "markers",
         "name": "BIDDER_TYPE.influencer",
         "orientation": "v",
         "showlegend": true,
         "type": "scatter",
         "x": [
          809,
          849,
          627,
          744,
          799,
          922,
          932,
          997,
          750,
          978,
          798,
          829,
          941,
          764,
          869,
          1046,
          734,
          935,
          802,
          960,
          705,
          770,
          872,
          877,
          817,
          1083,
          904,
          829,
          800,
          1003,
          942,
          792,
          881,
          915,
          874,
          935,
          700,
          961,
          1035,
          584,
          1001,
          765,
          907,
          914,
          1065,
          817,
          818,
          922,
          820,
          840,
          888,
          985,
          942,
          908,
          823,
          801,
          910,
          729,
          959,
          958,
          903,
          722,
          895,
          913,
          1139,
          716,
          840,
          973,
          881,
          867,
          853,
          773,
          938,
          852,
          696,
          990,
          901,
          952,
          782,
          900,
          735,
          869,
          851,
          816,
          821,
          898,
          743,
          890,
          823,
          834,
          872,
          903,
          886,
          746,
          959,
          791,
          891,
          733,
          908,
          895,
          1002,
          986,
          736,
          913,
          895,
          797,
          880,
          1054,
          870,
          915,
          858,
          943,
          966,
          913,
          825,
          843,
          854,
          870,
          821,
          890,
          807,
          811,
          757,
          906,
          819,
          845,
          951,
          748,
          833,
          887,
          936,
          879,
          910,
          796,
          864,
          962,
          835,
          826,
          876,
          878,
          891,
          985,
          970,
          770,
          843,
          978,
          855,
          921,
          877,
          923,
          901,
          892,
          856,
          764,
          945,
          691,
          767,
          862,
          1016,
          864,
          882,
          822,
          833,
          912,
          863,
          1103,
          846,
          904,
          804,
          803,
          1034,
          1061,
          956,
          841,
          845,
          943,
          894,
          868,
          1040,
          942,
          864,
          910,
          805,
          815,
          788,
          851,
          761,
          938,
          830,
          1013,
          836,
          625,
          772,
          936,
          756,
          945,
          833,
          798,
          1087,
          903,
          967,
          983,
          765,
          799,
          878,
          880,
          766,
          870,
          1156,
          847,
          851,
          935,
          811,
          914,
          747,
          901,
          1020,
          898,
          979,
          809,
          857,
          864,
          767,
          811,
          804,
          635,
          865,
          995,
          964,
          914,
          946,
          659,
          906,
          929,
          885,
          1009,
          756,
          947,
          704,
          868,
          1042,
          866,
          750,
          846,
          804,
          938,
          853,
          760,
          905,
          998,
          920,
          807,
          786,
          755,
          1079,
          893,
          977,
          879,
          991,
          952,
          874,
          907,
          999,
          1018,
          959,
          996,
          939,
          874,
          870,
          874,
          815,
          762,
          867,
          850,
          763,
          818,
          857,
          844,
          850,
          828,
          914,
          957,
          783,
          735,
          816,
          887,
          947,
          800,
          684,
          784,
          772,
          1007,
          767,
          1064,
          846,
          798,
          778,
          835,
          1133,
          837,
          1086,
          949,
          767,
          749,
          752,
          974,
          894,
          885,
          1040,
          832,
          835,
          851,
          863,
          945,
          711,
          879,
          834,
          825,
          883,
          874,
          911,
          969,
          757,
          778,
          906,
          894,
          880,
          764,
          785,
          918,
          803,
          918,
          761,
          888,
          793,
          734,
          826,
          769,
          910,
          855,
          856,
          970,
          840,
          823,
          930,
          756,
          864,
          884,
          941,
          895,
          930,
          730,
          908,
          857,
          861,
          918,
          867,
          903,
          824,
          973,
          931,
          870,
          669,
          1056,
          941,
          943,
          729,
          872,
          855,
          1045,
          884,
          769,
          828,
          740,
          847,
          859,
          750,
          929,
          1006,
          1059,
          900,
          846,
          940,
          963,
          902,
          921,
          801,
          833,
          869,
          815,
          755,
          797,
          825,
          765,
          995,
          852,
          893,
          1112,
          834,
          844,
          832,
          825,
          962,
          904,
          835,
          830,
          851,
          872,
          798,
          912,
          828,
          941,
          946,
          534,
          875,
          926,
          742,
          803,
          845,
          872,
          733,
          1027,
          896,
          861,
          939,
          897,
          811,
          764,
          945,
          872,
          847,
          775,
          958,
          1051,
          1006,
          763,
          950,
          845,
          556,
          968,
          938,
          823,
          657,
          788,
          847,
          763,
          910,
          864,
          826,
          838,
          895,
          876,
          950,
          833,
          852,
          863,
          802,
          916,
          984,
          870,
          772,
          884,
          848,
          745,
          930,
          940,
          823,
          790,
          859,
          856,
          821,
          1069,
          873,
          826,
          659,
          866,
          969,
          964,
          802,
          860,
          1014,
          776,
          1017,
          663,
          782,
          1028,
          801,
          894,
          927,
          835,
          745,
          861,
          976,
          990,
          922
         ],
         "xaxis": "x",
         "y": [
          233.78571428571422,
          116.28571428571433,
          381.92857142857144,
          278.5,
          223.07142857142856,
          51.571428571428555,
          66.28571428571433,
          74.07142857142867,
          292.7142857142858,
          29.285714285714334,
          174.5,
          138.1428571428571,
          129.5,
          199.5,
          113.71428571428567,
          11.35714285714289,
          301.42857142857133,
          128.5,
          141.71428571428567,
          50.14285714285711,
          240.78571428571433,
          148.07142857142856,
          149.3571428571429,
          118.28571428571433,
          132.78571428571433,
          -73.07142857142856,
          55.571428571428555,
          185.92857142857144,
          129.07142857142856,
          56.21428571428578,
          65.35714285714289,
          157.8571428571429,
          74.07142857142856,
          -59.928571428571445,
          105.14285714285711,
          0.28571428571433444,
          217.78571428571433,
          121.57142857142867,
          -46.714285714285666,
          427.5,
          85.71428571428578,
          143,
          84.64285714285711,
          107.07142857142856,
          -15.14285714285711,
          149.07142857142856,
          48.214285714285666,
          94.42857142857144,
          178,
          286.8571428571429,
          102.07142857142856,
          53.78571428571422,
          15.85714285714289,
          104.85714285714289,
          138.6428571428571,
          143.42857142857144,
          49.5,
          201.21428571428567,
          74.71428571428578,
          94.92857142857133,
          125.85714285714289,
          213.28571428571433,
          99.85714285714289,
          177.5,
          -118.5,
          218.1428571428571,
          142.5,
          -29.785714285714334,
          88.35714285714289,
          208.21428571428578,
          100.71428571428567,
          256.2857142857142,
          56.714285714285666,
          46.35714285714289,
          178.8571428571429,
          62.64285714285711,
          82.78571428571433,
          84.14285714285711,
          222.42857142857144,
          115.92857142857144,
          263.6428571428571,
          130.21428571428567,
          191.07142857142867,
          182.21428571428567,
          211.07142857142867,
          73.21428571428567,
          213.71428571428567,
          84.42857142857144,
          273.42857142857133,
          125.57142857142856,
          65.85714285714289,
          96.92857142857144,
          21.928571428571445,
          291,
          71.35714285714289,
          250.78571428571422,
          113.71428571428567,
          289.3571428571429,
          -26.928571428571445,
          142,
          -71.35714285714289,
          -42,
          187.78571428571433,
          34.714285714285666,
          91,
          195.6428571428571,
          88.28571428571433,
          -27.85714285714289,
          135.28571428571433,
          77.57142857142856,
          91.28571428571433,
          100.42857142857133,
          45.714285714285666,
          67.35714285714289,
          167.92857142857144,
          202.6428571428571,
          113.14285714285711,
          127.57142857142856,
          129.1428571428571,
          129.8571428571429,
          225.71428571428578,
          202.1428571428571,
          234.28571428571433,
          83.42857142857144,
          107.5,
          129.8571428571429,
          75.14285714285711,
          181.07142857142856,
          116.28571428571433,
          242.71428571428578,
          16.785714285714334,
          169.1428571428571,
          23.071428571428555,
          158,
          198.1428571428571,
          -22.85714285714289,
          140.28571428571433,
          102.85714285714289,
          65.14285714285711,
          166.21428571428578,
          206,
          29.714285714285666,
          -30.071428571428555,
          186,
          97,
          98.14285714285711,
          150.28571428571433,
          65.64285714285711,
          119.28571428571433,
          148.28571428571422,
          86.14285714285711,
          70.35714285714289,
          140.21428571428567,
          257.3571428571429,
          121.92857142857133,
          280.57142857142856,
          207.92857142857144,
          181.3571428571429,
          -28.714285714285666,
          183.28571428571422,
          107.5,
          114.14285714285711,
          128.92857142857144,
          42.428571428571445,
          151.6428571428571,
          -63.07142857142867,
          112.78571428571433,
          183.6428571428571,
          222.78571428571422,
          56.928571428571445,
          -47.14285714285711,
          -56.85714285714289,
          79.35714285714289,
          67.92857142857144,
          93.57142857142856,
          112.71428571428578,
          108.85714285714289,
          156.78571428571422,
          -44.214285714285666,
          30.928571428571445,
          156.42857142857144,
          89.57142857142856,
          300.3571428571429,
          89.42857142857144,
          251.78571428571422,
          74.85714285714289,
          148.07142857142856,
          119.07142857142867,
          206.78571428571422,
          -22.928571428571445,
          137.57142857142856,
          353.6428571428571,
          127.64285714285711,
          152.71428571428578,
          205.28571428571433,
          1.4285714285714448,
          75.92857142857144,
          168.8571428571429,
          -87.5,
          137.8571428571429,
          -92.28571428571433,
          -71.71428571428567,
          170.6428571428571,
          241.6428571428571,
          97.14285714285711,
          184.28571428571422,
          138.42857142857144,
          62.785714285714334,
          -125.35714285714289,
          102.14285714285711,
          97.64285714285711,
          22.85714285714289,
          153.42857142857144,
          94.92857142857144,
          176.3571428571429,
          181.1428571428571,
          -41.85714285714289,
          113,
          -124.57142857142856,
          146.42857142857144,
          143.28571428571433,
          63.85714285714289,
          150.57142857142856,
          191.3571428571429,
          236,
          365.8571428571429,
          139.5,
          -26.571428571428555,
          11.64285714285711,
          -44.071428571428555,
          54.285714285714334,
          430.57142857142867,
          135.21428571428578,
          83.42857142857144,
          86.42857142857144,
          -53.071428571428555,
          163.57142857142856,
          24.571428571428555,
          235.71428571428567,
          109.28571428571433,
          -14.5,
          128,
          227.57142857142856,
          161.21428571428567,
          210.57142857142856,
          -49.071428571428555,
          75.71428571428567,
          234.3571428571429,
          124.57142857142867,
          14.64285714285711,
          115.5,
          73.07142857142856,
          279.7142857142858,
          269.7857142857142,
          -13.928571428571331,
          140.5,
          7.714285714285666,
          39.714285714285666,
          23.5,
          37.785714285714334,
          30,
          73.71428571428567,
          -48.64285714285711,
          -20.714285714285666,
          99.5,
          -23.714285714285666,
          33.5,
          33.14285714285711,
          120.64285714285711,
          81.5,
          107.92857142857144,
          190.92857142857144,
          122.28571428571433,
          196.71428571428578,
          95.28571428571433,
          183.57142857142856,
          154.71428571428567,
          103.14285714285711,
          138.3571428571429,
          74.21428571428567,
          18.85714285714289,
          69.21428571428578,
          187.3571428571429,
          230.6428571428571,
          82.28571428571433,
          150.57142857142867,
          130.5,
          208.71428571428567,
          272.21428571428567,
          188.3571428571429,
          183.8571428571429,
          37.57142857142867,
          239.1428571428571,
          -52.428571428571445,
          113.28571428571433,
          251.5,
          170.07142857142856,
          152.57142857142856,
          -47.78571428571422,
          60.928571428571445,
          -112.5,
          121.57142857142867,
          96.64285714285711,
          187.28571428571433,
          197.71428571428567,
          138.78571428571422,
          72.78571428571433,
          124.92857142857144,
          40.92857142857133,
          146.92857142857144,
          70.21428571428567,
          99.5,
          104.28571428571433,
          -3.7857142857143344,
          310.5,
          94,
          132.21428571428567,
          178.07142857142856,
          166.71428571428578,
          53.714285714285666,
          99.5,
          26.64285714285711,
          167.3571428571429,
          213.8571428571429,
          74.42857142857144,
          166.78571428571422,
          82.28571428571433,
          235.07142857142856,
          286.1428571428571,
          77.07142857142856,
          154.71428571428567,
          135.5,
          259.71428571428567,
          76.5,
          194.07142857142856,
          260.78571428571433,
          94.07142857142856,
          221.57142857142856,
          41.428571428571445,
          39.714285714285666,
          215.07142857142867,
          -72,
          222.6428571428571,
          188.57142857142856,
          -1.5714285714285552,
          153.5,
          143.1428571428571,
          91.14285714285711,
          35.214285714285666,
          19.071428571428555,
          69.78571428571433,
          264.78571428571433,
          57.5,
          132.1428571428571,
          98.21428571428567,
          99.78571428571433,
          130.28571428571433,
          102,
          104.92857142857144,
          -38.571428571428555,
          130.1428571428571,
          52.785714285714334,
          341.28571428571433,
          11.71428571428578,
          96.42857142857133,
          35.85714285714289,
          286.5,
          93.28571428571433,
          72.92857142857144,
          -25.85714285714289,
          156.6428571428571,
          311.1428571428571,
          96.28571428571433,
          327.5,
          123.21428571428567,
          48.5,
          242.71428571428567,
          131.92857142857133,
          -18.285714285714334,
          -73.42857142857144,
          84.42857142857144,
          133.78571428571433,
          16.571428571428555,
          -2.071428571428555,
          176.1428571428571,
          66.35714285714289,
          129.78571428571433,
          125.14285714285711,
          90.42857142857144,
          171.42857142857144,
          221.78571428571433,
          175.42857142857144,
          164.78571428571433,
          215.78571428571433,
          71.42857142857133,
          105.35714285714289,
          23,
          -39.64285714285711,
          154.8571428571429,
          84.21428571428567,
          78.64285714285711,
          107.5,
          71.64285714285711,
          158.57142857142867,
          226.3571428571429,
          123.92857142857144,
          179.21428571428578,
          23.285714285714334,
          167.1428571428571,
          108.64285714285711,
          209.78571428571422,
          36.571428571428555,
          -30.071428571428555,
          416.3571428571429,
          152.3571428571429,
          136.92857142857133,
          211.3571428571429,
          94.28571428571433,
          49.85714285714289,
          142.6428571428571,
          320.2857142857142,
          -4.428571428571445,
          141.21428571428578,
          195.21428571428578,
          1.2857142857143344,
          132.42857142857133,
          257.2142857142858,
          232.1428571428571,
          64,
          118.85714285714289,
          33.35714285714289,
          186.78571428571433,
          14.571428571428555,
          15.928571428571331,
          -17.071428571428555,
          239.5,
          18.214285714285666,
          83.78571428571433,
          377.6428571428571,
          -25.928571428571445,
          69.92857142857144,
          44.85714285714289,
          191.78571428571433,
          281.42857142857133,
          93.14285714285711,
          239.57142857142856,
          13.285714285714334,
          87.35714285714289,
          137,
          143.28571428571433,
          145.92857142857133,
          89.64285714285711,
          151.1428571428571,
          48.428571428571445,
          36,
          178.3571428571429,
          209.71428571428567,
          44.85714285714289,
          37.14285714285711,
          121.35714285714289,
          114.35714285714289,
          50.714285714285666,
          200.1428571428571,
          275.21428571428567,
          77.78571428571433,
          6,
          237.57142857142867,
          183.42857142857144,
          147.6428571428571,
          92.5,
          180.28571428571433,
          65,
          53.785714285714334,
          179.28571428571433,
          366.5,
          181.42857142857133,
          94.42857142857133,
          0.7857142857143344,
          69.14285714285711,
          182,
          64.85714285714289,
          136.1428571428571,
          24.71428571428578,
          330.5,
          278.07142857142867,
          -5.071428571428555,
          209.8571428571429,
          130.8571428571429,
          104.64285714285711,
          153.57142857142856,
          271.21428571428567,
          139.28571428571433,
          70.21428571428578,
          117.92857142857133,
          52.35714285714289
         ],
         "yaxis": "y"
        },
        {
         "hovertemplate": "<b>OLS trendline</b><br>winner_curse = -0.85013 * winner_amount + 857.615<br>R<sup>2</sup>=0.696061<br><br>winner_type=BIDDER_TYPE.influencer<br>winner_amount=%{x}<br>winner_curse=%{y} <b>(trend)</b><extra></extra>",
         "legendgroup": "BIDDER_TYPE.influencer",
         "marker": {
          "color": "#636efa",
          "size": 5,
          "symbol": "circle"
         },
         "mode": "lines",
         "name": "BIDDER_TYPE.influencer",
         "showlegend": false,
         "type": "scatter",
         "x": [
          534,
          556,
          584,
          625,
          627,
          635,
          657,
          659,
          659,
          663,
          669,
          684,
          691,
          696,
          700,
          704,
          705,
          711,
          716,
          722,
          729,
          729,
          730,
          733,
          733,
          734,
          734,
          735,
          735,
          736,
          740,
          742,
          743,
          744,
          745,
          745,
          746,
          747,
          748,
          749,
          750,
          750,
          750,
          752,
          755,
          755,
          756,
          756,
          756,
          757,
          757,
          760,
          761,
          761,
          762,
          763,
          763,
          763,
          764,
          764,
          764,
          764,
          765,
          765,
          765,
          766,
          767,
          767,
          767,
          767,
          769,
          769,
          770,
          770,
          772,
          772,
          772,
          773,
          775,
          776,
          778,
          778,
          782,
          782,
          783,
          784,
          785,
          786,
          788,
          788,
          790,
          791,
          792,
          793,
          796,
          797,
          797,
          798,
          798,
          798,
          798,
          799,
          799,
          800,
          800,
          801,
          801,
          801,
          802,
          802,
          802,
          803,
          803,
          803,
          804,
          804,
          804,
          805,
          807,
          807,
          809,
          809,
          811,
          811,
          811,
          811,
          815,
          815,
          815,
          816,
          816,
          817,
          817,
          818,
          818,
          819,
          820,
          821,
          821,
          821,
          822,
          823,
          823,
          823,
          823,
          823,
          824,
          825,
          825,
          825,
          825,
          826,
          826,
          826,
          826,
          828,
          828,
          828,
          829,
          829,
          830,
          830,
          832,
          832,
          833,
          833,
          833,
          833,
          833,
          834,
          834,
          834,
          835,
          835,
          835,
          835,
          835,
          836,
          837,
          838,
          840,
          840,
          840,
          841,
          843,
          843,
          844,
          844,
          845,
          845,
          845,
          845,
          846,
          846,
          846,
          846,
          847,
          847,
          847,
          847,
          848,
          849,
          850,
          850,
          851,
          851,
          851,
          851,
          851,
          852,
          852,
          852,
          853,
          853,
          854,
          855,
          855,
          855,
          856,
          856,
          856,
          857,
          857,
          857,
          858,
          859,
          859,
          860,
          861,
          861,
          861,
          862,
          863,
          863,
          863,
          864,
          864,
          864,
          864,
          864,
          864,
          865,
          866,
          866,
          867,
          867,
          867,
          868,
          868,
          869,
          869,
          869,
          870,
          870,
          870,
          870,
          870,
          870,
          872,
          872,
          872,
          872,
          872,
          872,
          873,
          874,
          874,
          874,
          874,
          874,
          875,
          876,
          876,
          877,
          877,
          878,
          878,
          879,
          879,
          879,
          880,
          880,
          880,
          881,
          881,
          882,
          883,
          884,
          884,
          884,
          885,
          885,
          886,
          887,
          887,
          888,
          888,
          890,
          890,
          891,
          891,
          892,
          893,
          893,
          894,
          894,
          894,
          894,
          895,
          895,
          895,
          895,
          895,
          896,
          897,
          898,
          898,
          900,
          900,
          901,
          901,
          901,
          902,
          903,
          903,
          903,
          903,
          904,
          904,
          904,
          905,
          906,
          906,
          906,
          907,
          907,
          908,
          908,
          908,
          910,
          910,
          910,
          910,
          910,
          911,
          912,
          912,
          913,
          913,
          913,
          914,
          914,
          914,
          914,
          915,
          915,
          916,
          918,
          918,
          918,
          920,
          921,
          921,
          922,
          922,
          922,
          923,
          926,
          927,
          929,
          929,
          930,
          930,
          930,
          931,
          932,
          935,
          935,
          935,
          936,
          936,
          938,
          938,
          938,
          938,
          939,
          939,
          940,
          940,
          941,
          941,
          941,
          941,
          942,
          942,
          942,
          943,
          943,
          943,
          945,
          945,
          945,
          945,
          946,
          946,
          947,
          947,
          949,
          950,
          950,
          951,
          952,
          952,
          956,
          957,
          958,
          958,
          959,
          959,
          959,
          960,
          961,
          962,
          962,
          963,
          964,
          964,
          966,
          967,
          968,
          969,
          969,
          970,
          970,
          973,
          973,
          974,
          976,
          977,
          978,
          978,
          979,
          983,
          984,
          985,
          985,
          986,
          990,
          990,
          991,
          995,
          995,
          996,
          997,
          998,
          999,
          1001,
          1002,
          1003,
          1006,
          1006,
          1007,
          1009,
          1013,
          1014,
          1016,
          1017,
          1018,
          1020,
          1027,
          1028,
          1034,
          1035,
          1040,
          1040,
          1042,
          1045,
          1046,
          1051,
          1054,
          1056,
          1059,
          1061,
          1064,
          1065,
          1069,
          1079,
          1083,
          1086,
          1087,
          1103,
          1112,
          1133,
          1139,
          1156
         ],
         "xaxis": "x",
         "y": [
          403.645569739411,
          384.94270738084714,
          361.1390643790387,
          326.2837299835335,
          324.58346976911855,
          317.78242891145896,
          299.07956655289524,
          297.3793063384803,
          297.3793063384803,
          293.9787859096506,
          288.8780052664058,
          276.12605365829415,
          270.1751429078421,
          265.92449237180483,
          262.5239719429751,
          259.12345151414524,
          258.27332140693784,
          253.17254076369318,
          248.92189022765592,
          243.82110958441126,
          237.8701988339592,
          237.8701988339592,
          237.02006872675167,
          234.46967840512934,
          234.46967840512934,
          233.61954829792194,
          233.61954829792194,
          232.76941819071442,
          232.76941819071442,
          231.919288083507,
          228.51876765467728,
          226.81850744026235,
          225.96837733305495,
          225.11824722584743,
          224.26811711864002,
          224.26811711864002,
          223.41798701143261,
          222.5678569042251,
          221.7177267970177,
          220.86759668981028,
          220.01746658260276,
          220.01746658260276,
          220.01746658260276,
          218.31720636818795,
          215.76681604656562,
          215.76681604656562,
          214.9166859393581,
          214.9166859393581,
          214.9166859393581,
          214.0665558321507,
          214.0665558321507,
          211.51616551052837,
          210.66603540332085,
          210.66603540332085,
          209.81590529611344,
          208.96577518890604,
          208.96577518890604,
          208.96577518890604,
          208.11564508169852,
          208.11564508169852,
          208.11564508169852,
          208.11564508169852,
          207.2655149744911,
          207.2655149744911,
          207.2655149744911,
          206.4153848672837,
          205.5652547600762,
          205.5652547600762,
          205.5652547600762,
          205.5652547600762,
          203.86499454566138,
          203.86499454566138,
          203.01486443845386,
          203.01486443845386,
          201.31460422403904,
          201.31460422403904,
          201.31460422403904,
          200.46447411683152,
          198.7642139024167,
          197.9140837952092,
          196.21382358079438,
          196.21382358079438,
          192.81330315196453,
          192.81330315196453,
          191.96317304475713,
          191.1130429375496,
          190.2629128303422,
          189.4127827231348,
          187.71252250871987,
          187.71252250871987,
          186.01226229430495,
          185.16213218709754,
          184.31200207989014,
          183.46187197268262,
          180.91148165106029,
          180.06135154385288,
          180.06135154385288,
          179.21122143664547,
          179.21122143664547,
          179.21122143664547,
          179.21122143664547,
          178.36109132943795,
          178.36109132943795,
          177.51096122223055,
          177.51096122223055,
          176.66083111502314,
          176.66083111502314,
          176.66083111502314,
          175.81070100781562,
          175.81070100781562,
          175.81070100781562,
          174.96057090060822,
          174.96057090060822,
          174.96057090060822,
          174.1104407934007,
          174.1104407934007,
          174.1104407934007,
          173.2603106861933,
          171.56005047177837,
          171.56005047177837,
          169.85979025736356,
          169.85979025736356,
          168.15953004294863,
          168.15953004294863,
          168.15953004294863,
          168.15953004294863,
          164.7590096141189,
          164.7590096141189,
          164.7590096141189,
          163.90887950691138,
          163.90887950691138,
          163.05874939970397,
          163.05874939970397,
          162.20861929249656,
          162.20861929249656,
          161.35848918528905,
          160.50835907808164,
          159.65822897087423,
          159.65822897087423,
          159.65822897087423,
          158.80809886366671,
          157.9579687564593,
          157.9579687564593,
          157.9579687564593,
          157.9579687564593,
          157.9579687564593,
          157.1078386492519,
          156.25770854204438,
          156.25770854204438,
          156.25770854204438,
          156.25770854204438,
          155.40757843483698,
          155.40757843483698,
          155.40757843483698,
          155.40757843483698,
          153.70731822042205,
          153.70731822042205,
          153.70731822042205,
          152.85718811321465,
          152.85718811321465,
          152.00705800600713,
          152.00705800600713,
          150.30679779159232,
          150.30679779159232,
          149.4566676843848,
          149.4566676843848,
          149.4566676843848,
          149.4566676843848,
          149.4566676843848,
          148.6065375771774,
          148.6065375771774,
          148.6065375771774,
          147.75640746997,
          147.75640746997,
          147.75640746997,
          147.75640746997,
          147.75640746997,
          146.90627736276247,
          146.05614725555506,
          145.20601714834766,
          143.50575693393273,
          143.50575693393273,
          143.50575693393273,
          142.65562682672532,
          140.9553666123104,
          140.9553666123104,
          140.105236505103,
          140.105236505103,
          139.25510639789547,
          139.25510639789547,
          139.25510639789547,
          139.25510639789547,
          138.40497629068807,
          138.40497629068807,
          138.40497629068807,
          138.40497629068807,
          137.55484618348066,
          137.55484618348066,
          137.55484618348066,
          137.55484618348066,
          136.70471607627314,
          135.85458596906574,
          135.00445586185822,
          135.00445586185822,
          134.1543257546508,
          134.1543257546508,
          134.1543257546508,
          134.1543257546508,
          134.1543257546508,
          133.3041956474434,
          133.3041956474434,
          133.3041956474434,
          132.4540655402359,
          132.4540655402359,
          131.60393543302848,
          130.75380532582108,
          130.75380532582108,
          130.75380532582108,
          129.90367521861356,
          129.90367521861356,
          129.90367521861356,
          129.05354511140615,
          129.05354511140615,
          129.05354511140615,
          128.20341500419875,
          127.35328489699123,
          127.35328489699123,
          126.50315478978382,
          125.65302468257642,
          125.65302468257642,
          125.65302468257642,
          124.8028945753689,
          123.95276446816149,
          123.95276446816149,
          123.95276446816149,
          123.10263436095408,
          123.10263436095408,
          123.10263436095408,
          123.10263436095408,
          123.10263436095408,
          123.10263436095408,
          122.25250425374657,
          121.40237414653916,
          121.40237414653916,
          120.55224403933175,
          120.55224403933175,
          120.55224403933175,
          119.70211393212423,
          119.70211393212423,
          118.85198382491683,
          118.85198382491683,
          118.85198382491683,
          118.00185371770942,
          118.00185371770942,
          118.00185371770942,
          118.00185371770942,
          118.00185371770942,
          118.00185371770942,
          116.3015935032945,
          116.3015935032945,
          116.3015935032945,
          116.3015935032945,
          116.3015935032945,
          116.3015935032945,
          115.45146339608698,
          114.60133328887957,
          114.60133328887957,
          114.60133328887957,
          114.60133328887957,
          114.60133328887957,
          113.75120318167217,
          112.90107307446465,
          112.90107307446465,
          112.05094296725724,
          112.05094296725724,
          111.20081286004984,
          111.20081286004984,
          110.35068275284232,
          110.35068275284232,
          110.35068275284232,
          109.50055264563491,
          109.50055264563491,
          109.50055264563491,
          108.6504225384275,
          108.6504225384275,
          107.80029243121999,
          106.95016232401258,
          106.10003221680518,
          106.10003221680518,
          106.10003221680518,
          105.24990210959766,
          105.24990210959766,
          104.39977200239025,
          103.54964189518284,
          103.54964189518284,
          102.69951178797533,
          102.69951178797533,
          100.99925157356051,
          100.99925157356051,
          100.149121466353,
          100.149121466353,
          99.29899135914559,
          98.44886125193818,
          98.44886125193818,
          97.59873114473066,
          97.59873114473066,
          97.59873114473066,
          97.59873114473066,
          96.74860103752326,
          96.74860103752326,
          96.74860103752326,
          96.74860103752326,
          96.74860103752326,
          95.89847093031574,
          95.04834082310833,
          94.19821071590093,
          94.19821071590093,
          92.497950501486,
          92.497950501486,
          91.6478203942786,
          91.6478203942786,
          91.6478203942786,
          90.79769028707108,
          89.94756017986367,
          89.94756017986367,
          89.94756017986367,
          89.94756017986367,
          89.09743007265627,
          89.09743007265627,
          89.09743007265627,
          88.24729996544875,
          87.39716985824134,
          87.39716985824134,
          87.39716985824134,
          86.54703975103394,
          86.54703975103394,
          85.69690964382642,
          85.69690964382642,
          85.69690964382642,
          83.9966494294116,
          83.9966494294116,
          83.9966494294116,
          83.9966494294116,
          83.9966494294116,
          83.14651932220409,
          82.29638921499668,
          82.29638921499668,
          81.44625910778927,
          81.44625910778927,
          81.44625910778927,
          80.59612900058175,
          80.59612900058175,
          80.59612900058175,
          80.59612900058175,
          79.74599889337435,
          79.74599889337435,
          78.89586878616694,
          77.19560857175202,
          77.19560857175202,
          77.19560857175202,
          75.4953483573371,
          74.64521825012969,
          74.64521825012969,
          73.79508814292217,
          73.79508814292217,
          73.79508814292217,
          72.94495803571476,
          70.39456771409243,
          69.54443760688503,
          67.8441773924701,
          67.8441773924701,
          66.9940472852627,
          66.9940472852627,
          66.9940472852627,
          66.14391717805518,
          65.29378707084777,
          62.74339674922544,
          62.74339674922544,
          62.74339674922544,
          61.893266642018034,
          61.893266642018034,
          60.19300642760311,
          60.19300642760311,
          60.19300642760311,
          60.19300642760311,
          59.3428763203957,
          59.3428763203957,
          58.492746213188184,
          58.492746213188184,
          57.64261610598078,
          57.64261610598078,
          57.64261610598078,
          57.64261610598078,
          56.79248599877337,
          56.79248599877337,
          56.79248599877337,
          55.94235589156585,
          55.94235589156585,
          55.94235589156585,
          54.24209567715093,
          54.24209567715093,
          54.24209567715093,
          54.24209567715093,
          53.39196556994352,
          53.39196556994352,
          52.54183546273612,
          52.54183546273612,
          50.84157524832119,
          49.991445141113786,
          49.991445141113786,
          49.14131503390627,
          48.29118492669886,
          48.29118492669886,
          44.890664497869125,
          44.040534390661605,
          43.1904042834542,
          43.1904042834542,
          42.340274176246794,
          42.340274176246794,
          42.340274176246794,
          41.490144069039275,
          40.64001396183187,
          39.78988385462446,
          39.78988385462446,
          38.939753747416944,
          38.08962364020954,
          38.08962364020954,
          36.38936342579461,
          35.53923331858721,
          34.68910321137969,
          33.83897310417228,
          33.83897310417228,
          32.98884299696488,
          32.98884299696488,
          30.438452675342546,
          30.438452675342546,
          29.588322568135027,
          27.888062353720215,
          27.037932246512696,
          26.18780213930529,
          26.18780213930529,
          25.337672032097885,
          21.937151603268035,
          21.08702149606063,
          20.236891388853223,
          20.236891388853223,
          19.386761281645704,
          15.986240852815968,
          15.986240852815968,
          15.136110745608448,
          11.735590316778712,
          11.735590316778712,
          10.885460209571306,
          10.035330102363787,
          9.185199995156381,
          8.335069887948976,
          6.6348096735340505,
          5.784679566326645,
          4.9345494591191255,
          2.3841591374967948,
          2.3841591374967948,
          1.534029030289389,
          -0.16623118412553595,
          -3.5667516129552723,
          -4.416881720162792,
          -6.117141934577603,
          -6.967272041785122,
          -7.817402148992528,
          -9.517662363407453,
          -15.46857311385952,
          -16.318703221066926,
          -21.419483864311587,
          -22.269613971519107,
          -26.520264507556362,
          -26.520264507556362,
          -28.220524721971174,
          -30.770915043593504,
          -31.621045150801024,
          -35.871695686838166,
          -38.4220860084605,
          -40.12234622287542,
          -42.67273654449775,
          -44.37299675891268,
          -46.92338708053501,
          -47.773517187742414,
          -51.174037616572264,
          -59.67533868864666,
          -63.07585911747651,
          -65.62624943909884,
          -66.47637954630625,
          -80.0784612616253,
          -87.72963222649241,
          -105.58236447784873,
          -110.68314512109339,
          -125.13535694361997
         ],
         "yaxis": "y"
        },
        {
         "hovertemplate": "winner_type=BIDDER_TYPE.reactor<br>winner_amount=%{x}<br>winner_curse=%{y}<extra></extra>",
         "legendgroup": "BIDDER_TYPE.reactor",
         "marker": {
          "color": "#EF553B",
          "opacity": 0.3,
          "size": 5,
          "symbol": "circle"
         },
         "mode": "markers",
         "name": "BIDDER_TYPE.reactor",
         "orientation": "v",
         "showlegend": true,
         "type": "scatter",
         "x": [
          894,
          792,
          813,
          816,
          703
         ],
         "xaxis": "x",
         "y": [
          91.21428571428567,
          256.07142857142867,
          211.5,
          89.64285714285711,
          259.5
         ],
         "yaxis": "y"
        },
        {
         "hovertemplate": "<b>OLS trendline</b><br>winner_curse = -0.949729 * winner_amount + 944.788<br>R<sup>2</sup>=0.577994<br><br>winner_type=BIDDER_TYPE.reactor<br>winner_amount=%{x}<br>winner_curse=%{y} <b>(trend)</b><extra></extra>",
         "legendgroup": "BIDDER_TYPE.reactor",
         "marker": {
          "color": "#EF553B",
          "size": 5,
          "symbol": "circle"
         },
         "mode": "lines",
         "name": "BIDDER_TYPE.reactor",
         "showlegend": false,
         "type": "scatter",
         "x": [
          703,
          792,
          813,
          816,
          894
         ],
         "xaxis": "x",
         "y": [
          277.12847899213625,
          192.60257383436704,
          172.6582591342193,
          169.8090713199124,
          95.730188147935
         ],
         "yaxis": "y"
        }
       ],
       "layout": {
        "legend": {
         "title": {
          "text": "winner_type"
         },
         "tracegroupgap": 0
        },
        "template": {
         "data": {
          "bar": [
           {
            "error_x": {
             "color": "#2a3f5f"
            },
            "error_y": {
             "color": "#2a3f5f"
            },
            "marker": {
             "line": {
              "color": "#E5ECF6",
              "width": 0.5
             },
             "pattern": {
              "fillmode": "overlay",
              "size": 10,
              "solidity": 0.2
             }
            },
            "type": "bar"
           }
          ],
          "barpolar": [
           {
            "marker": {
             "line": {
              "color": "#E5ECF6",
              "width": 0.5
             },
             "pattern": {
              "fillmode": "overlay",
              "size": 10,
              "solidity": 0.2
             }
            },
            "type": "barpolar"
           }
          ],
          "carpet": [
           {
            "aaxis": {
             "endlinecolor": "#2a3f5f",
             "gridcolor": "white",
             "linecolor": "white",
             "minorgridcolor": "white",
             "startlinecolor": "#2a3f5f"
            },
            "baxis": {
             "endlinecolor": "#2a3f5f",
             "gridcolor": "white",
             "linecolor": "white",
             "minorgridcolor": "white",
             "startlinecolor": "#2a3f5f"
            },
            "type": "carpet"
           }
          ],
          "choropleth": [
           {
            "colorbar": {
             "outlinewidth": 0,
             "ticks": ""
            },
            "type": "choropleth"
           }
          ],
          "contour": [
           {
            "colorbar": {
             "outlinewidth": 0,
             "ticks": ""
            },
            "colorscale": [
             [
              0,
              "#0d0887"
             ],
             [
              0.1111111111111111,
              "#46039f"
             ],
             [
              0.2222222222222222,
              "#7201a8"
             ],
             [
              0.3333333333333333,
              "#9c179e"
             ],
             [
              0.4444444444444444,
              "#bd3786"
             ],
             [
              0.5555555555555556,
              "#d8576b"
             ],
             [
              0.6666666666666666,
              "#ed7953"
             ],
             [
              0.7777777777777778,
              "#fb9f3a"
             ],
             [
              0.8888888888888888,
              "#fdca26"
             ],
             [
              1,
              "#f0f921"
             ]
            ],
            "type": "contour"
           }
          ],
          "contourcarpet": [
           {
            "colorbar": {
             "outlinewidth": 0,
             "ticks": ""
            },
            "type": "contourcarpet"
           }
          ],
          "heatmap": [
           {
            "colorbar": {
             "outlinewidth": 0,
             "ticks": ""
            },
            "colorscale": [
             [
              0,
              "#0d0887"
             ],
             [
              0.1111111111111111,
              "#46039f"
             ],
             [
              0.2222222222222222,
              "#7201a8"
             ],
             [
              0.3333333333333333,
              "#9c179e"
             ],
             [
              0.4444444444444444,
              "#bd3786"
             ],
             [
              0.5555555555555556,
              "#d8576b"
             ],
             [
              0.6666666666666666,
              "#ed7953"
             ],
             [
              0.7777777777777778,
              "#fb9f3a"
             ],
             [
              0.8888888888888888,
              "#fdca26"
             ],
             [
              1,
              "#f0f921"
             ]
            ],
            "type": "heatmap"
           }
          ],
          "heatmapgl": [
           {
            "colorbar": {
             "outlinewidth": 0,
             "ticks": ""
            },
            "colorscale": [
             [
              0,
              "#0d0887"
             ],
             [
              0.1111111111111111,
              "#46039f"
             ],
             [
              0.2222222222222222,
              "#7201a8"
             ],
             [
              0.3333333333333333,
              "#9c179e"
             ],
             [
              0.4444444444444444,
              "#bd3786"
             ],
             [
              0.5555555555555556,
              "#d8576b"
             ],
             [
              0.6666666666666666,
              "#ed7953"
             ],
             [
              0.7777777777777778,
              "#fb9f3a"
             ],
             [
              0.8888888888888888,
              "#fdca26"
             ],
             [
              1,
              "#f0f921"
             ]
            ],
            "type": "heatmapgl"
           }
          ],
          "histogram": [
           {
            "marker": {
             "pattern": {
              "fillmode": "overlay",
              "size": 10,
              "solidity": 0.2
             }
            },
            "type": "histogram"
           }
          ],
          "histogram2d": [
           {
            "colorbar": {
             "outlinewidth": 0,
             "ticks": ""
            },
            "colorscale": [
             [
              0,
              "#0d0887"
             ],
             [
              0.1111111111111111,
              "#46039f"
             ],
             [
              0.2222222222222222,
              "#7201a8"
             ],
             [
              0.3333333333333333,
              "#9c179e"
             ],
             [
              0.4444444444444444,
              "#bd3786"
             ],
             [
              0.5555555555555556,
              "#d8576b"
             ],
             [
              0.6666666666666666,
              "#ed7953"
             ],
             [
              0.7777777777777778,
              "#fb9f3a"
             ],
             [
              0.8888888888888888,
              "#fdca26"
             ],
             [
              1,
              "#f0f921"
             ]
            ],
            "type": "histogram2d"
           }
          ],
          "histogram2dcontour": [
           {
            "colorbar": {
             "outlinewidth": 0,
             "ticks": ""
            },
            "colorscale": [
             [
              0,
              "#0d0887"
             ],
             [
              0.1111111111111111,
              "#46039f"
             ],
             [
              0.2222222222222222,
              "#7201a8"
             ],
             [
              0.3333333333333333,
              "#9c179e"
             ],
             [
              0.4444444444444444,
              "#bd3786"
             ],
             [
              0.5555555555555556,
              "#d8576b"
             ],
             [
              0.6666666666666666,
              "#ed7953"
             ],
             [
              0.7777777777777778,
              "#fb9f3a"
             ],
             [
              0.8888888888888888,
              "#fdca26"
             ],
             [
              1,
              "#f0f921"
             ]
            ],
            "type": "histogram2dcontour"
           }
          ],
          "mesh3d": [
           {
            "colorbar": {
             "outlinewidth": 0,
             "ticks": ""
            },
            "type": "mesh3d"
           }
          ],
          "parcoords": [
           {
            "line": {
             "colorbar": {
              "outlinewidth": 0,
              "ticks": ""
             }
            },
            "type": "parcoords"
           }
          ],
          "pie": [
           {
            "automargin": true,
            "type": "pie"
           }
          ],
          "scatter": [
           {
            "fillpattern": {
             "fillmode": "overlay",
             "size": 10,
             "solidity": 0.2
            },
            "type": "scatter"
           }
          ],
          "scatter3d": [
           {
            "line": {
             "colorbar": {
              "outlinewidth": 0,
              "ticks": ""
             }
            },
            "marker": {
             "colorbar": {
              "outlinewidth": 0,
              "ticks": ""
             }
            },
            "type": "scatter3d"
           }
          ],
          "scattercarpet": [
           {
            "marker": {
             "colorbar": {
              "outlinewidth": 0,
              "ticks": ""
             }
            },
            "type": "scattercarpet"
           }
          ],
          "scattergeo": [
           {
            "marker": {
             "colorbar": {
              "outlinewidth": 0,
              "ticks": ""
             }
            },
            "type": "scattergeo"
           }
          ],
          "scattergl": [
           {
            "marker": {
             "colorbar": {
              "outlinewidth": 0,
              "ticks": ""
             }
            },
            "type": "scattergl"
           }
          ],
          "scattermapbox": [
           {
            "marker": {
             "colorbar": {
              "outlinewidth": 0,
              "ticks": ""
             }
            },
            "type": "scattermapbox"
           }
          ],
          "scatterpolar": [
           {
            "marker": {
             "colorbar": {
              "outlinewidth": 0,
              "ticks": ""
             }
            },
            "type": "scatterpolar"
           }
          ],
          "scatterpolargl": [
           {
            "marker": {
             "colorbar": {
              "outlinewidth": 0,
              "ticks": ""
             }
            },
            "type": "scatterpolargl"
           }
          ],
          "scatterternary": [
           {
            "marker": {
             "colorbar": {
              "outlinewidth": 0,
              "ticks": ""
             }
            },
            "type": "scatterternary"
           }
          ],
          "surface": [
           {
            "colorbar": {
             "outlinewidth": 0,
             "ticks": ""
            },
            "colorscale": [
             [
              0,
              "#0d0887"
             ],
             [
              0.1111111111111111,
              "#46039f"
             ],
             [
              0.2222222222222222,
              "#7201a8"
             ],
             [
              0.3333333333333333,
              "#9c179e"
             ],
             [
              0.4444444444444444,
              "#bd3786"
             ],
             [
              0.5555555555555556,
              "#d8576b"
             ],
             [
              0.6666666666666666,
              "#ed7953"
             ],
             [
              0.7777777777777778,
              "#fb9f3a"
             ],
             [
              0.8888888888888888,
              "#fdca26"
             ],
             [
              1,
              "#f0f921"
             ]
            ],
            "type": "surface"
           }
          ],
          "table": [
           {
            "cells": {
             "fill": {
              "color": "#EBF0F8"
             },
             "line": {
              "color": "white"
             }
            },
            "header": {
             "fill": {
              "color": "#C8D4E3"
             },
             "line": {
              "color": "white"
             }
            },
            "type": "table"
           }
          ]
         },
         "layout": {
          "annotationdefaults": {
           "arrowcolor": "#2a3f5f",
           "arrowhead": 0,
           "arrowwidth": 1
          },
          "autotypenumbers": "strict",
          "coloraxis": {
           "colorbar": {
            "outlinewidth": 0,
            "ticks": ""
           }
          },
          "colorscale": {
           "diverging": [
            [
             0,
             "#8e0152"
            ],
            [
             0.1,
             "#c51b7d"
            ],
            [
             0.2,
             "#de77ae"
            ],
            [
             0.3,
             "#f1b6da"
            ],
            [
             0.4,
             "#fde0ef"
            ],
            [
             0.5,
             "#f7f7f7"
            ],
            [
             0.6,
             "#e6f5d0"
            ],
            [
             0.7,
             "#b8e186"
            ],
            [
             0.8,
             "#7fbc41"
            ],
            [
             0.9,
             "#4d9221"
            ],
            [
             1,
             "#276419"
            ]
           ],
           "sequential": [
            [
             0,
             "#0d0887"
            ],
            [
             0.1111111111111111,
             "#46039f"
            ],
            [
             0.2222222222222222,
             "#7201a8"
            ],
            [
             0.3333333333333333,
             "#9c179e"
            ],
            [
             0.4444444444444444,
             "#bd3786"
            ],
            [
             0.5555555555555556,
             "#d8576b"
            ],
            [
             0.6666666666666666,
             "#ed7953"
            ],
            [
             0.7777777777777778,
             "#fb9f3a"
            ],
            [
             0.8888888888888888,
             "#fdca26"
            ],
            [
             1,
             "#f0f921"
            ]
           ],
           "sequentialminus": [
            [
             0,
             "#0d0887"
            ],
            [
             0.1111111111111111,
             "#46039f"
            ],
            [
             0.2222222222222222,
             "#7201a8"
            ],
            [
             0.3333333333333333,
             "#9c179e"
            ],
            [
             0.4444444444444444,
             "#bd3786"
            ],
            [
             0.5555555555555556,
             "#d8576b"
            ],
            [
             0.6666666666666666,
             "#ed7953"
            ],
            [
             0.7777777777777778,
             "#fb9f3a"
            ],
            [
             0.8888888888888888,
             "#fdca26"
            ],
            [
             1,
             "#f0f921"
            ]
           ]
          },
          "colorway": [
           "#636efa",
           "#EF553B",
           "#00cc96",
           "#ab63fa",
           "#FFA15A",
           "#19d3f3",
           "#FF6692",
           "#B6E880",
           "#FF97FF",
           "#FECB52"
          ],
          "font": {
           "color": "#2a3f5f"
          },
          "geo": {
           "bgcolor": "white",
           "lakecolor": "white",
           "landcolor": "#E5ECF6",
           "showlakes": true,
           "showland": true,
           "subunitcolor": "white"
          },
          "hoverlabel": {
           "align": "left"
          },
          "hovermode": "closest",
          "mapbox": {
           "style": "light"
          },
          "paper_bgcolor": "white",
          "plot_bgcolor": "#E5ECF6",
          "polar": {
           "angularaxis": {
            "gridcolor": "white",
            "linecolor": "white",
            "ticks": ""
           },
           "bgcolor": "#E5ECF6",
           "radialaxis": {
            "gridcolor": "white",
            "linecolor": "white",
            "ticks": ""
           }
          },
          "scene": {
           "xaxis": {
            "backgroundcolor": "#E5ECF6",
            "gridcolor": "white",
            "gridwidth": 2,
            "linecolor": "white",
            "showbackground": true,
            "ticks": "",
            "zerolinecolor": "white"
           },
           "yaxis": {
            "backgroundcolor": "#E5ECF6",
            "gridcolor": "white",
            "gridwidth": 2,
            "linecolor": "white",
            "showbackground": true,
            "ticks": "",
            "zerolinecolor": "white"
           },
           "zaxis": {
            "backgroundcolor": "#E5ECF6",
            "gridcolor": "white",
            "gridwidth": 2,
            "linecolor": "white",
            "showbackground": true,
            "ticks": "",
            "zerolinecolor": "white"
           }
          },
          "shapedefaults": {
           "line": {
            "color": "#2a3f5f"
           }
          },
          "ternary": {
           "aaxis": {
            "gridcolor": "white",
            "linecolor": "white",
            "ticks": ""
           },
           "baxis": {
            "gridcolor": "white",
            "linecolor": "white",
            "ticks": ""
           },
           "bgcolor": "#E5ECF6",
           "caxis": {
            "gridcolor": "white",
            "linecolor": "white",
            "ticks": ""
           }
          },
          "title": {
           "x": 0.05
          },
          "xaxis": {
           "automargin": true,
           "gridcolor": "white",
           "linecolor": "white",
           "ticks": "",
           "title": {
            "standoff": 15
           },
           "zerolinecolor": "white",
           "zerolinewidth": 2
          },
          "yaxis": {
           "automargin": true,
           "gridcolor": "white",
           "linecolor": "white",
           "ticks": "",
           "title": {
            "standoff": 15
           },
           "zerolinecolor": "white",
           "zerolinewidth": 2
          }
         }
        },
        "title": {
         "text": "Winner's Curse vs. Amount Paid"
        },
        "xaxis": {
         "anchor": "y",
         "domain": [
          0,
          1
         ],
         "title": {
          "text": "Amount Paid for Item"
         }
        },
        "yaxis": {
         "anchor": "x",
         "domain": [
          0,
          1
         ],
         "title": {
          "text": "Average Loser Value - Amount Paid"
         }
        }
       }
      }
     },
     "metadata": {},
     "output_type": "display_data"
    }
   ],
   "source": [
    "fig = px.scatter(df, x=\"winner_amount\", y=\"winner_curse\", color=\"winner_type\", trendline='ols',\n",
    "                 opacity=0.3, title='Winner\\'s Curse vs. Amount Paid')\n",
    "fig.update_traces(marker_size=5)\n",
    "fig.update_xaxes(title='Amount Paid for Item')\n",
    "fig.update_yaxes(title='Average Loser Value - Amount Paid')\n",
    "fig.show()"
   ]
  },
  {
   "cell_type": "code",
   "execution_count": 61,
   "metadata": {},
   "outputs": [
    {
     "data": {
      "application/vnd.plotly.v1+json": {
       "config": {
        "plotlyServerURL": "https://plot.ly"
       },
       "data": [
        {
         "hovertemplate": "winner_type=BIDDER_TYPE.influencer<br>winner_amount=%{x}<br>winner_utility=%{y}<extra></extra>",
         "legendgroup": "BIDDER_TYPE.influencer",
         "marker": {
          "color": "#636efa",
          "opacity": 0.3,
          "size": 5,
          "symbol": "circle"
         },
         "mode": "markers",
         "name": "BIDDER_TYPE.influencer",
         "orientation": "v",
         "showlegend": true,
         "type": "scatter",
         "x": [
          809,
          849,
          627,
          744,
          799,
          922,
          932,
          997,
          750,
          978,
          798,
          829,
          941,
          764,
          869,
          1046,
          734,
          935,
          802,
          960,
          705,
          770,
          872,
          877,
          817,
          1083,
          904,
          829,
          800,
          1003,
          942,
          792,
          881,
          915,
          874,
          935,
          700,
          961,
          1035,
          584,
          1001,
          765,
          907,
          914,
          1065,
          817,
          818,
          922,
          820,
          840,
          888,
          985,
          942,
          908,
          823,
          801,
          910,
          729,
          959,
          958,
          903,
          722,
          895,
          913,
          1139,
          716,
          840,
          973,
          881,
          867,
          853,
          773,
          938,
          852,
          696,
          990,
          901,
          952,
          782,
          900,
          735,
          869,
          851,
          816,
          821,
          898,
          743,
          890,
          823,
          834,
          872,
          903,
          886,
          746,
          959,
          791,
          891,
          733,
          908,
          895,
          1002,
          986,
          736,
          913,
          895,
          797,
          880,
          1054,
          870,
          915,
          858,
          943,
          966,
          913,
          825,
          843,
          854,
          870,
          821,
          890,
          807,
          811,
          757,
          906,
          819,
          845,
          951,
          748,
          833,
          887,
          936,
          879,
          910,
          796,
          864,
          962,
          835,
          826,
          876,
          878,
          891,
          985,
          970,
          770,
          843,
          978,
          855,
          921,
          877,
          923,
          901,
          892,
          856,
          764,
          945,
          691,
          767,
          862,
          1016,
          864,
          882,
          822,
          833,
          912,
          863,
          1103,
          846,
          904,
          804,
          803,
          1034,
          1061,
          956,
          841,
          845,
          943,
          894,
          868,
          1040,
          942,
          864,
          910,
          805,
          815,
          788,
          851,
          761,
          938,
          830,
          1013,
          836,
          625,
          772,
          936,
          756,
          945,
          833,
          798,
          1087,
          903,
          967,
          983,
          765,
          799,
          878,
          880,
          766,
          870,
          1156,
          847,
          851,
          935,
          811,
          914,
          747,
          901,
          1020,
          898,
          979,
          809,
          857,
          864,
          767,
          811,
          804,
          635,
          865,
          995,
          964,
          914,
          946,
          659,
          906,
          929,
          885,
          1009,
          756,
          947,
          704,
          868,
          1042,
          866,
          750,
          846,
          804,
          938,
          853,
          760,
          905,
          998,
          920,
          807,
          786,
          755,
          1079,
          893,
          977,
          879,
          991,
          952,
          874,
          907,
          999,
          1018,
          959,
          996,
          939,
          874,
          870,
          874,
          815,
          762,
          867,
          850,
          763,
          818,
          857,
          844,
          850,
          828,
          914,
          957,
          783,
          735,
          816,
          887,
          947,
          800,
          684,
          784,
          772,
          1007,
          767,
          1064,
          846,
          798,
          778,
          835,
          1133,
          837,
          1086,
          949,
          767,
          749,
          752,
          974,
          894,
          885,
          1040,
          832,
          835,
          851,
          863,
          945,
          711,
          879,
          834,
          825,
          883,
          874,
          911,
          969,
          757,
          778,
          906,
          894,
          880,
          764,
          785,
          918,
          803,
          918,
          761,
          888,
          793,
          734,
          826,
          769,
          910,
          855,
          856,
          970,
          840,
          823,
          930,
          756,
          864,
          884,
          941,
          895,
          930,
          730,
          908,
          857,
          861,
          918,
          867,
          903,
          824,
          973,
          931,
          870,
          669,
          1056,
          941,
          943,
          729,
          872,
          855,
          1045,
          884,
          769,
          828,
          740,
          847,
          859,
          750,
          929,
          1006,
          1059,
          900,
          846,
          940,
          963,
          902,
          921,
          801,
          833,
          869,
          815,
          755,
          797,
          825,
          765,
          995,
          852,
          893,
          1112,
          834,
          844,
          832,
          825,
          962,
          904,
          835,
          830,
          851,
          872,
          798,
          912,
          828,
          941,
          946,
          534,
          875,
          926,
          742,
          803,
          845,
          872,
          733,
          1027,
          896,
          861,
          939,
          897,
          811,
          764,
          945,
          872,
          847,
          775,
          958,
          1051,
          1006,
          763,
          950,
          845,
          556,
          968,
          938,
          823,
          657,
          788,
          847,
          763,
          910,
          864,
          826,
          838,
          895,
          876,
          950,
          833,
          852,
          863,
          802,
          916,
          984,
          870,
          772,
          884,
          848,
          745,
          930,
          940,
          823,
          790,
          859,
          856,
          821,
          1069,
          873,
          826,
          659,
          866,
          969,
          964,
          802,
          860,
          1014,
          776,
          1017,
          663,
          782,
          1028,
          801,
          894,
          927,
          835,
          745,
          861,
          976,
          990,
          922
         ],
         "xaxis": "x",
         "y": [
          69,
          43,
          33,
          113,
          27,
          243,
          51,
          12,
          235,
          48,
          92,
          78,
          42,
          38,
          1,
          7,
          96,
          71,
          163,
          109,
          66,
          76,
          44,
          4,
          178,
          86,
          135,
          190,
          61,
          36,
          44,
          3,
          35,
          34,
          223,
          86,
          97,
          94,
          44,
          109,
          51,
          24,
          4,
          11,
          37,
          61,
          88,
          56,
          44,
          116,
          47,
          38,
          218,
          27,
          23,
          110,
          193,
          40,
          121,
          16,
          168,
          59,
          30,
          226,
          158,
          128,
          111,
          85,
          10,
          16,
          12,
          4,
          44,
          18,
          25,
          81,
          26,
          25,
          83,
          6,
          137,
          87,
          8,
          189,
          74,
          7,
          5,
          10,
          82,
          41,
          13,
          189,
          74,
          73,
          33,
          24,
          9,
          16,
          88,
          24,
          121,
          54,
          121,
          4,
          143,
          135,
          30,
          85,
          7,
          108,
          64,
          37,
          69,
          108,
          61,
          10,
          97,
          90,
          35,
          78,
          20,
          17,
          108,
          79,
          28,
          33,
          24,
          11,
          159,
          72,
          116,
          110,
          20,
          19,
          43,
          132,
          19,
          37,
          120,
          343,
          61,
          129,
          9,
          9,
          13,
          102,
          80,
          101,
          31,
          146,
          246,
          105,
          13,
          226,
          8,
          45,
          36,
          41,
          116,
          37,
          212,
          58,
          44,
          188,
          119,
          85,
          1,
          32,
          16,
          32,
          84,
          26,
          42,
          317,
          41,
          105,
          28,
          86,
          21,
          223,
          5,
          175,
          70,
          15,
          131,
          321,
          77,
          58,
          12,
          188,
          61,
          32,
          11,
          42,
          3,
          191,
          20,
          126,
          93,
          189,
          213,
          245,
          88,
          27,
          126,
          196,
          25,
          32,
          139,
          23,
          40,
          1,
          131,
          91,
          51,
          75,
          101,
          32,
          99,
          141,
          72,
          45,
          8,
          15,
          6,
          94,
          44,
          105,
          174,
          72,
          85,
          50,
          59,
          18,
          155,
          126,
          51,
          185,
          38,
          38,
          324,
          17,
          68,
          74,
          64,
          107,
          58,
          154,
          39,
          156,
          185,
          361,
          120,
          62,
          42,
          26,
          249,
          42,
          61,
          29,
          41,
          15,
          61,
          122,
          31,
          33,
          97,
          82,
          82,
          85,
          98,
          44,
          35,
          52,
          34,
          126,
          15,
          145,
          189,
          11,
          30,
          62,
          180,
          22,
          41,
          354,
          106,
          224,
          154,
          52,
          99,
          66,
          120,
          70,
          14,
          143,
          230,
          8,
          193,
          162,
          4,
          152,
          157,
          218,
          5,
          53,
          84,
          71,
          88,
          68,
          97,
          60,
          75,
          115,
          77,
          140,
          27,
          120,
          10,
          24,
          68,
          64,
          12,
          180,
          10,
          98,
          137,
          27,
          6,
          71,
          115,
          6,
          54,
          248,
          10,
          66,
          13,
          123,
          32,
          168,
          45,
          119,
          15,
          9,
          44,
          53,
          5,
          92,
          24,
          168,
          2,
          11,
          190,
          455,
          36,
          27,
          31,
          26,
          189,
          98,
          113,
          37,
          46,
          24,
          77,
          96,
          228,
          173,
          223,
          2,
          29,
          25,
          103,
          51,
          40,
          199,
          89,
          12,
          96,
          105,
          229,
          99,
          455,
          270,
          39,
          26,
          211,
          44,
          6,
          19,
          247,
          7,
          52,
          42,
          52,
          75,
          115,
          102,
          51,
          94,
          54,
          10,
          102,
          108,
          36,
          1,
          36,
          57,
          32,
          19,
          23,
          23,
          328,
          90,
          45,
          12,
          152,
          147,
          82,
          75,
          35,
          238,
          36,
          19,
          30,
          76,
          29,
          60,
          55,
          137,
          174,
          56,
          18,
          93,
          98,
          154,
          3,
          36,
          67,
          1,
          6,
          167,
          76,
          17,
          20,
          28,
          196,
          39,
          200,
          47,
          106,
          178,
          13,
          68,
          86,
          36,
          73,
          67,
          248,
          78,
          13,
          51,
          12,
          124,
          349,
          93,
          46,
          12,
          56,
          36,
          123,
          23,
          39,
          28,
          113,
          110,
          136,
          131,
          238,
          1,
          92,
          51,
          40,
          12,
          46,
          131,
          17,
          91,
          28,
          151,
          170,
          100,
          44,
          98,
          91
         ],
         "yaxis": "y"
        },
        {
         "hovertemplate": "<b>OLS trendline</b><br>winner_utility = 0.0625652 * winner_amount + 27.8471<br>R<sup>2</sup>=0.006212<br><br>winner_type=BIDDER_TYPE.influencer<br>winner_amount=%{x}<br>winner_utility=%{y} <b>(trend)</b><extra></extra>",
         "legendgroup": "BIDDER_TYPE.influencer",
         "marker": {
          "color": "#636efa",
          "size": 5,
          "symbol": "circle"
         },
         "mode": "lines",
         "name": "BIDDER_TYPE.influencer",
         "showlegend": false,
         "type": "scatter",
         "x": [
          534,
          556,
          584,
          625,
          627,
          635,
          657,
          659,
          659,
          663,
          669,
          684,
          691,
          696,
          700,
          704,
          705,
          711,
          716,
          722,
          729,
          729,
          730,
          733,
          733,
          734,
          734,
          735,
          735,
          736,
          740,
          742,
          743,
          744,
          745,
          745,
          746,
          747,
          748,
          749,
          750,
          750,
          750,
          752,
          755,
          755,
          756,
          756,
          756,
          757,
          757,
          760,
          761,
          761,
          762,
          763,
          763,
          763,
          764,
          764,
          764,
          764,
          765,
          765,
          765,
          766,
          767,
          767,
          767,
          767,
          769,
          769,
          770,
          770,
          772,
          772,
          772,
          773,
          775,
          776,
          778,
          778,
          782,
          782,
          783,
          784,
          785,
          786,
          788,
          788,
          790,
          791,
          792,
          793,
          796,
          797,
          797,
          798,
          798,
          798,
          798,
          799,
          799,
          800,
          800,
          801,
          801,
          801,
          802,
          802,
          802,
          803,
          803,
          803,
          804,
          804,
          804,
          805,
          807,
          807,
          809,
          809,
          811,
          811,
          811,
          811,
          815,
          815,
          815,
          816,
          816,
          817,
          817,
          818,
          818,
          819,
          820,
          821,
          821,
          821,
          822,
          823,
          823,
          823,
          823,
          823,
          824,
          825,
          825,
          825,
          825,
          826,
          826,
          826,
          826,
          828,
          828,
          828,
          829,
          829,
          830,
          830,
          832,
          832,
          833,
          833,
          833,
          833,
          833,
          834,
          834,
          834,
          835,
          835,
          835,
          835,
          835,
          836,
          837,
          838,
          840,
          840,
          840,
          841,
          843,
          843,
          844,
          844,
          845,
          845,
          845,
          845,
          846,
          846,
          846,
          846,
          847,
          847,
          847,
          847,
          848,
          849,
          850,
          850,
          851,
          851,
          851,
          851,
          851,
          852,
          852,
          852,
          853,
          853,
          854,
          855,
          855,
          855,
          856,
          856,
          856,
          857,
          857,
          857,
          858,
          859,
          859,
          860,
          861,
          861,
          861,
          862,
          863,
          863,
          863,
          864,
          864,
          864,
          864,
          864,
          864,
          865,
          866,
          866,
          867,
          867,
          867,
          868,
          868,
          869,
          869,
          869,
          870,
          870,
          870,
          870,
          870,
          870,
          872,
          872,
          872,
          872,
          872,
          872,
          873,
          874,
          874,
          874,
          874,
          874,
          875,
          876,
          876,
          877,
          877,
          878,
          878,
          879,
          879,
          879,
          880,
          880,
          880,
          881,
          881,
          882,
          883,
          884,
          884,
          884,
          885,
          885,
          886,
          887,
          887,
          888,
          888,
          890,
          890,
          891,
          891,
          892,
          893,
          893,
          894,
          894,
          894,
          894,
          895,
          895,
          895,
          895,
          895,
          896,
          897,
          898,
          898,
          900,
          900,
          901,
          901,
          901,
          902,
          903,
          903,
          903,
          903,
          904,
          904,
          904,
          905,
          906,
          906,
          906,
          907,
          907,
          908,
          908,
          908,
          910,
          910,
          910,
          910,
          910,
          911,
          912,
          912,
          913,
          913,
          913,
          914,
          914,
          914,
          914,
          915,
          915,
          916,
          918,
          918,
          918,
          920,
          921,
          921,
          922,
          922,
          922,
          923,
          926,
          927,
          929,
          929,
          930,
          930,
          930,
          931,
          932,
          935,
          935,
          935,
          936,
          936,
          938,
          938,
          938,
          938,
          939,
          939,
          940,
          940,
          941,
          941,
          941,
          941,
          942,
          942,
          942,
          943,
          943,
          943,
          945,
          945,
          945,
          945,
          946,
          946,
          947,
          947,
          949,
          950,
          950,
          951,
          952,
          952,
          956,
          957,
          958,
          958,
          959,
          959,
          959,
          960,
          961,
          962,
          962,
          963,
          964,
          964,
          966,
          967,
          968,
          969,
          969,
          970,
          970,
          973,
          973,
          974,
          976,
          977,
          978,
          978,
          979,
          983,
          984,
          985,
          985,
          986,
          990,
          990,
          991,
          995,
          995,
          996,
          997,
          998,
          999,
          1001,
          1002,
          1003,
          1006,
          1006,
          1007,
          1009,
          1013,
          1014,
          1016,
          1017,
          1018,
          1020,
          1027,
          1028,
          1034,
          1035,
          1040,
          1040,
          1042,
          1045,
          1046,
          1051,
          1054,
          1056,
          1059,
          1061,
          1064,
          1065,
          1069,
          1079,
          1083,
          1086,
          1087,
          1103,
          1112,
          1133,
          1139,
          1156
         ],
         "xaxis": "x",
         "y": [
          61.25692601184042,
          62.633360064769406,
          64.38518522304267,
          66.95035777622851,
          67.0754881446766,
          67.57600961846896,
          68.95244367139793,
          69.07757403984603,
          69.07757403984603,
          69.32783477674221,
          69.70322588208649,
          70.64170364544715,
          71.07965993501546,
          71.39248585613569,
          71.64274659303186,
          71.89300732992805,
          71.9555725141521,
          72.33096361949637,
          72.64378954061658,
          73.01918064596086,
          73.45713693552918,
          73.45713693552918,
          73.51970211975322,
          73.70739767242534,
          73.70739767242534,
          73.76996285664939,
          73.76996285664939,
          73.83252804087344,
          73.83252804087344,
          73.89509322509748,
          74.14535396199366,
          74.27048433044175,
          74.33304951466579,
          74.39561469888984,
          74.45817988311389,
          74.45817988311389,
          74.52074506733794,
          74.58331025156198,
          74.64587543578602,
          74.70844062001007,
          74.77100580423411,
          74.77100580423411,
          74.77100580423411,
          74.8961361726822,
          75.08383172535434,
          75.08383172535434,
          75.14639690957839,
          75.14639690957839,
          75.14639690957839,
          75.20896209380243,
          75.20896209380243,
          75.39665764647455,
          75.45922283069861,
          75.45922283069861,
          75.52178801492265,
          75.5843531991467,
          75.5843531991467,
          75.5843531991467,
          75.64691838337075,
          75.64691838337075,
          75.64691838337075,
          75.64691838337075,
          75.70948356759479,
          75.70948356759479,
          75.70948356759479,
          75.77204875181883,
          75.83461393604287,
          75.83461393604287,
          75.83461393604287,
          75.83461393604287,
          75.95974430449095,
          75.95974430449095,
          76.02230948871501,
          76.02230948871501,
          76.1474398571631,
          76.1474398571631,
          76.1474398571631,
          76.21000504138715,
          76.33513540983523,
          76.39770059405927,
          76.52283096250737,
          76.52283096250737,
          76.77309169940355,
          76.77309169940355,
          76.83565688362759,
          76.89822206785163,
          76.96078725207568,
          77.02335243629972,
          77.14848280474781,
          77.14848280474781,
          77.27361317319591,
          77.33617835741995,
          77.398743541644,
          77.46130872586804,
          77.64900427854018,
          77.71156946276422,
          77.71156946276422,
          77.77413464698827,
          77.77413464698827,
          77.77413464698827,
          77.77413464698827,
          77.83669983121231,
          77.83669983121231,
          77.89926501543636,
          77.89926501543636,
          77.9618301996604,
          77.9618301996604,
          77.9618301996604,
          78.02439538388444,
          78.02439538388444,
          78.02439538388444,
          78.08696056810848,
          78.08696056810848,
          78.08696056810848,
          78.14952575233254,
          78.14952575233254,
          78.14952575233254,
          78.21209093655658,
          78.33722130500468,
          78.33722130500468,
          78.46235167345276,
          78.46235167345276,
          78.58748204190084,
          78.58748204190084,
          78.58748204190084,
          78.58748204190084,
          78.83774277879704,
          78.83774277879704,
          78.83774277879704,
          78.90030796302108,
          78.90030796302108,
          78.96287314724512,
          78.96287314724512,
          79.02543833146916,
          79.02543833146916,
          79.0880035156932,
          79.15056869991724,
          79.2131338841413,
          79.2131338841413,
          79.2131338841413,
          79.27569906836534,
          79.3382642525894,
          79.3382642525894,
          79.3382642525894,
          79.3382642525894,
          79.3382642525894,
          79.40082943681344,
          79.46339462103748,
          79.46339462103748,
          79.46339462103748,
          79.46339462103748,
          79.52595980526152,
          79.52595980526152,
          79.52595980526152,
          79.52595980526152,
          79.6510901737096,
          79.6510901737096,
          79.6510901737096,
          79.71365535793365,
          79.71365535793365,
          79.7762205421577,
          79.7762205421577,
          79.9013509106058,
          79.9013509106058,
          79.96391609482984,
          79.96391609482984,
          79.96391609482984,
          79.96391609482984,
          79.96391609482984,
          80.02648127905388,
          80.02648127905388,
          80.02648127905388,
          80.08904646327792,
          80.08904646327792,
          80.08904646327792,
          80.08904646327792,
          80.08904646327792,
          80.15161164750197,
          80.21417683172601,
          80.27674201595006,
          80.40187238439815,
          80.40187238439815,
          80.40187238439815,
          80.4644375686222,
          80.58956793707029,
          80.58956793707029,
          80.65213312129433,
          80.65213312129433,
          80.71469830551837,
          80.71469830551837,
          80.71469830551837,
          80.71469830551837,
          80.77726348974241,
          80.77726348974241,
          80.77726348974241,
          80.77726348974241,
          80.83982867396647,
          80.83982867396647,
          80.83982867396647,
          80.83982867396647,
          80.9023938581905,
          80.96495904241456,
          81.0275242266386,
          81.0275242266386,
          81.09008941086265,
          81.09008941086265,
          81.09008941086265,
          81.09008941086265,
          81.09008941086265,
          81.15265459508669,
          81.15265459508669,
          81.15265459508669,
          81.21521977931073,
          81.21521977931073,
          81.27778496353477,
          81.34035014775881,
          81.34035014775881,
          81.34035014775881,
          81.40291533198287,
          81.40291533198287,
          81.40291533198287,
          81.46548051620691,
          81.46548051620691,
          81.46548051620691,
          81.52804570043097,
          81.590610884655,
          81.590610884655,
          81.65317606887905,
          81.71574125310309,
          81.71574125310309,
          81.71574125310309,
          81.77830643732713,
          81.84087162155117,
          81.84087162155117,
          81.84087162155117,
          81.90343680577523,
          81.90343680577523,
          81.90343680577523,
          81.90343680577523,
          81.90343680577523,
          81.90343680577523,
          81.96600198999927,
          82.02856717422333,
          82.02856717422333,
          82.09113235844737,
          82.09113235844737,
          82.09113235844737,
          82.15369754267141,
          82.15369754267141,
          82.21626272689545,
          82.21626272689545,
          82.21626272689545,
          82.27882791111949,
          82.27882791111949,
          82.27882791111949,
          82.27882791111949,
          82.27882791111949,
          82.27882791111949,
          82.40395827956758,
          82.40395827956758,
          82.40395827956758,
          82.40395827956758,
          82.40395827956758,
          82.40395827956758,
          82.46652346379163,
          82.52908864801567,
          82.52908864801567,
          82.52908864801567,
          82.52908864801567,
          82.52908864801567,
          82.59165383223973,
          82.65421901646377,
          82.65421901646377,
          82.71678420068781,
          82.71678420068781,
          82.77934938491185,
          82.77934938491185,
          82.8419145691359,
          82.8419145691359,
          82.8419145691359,
          82.90447975335994,
          82.90447975335994,
          82.90447975335994,
          82.96704493758399,
          82.96704493758399,
          83.02961012180803,
          83.09217530603208,
          83.15474049025613,
          83.15474049025613,
          83.15474049025613,
          83.21730567448017,
          83.21730567448017,
          83.27987085870421,
          83.34243604292826,
          83.34243604292826,
          83.4050012271523,
          83.4050012271523,
          83.5301315956004,
          83.5301315956004,
          83.59269677982444,
          83.59269677982444,
          83.65526196404849,
          83.71782714827253,
          83.71782714827253,
          83.78039233249658,
          83.78039233249658,
          83.78039233249658,
          83.78039233249658,
          83.84295751672062,
          83.84295751672062,
          83.84295751672062,
          83.84295751672062,
          83.84295751672062,
          83.90552270094466,
          83.9680878851687,
          84.03065306939274,
          84.03065306939274,
          84.15578343784084,
          84.15578343784084,
          84.2183486220649,
          84.2183486220649,
          84.2183486220649,
          84.28091380628894,
          84.34347899051298,
          84.34347899051298,
          84.34347899051298,
          84.34347899051298,
          84.40604417473702,
          84.40604417473702,
          84.40604417473702,
          84.46860935896106,
          84.5311745431851,
          84.5311745431851,
          84.5311745431851,
          84.59373972740916,
          84.59373972740916,
          84.6563049116332,
          84.6563049116332,
          84.6563049116332,
          84.7814352800813,
          84.7814352800813,
          84.7814352800813,
          84.7814352800813,
          84.7814352800813,
          84.84400046430534,
          84.90656564852938,
          84.90656564852938,
          84.96913083275342,
          84.96913083275342,
          84.96913083275342,
          85.03169601697746,
          85.03169601697746,
          85.03169601697746,
          85.03169601697746,
          85.0942612012015,
          85.0942612012015,
          85.15682638542556,
          85.28195675387366,
          85.28195675387366,
          85.28195675387366,
          85.40708712232174,
          85.46965230654578,
          85.46965230654578,
          85.53221749076982,
          85.53221749076982,
          85.53221749076982,
          85.59478267499387,
          85.782478227666,
          85.84504341189006,
          85.97017378033814,
          85.97017378033814,
          86.03273896456218,
          86.03273896456218,
          86.03273896456218,
          86.09530414878623,
          86.15786933301027,
          86.34556488568242,
          86.34556488568242,
          86.34556488568242,
          86.40813006990646,
          86.40813006990646,
          86.53326043835455,
          86.53326043835455,
          86.53326043835455,
          86.53326043835455,
          86.59582562257859,
          86.59582562257859,
          86.65839080680263,
          86.65839080680263,
          86.72095599102667,
          86.72095599102667,
          86.72095599102667,
          86.72095599102667,
          86.78352117525073,
          86.78352117525073,
          86.78352117525073,
          86.84608635947477,
          86.84608635947477,
          86.84608635947477,
          86.97121672792287,
          86.97121672792287,
          86.97121672792287,
          86.97121672792287,
          87.0337819121469,
          87.0337819121469,
          87.09634709637095,
          87.09634709637095,
          87.22147746481903,
          87.28404264904309,
          87.28404264904309,
          87.34660783326713,
          87.40917301749118,
          87.40917301749118,
          87.65943375438735,
          87.72199893861139,
          87.78456412283543,
          87.78456412283543,
          87.84712930705949,
          87.84712930705949,
          87.84712930705949,
          87.90969449128353,
          87.97225967550759,
          88.03482485973163,
          88.03482485973163,
          88.09739004395567,
          88.15995522817971,
          88.15995522817971,
          88.2850855966278,
          88.34765078085185,
          88.41021596507589,
          88.47278114929993,
          88.47278114929993,
          88.53534633352399,
          88.53534633352399,
          88.72304188619611,
          88.72304188619611,
          88.78560707042016,
          88.91073743886825,
          88.9733026230923,
          89.03586780731635,
          89.03586780731635,
          89.09843299154039,
          89.34869372843656,
          89.4112589126606,
          89.47382409688466,
          89.47382409688466,
          89.5363892811087,
          89.78665001800488,
          89.78665001800488,
          89.84921520222892,
          90.09947593912511,
          90.09947593912511,
          90.16204112334916,
          90.2246063075732,
          90.28717149179724,
          90.34973667602128,
          90.47486704446936,
          90.53743222869342,
          90.59999741291746,
          90.7876929655896,
          90.7876929655896,
          90.85025814981364,
          90.97538851826172,
          91.22564925515792,
          91.28821443938196,
          91.41334480783004,
          91.47590999205408,
          91.53847517627813,
          91.66360554472622,
          92.10156183429454,
          92.16412701851858,
          92.53951812386285,
          92.6020833080869,
          92.91490922920713,
          92.91490922920713,
          93.04003959765521,
          93.22773515032735,
          93.29030033455139,
          93.60312625567161,
          93.79082180834375,
          93.91595217679183,
          94.10364772946397,
          94.22877809791207,
          94.4164736505842,
          94.47903883480825,
          94.72929957170442,
          95.35495141394487,
          95.60521215084106,
          95.79290770351318,
          95.85547288773724,
          96.85651583532194,
          97.41960249333835,
          98.73347136204329,
          99.10886246738757,
          100.17247059919633
         ],
         "yaxis": "y"
        },
        {
         "hovertemplate": "winner_type=BIDDER_TYPE.reactor<br>winner_amount=%{x}<br>winner_utility=%{y}<extra></extra>",
         "legendgroup": "BIDDER_TYPE.reactor",
         "marker": {
          "color": "#EF553B",
          "opacity": 0.3,
          "size": 5,
          "symbol": "circle"
         },
         "mode": "markers",
         "name": "BIDDER_TYPE.reactor",
         "orientation": "v",
         "showlegend": true,
         "type": "scatter",
         "x": [
          894,
          792,
          813,
          816,
          703
         ],
         "xaxis": "x",
         "y": [
          31,
          56,
          49,
          24,
          5
         ],
         "yaxis": "y"
        },
        {
         "hovertemplate": "<b>OLS trendline</b><br>winner_utility = 0.128982 * winner_amount + -70.6503<br>R<sup>2</sup>=0.187781<br><br>winner_type=BIDDER_TYPE.reactor<br>winner_amount=%{x}<br>winner_utility=%{y} <b>(trend)</b><extra></extra>",
         "legendgroup": "BIDDER_TYPE.reactor",
         "marker": {
          "color": "#EF553B",
          "size": 5,
          "symbol": "circle"
         },
         "mode": "lines",
         "name": "BIDDER_TYPE.reactor",
         "showlegend": false,
         "type": "scatter",
         "x": [
          703,
          792,
          813,
          816,
          894
         ],
         "xaxis": "x",
         "y": [
          20.02436097958136,
          31.50380305529967,
          34.212435455188256,
          34.59938294088663,
          44.66001756904424
         ],
         "yaxis": "y"
        }
       ],
       "layout": {
        "legend": {
         "title": {
          "text": "winner_type"
         },
         "tracegroupgap": 0
        },
        "template": {
         "data": {
          "bar": [
           {
            "error_x": {
             "color": "#2a3f5f"
            },
            "error_y": {
             "color": "#2a3f5f"
            },
            "marker": {
             "line": {
              "color": "#E5ECF6",
              "width": 0.5
             },
             "pattern": {
              "fillmode": "overlay",
              "size": 10,
              "solidity": 0.2
             }
            },
            "type": "bar"
           }
          ],
          "barpolar": [
           {
            "marker": {
             "line": {
              "color": "#E5ECF6",
              "width": 0.5
             },
             "pattern": {
              "fillmode": "overlay",
              "size": 10,
              "solidity": 0.2
             }
            },
            "type": "barpolar"
           }
          ],
          "carpet": [
           {
            "aaxis": {
             "endlinecolor": "#2a3f5f",
             "gridcolor": "white",
             "linecolor": "white",
             "minorgridcolor": "white",
             "startlinecolor": "#2a3f5f"
            },
            "baxis": {
             "endlinecolor": "#2a3f5f",
             "gridcolor": "white",
             "linecolor": "white",
             "minorgridcolor": "white",
             "startlinecolor": "#2a3f5f"
            },
            "type": "carpet"
           }
          ],
          "choropleth": [
           {
            "colorbar": {
             "outlinewidth": 0,
             "ticks": ""
            },
            "type": "choropleth"
           }
          ],
          "contour": [
           {
            "colorbar": {
             "outlinewidth": 0,
             "ticks": ""
            },
            "colorscale": [
             [
              0,
              "#0d0887"
             ],
             [
              0.1111111111111111,
              "#46039f"
             ],
             [
              0.2222222222222222,
              "#7201a8"
             ],
             [
              0.3333333333333333,
              "#9c179e"
             ],
             [
              0.4444444444444444,
              "#bd3786"
             ],
             [
              0.5555555555555556,
              "#d8576b"
             ],
             [
              0.6666666666666666,
              "#ed7953"
             ],
             [
              0.7777777777777778,
              "#fb9f3a"
             ],
             [
              0.8888888888888888,
              "#fdca26"
             ],
             [
              1,
              "#f0f921"
             ]
            ],
            "type": "contour"
           }
          ],
          "contourcarpet": [
           {
            "colorbar": {
             "outlinewidth": 0,
             "ticks": ""
            },
            "type": "contourcarpet"
           }
          ],
          "heatmap": [
           {
            "colorbar": {
             "outlinewidth": 0,
             "ticks": ""
            },
            "colorscale": [
             [
              0,
              "#0d0887"
             ],
             [
              0.1111111111111111,
              "#46039f"
             ],
             [
              0.2222222222222222,
              "#7201a8"
             ],
             [
              0.3333333333333333,
              "#9c179e"
             ],
             [
              0.4444444444444444,
              "#bd3786"
             ],
             [
              0.5555555555555556,
              "#d8576b"
             ],
             [
              0.6666666666666666,
              "#ed7953"
             ],
             [
              0.7777777777777778,
              "#fb9f3a"
             ],
             [
              0.8888888888888888,
              "#fdca26"
             ],
             [
              1,
              "#f0f921"
             ]
            ],
            "type": "heatmap"
           }
          ],
          "heatmapgl": [
           {
            "colorbar": {
             "outlinewidth": 0,
             "ticks": ""
            },
            "colorscale": [
             [
              0,
              "#0d0887"
             ],
             [
              0.1111111111111111,
              "#46039f"
             ],
             [
              0.2222222222222222,
              "#7201a8"
             ],
             [
              0.3333333333333333,
              "#9c179e"
             ],
             [
              0.4444444444444444,
              "#bd3786"
             ],
             [
              0.5555555555555556,
              "#d8576b"
             ],
             [
              0.6666666666666666,
              "#ed7953"
             ],
             [
              0.7777777777777778,
              "#fb9f3a"
             ],
             [
              0.8888888888888888,
              "#fdca26"
             ],
             [
              1,
              "#f0f921"
             ]
            ],
            "type": "heatmapgl"
           }
          ],
          "histogram": [
           {
            "marker": {
             "pattern": {
              "fillmode": "overlay",
              "size": 10,
              "solidity": 0.2
             }
            },
            "type": "histogram"
           }
          ],
          "histogram2d": [
           {
            "colorbar": {
             "outlinewidth": 0,
             "ticks": ""
            },
            "colorscale": [
             [
              0,
              "#0d0887"
             ],
             [
              0.1111111111111111,
              "#46039f"
             ],
             [
              0.2222222222222222,
              "#7201a8"
             ],
             [
              0.3333333333333333,
              "#9c179e"
             ],
             [
              0.4444444444444444,
              "#bd3786"
             ],
             [
              0.5555555555555556,
              "#d8576b"
             ],
             [
              0.6666666666666666,
              "#ed7953"
             ],
             [
              0.7777777777777778,
              "#fb9f3a"
             ],
             [
              0.8888888888888888,
              "#fdca26"
             ],
             [
              1,
              "#f0f921"
             ]
            ],
            "type": "histogram2d"
           }
          ],
          "histogram2dcontour": [
           {
            "colorbar": {
             "outlinewidth": 0,
             "ticks": ""
            },
            "colorscale": [
             [
              0,
              "#0d0887"
             ],
             [
              0.1111111111111111,
              "#46039f"
             ],
             [
              0.2222222222222222,
              "#7201a8"
             ],
             [
              0.3333333333333333,
              "#9c179e"
             ],
             [
              0.4444444444444444,
              "#bd3786"
             ],
             [
              0.5555555555555556,
              "#d8576b"
             ],
             [
              0.6666666666666666,
              "#ed7953"
             ],
             [
              0.7777777777777778,
              "#fb9f3a"
             ],
             [
              0.8888888888888888,
              "#fdca26"
             ],
             [
              1,
              "#f0f921"
             ]
            ],
            "type": "histogram2dcontour"
           }
          ],
          "mesh3d": [
           {
            "colorbar": {
             "outlinewidth": 0,
             "ticks": ""
            },
            "type": "mesh3d"
           }
          ],
          "parcoords": [
           {
            "line": {
             "colorbar": {
              "outlinewidth": 0,
              "ticks": ""
             }
            },
            "type": "parcoords"
           }
          ],
          "pie": [
           {
            "automargin": true,
            "type": "pie"
           }
          ],
          "scatter": [
           {
            "fillpattern": {
             "fillmode": "overlay",
             "size": 10,
             "solidity": 0.2
            },
            "type": "scatter"
           }
          ],
          "scatter3d": [
           {
            "line": {
             "colorbar": {
              "outlinewidth": 0,
              "ticks": ""
             }
            },
            "marker": {
             "colorbar": {
              "outlinewidth": 0,
              "ticks": ""
             }
            },
            "type": "scatter3d"
           }
          ],
          "scattercarpet": [
           {
            "marker": {
             "colorbar": {
              "outlinewidth": 0,
              "ticks": ""
             }
            },
            "type": "scattercarpet"
           }
          ],
          "scattergeo": [
           {
            "marker": {
             "colorbar": {
              "outlinewidth": 0,
              "ticks": ""
             }
            },
            "type": "scattergeo"
           }
          ],
          "scattergl": [
           {
            "marker": {
             "colorbar": {
              "outlinewidth": 0,
              "ticks": ""
             }
            },
            "type": "scattergl"
           }
          ],
          "scattermapbox": [
           {
            "marker": {
             "colorbar": {
              "outlinewidth": 0,
              "ticks": ""
             }
            },
            "type": "scattermapbox"
           }
          ],
          "scatterpolar": [
           {
            "marker": {
             "colorbar": {
              "outlinewidth": 0,
              "ticks": ""
             }
            },
            "type": "scatterpolar"
           }
          ],
          "scatterpolargl": [
           {
            "marker": {
             "colorbar": {
              "outlinewidth": 0,
              "ticks": ""
             }
            },
            "type": "scatterpolargl"
           }
          ],
          "scatterternary": [
           {
            "marker": {
             "colorbar": {
              "outlinewidth": 0,
              "ticks": ""
             }
            },
            "type": "scatterternary"
           }
          ],
          "surface": [
           {
            "colorbar": {
             "outlinewidth": 0,
             "ticks": ""
            },
            "colorscale": [
             [
              0,
              "#0d0887"
             ],
             [
              0.1111111111111111,
              "#46039f"
             ],
             [
              0.2222222222222222,
              "#7201a8"
             ],
             [
              0.3333333333333333,
              "#9c179e"
             ],
             [
              0.4444444444444444,
              "#bd3786"
             ],
             [
              0.5555555555555556,
              "#d8576b"
             ],
             [
              0.6666666666666666,
              "#ed7953"
             ],
             [
              0.7777777777777778,
              "#fb9f3a"
             ],
             [
              0.8888888888888888,
              "#fdca26"
             ],
             [
              1,
              "#f0f921"
             ]
            ],
            "type": "surface"
           }
          ],
          "table": [
           {
            "cells": {
             "fill": {
              "color": "#EBF0F8"
             },
             "line": {
              "color": "white"
             }
            },
            "header": {
             "fill": {
              "color": "#C8D4E3"
             },
             "line": {
              "color": "white"
             }
            },
            "type": "table"
           }
          ]
         },
         "layout": {
          "annotationdefaults": {
           "arrowcolor": "#2a3f5f",
           "arrowhead": 0,
           "arrowwidth": 1
          },
          "autotypenumbers": "strict",
          "coloraxis": {
           "colorbar": {
            "outlinewidth": 0,
            "ticks": ""
           }
          },
          "colorscale": {
           "diverging": [
            [
             0,
             "#8e0152"
            ],
            [
             0.1,
             "#c51b7d"
            ],
            [
             0.2,
             "#de77ae"
            ],
            [
             0.3,
             "#f1b6da"
            ],
            [
             0.4,
             "#fde0ef"
            ],
            [
             0.5,
             "#f7f7f7"
            ],
            [
             0.6,
             "#e6f5d0"
            ],
            [
             0.7,
             "#b8e186"
            ],
            [
             0.8,
             "#7fbc41"
            ],
            [
             0.9,
             "#4d9221"
            ],
            [
             1,
             "#276419"
            ]
           ],
           "sequential": [
            [
             0,
             "#0d0887"
            ],
            [
             0.1111111111111111,
             "#46039f"
            ],
            [
             0.2222222222222222,
             "#7201a8"
            ],
            [
             0.3333333333333333,
             "#9c179e"
            ],
            [
             0.4444444444444444,
             "#bd3786"
            ],
            [
             0.5555555555555556,
             "#d8576b"
            ],
            [
             0.6666666666666666,
             "#ed7953"
            ],
            [
             0.7777777777777778,
             "#fb9f3a"
            ],
            [
             0.8888888888888888,
             "#fdca26"
            ],
            [
             1,
             "#f0f921"
            ]
           ],
           "sequentialminus": [
            [
             0,
             "#0d0887"
            ],
            [
             0.1111111111111111,
             "#46039f"
            ],
            [
             0.2222222222222222,
             "#7201a8"
            ],
            [
             0.3333333333333333,
             "#9c179e"
            ],
            [
             0.4444444444444444,
             "#bd3786"
            ],
            [
             0.5555555555555556,
             "#d8576b"
            ],
            [
             0.6666666666666666,
             "#ed7953"
            ],
            [
             0.7777777777777778,
             "#fb9f3a"
            ],
            [
             0.8888888888888888,
             "#fdca26"
            ],
            [
             1,
             "#f0f921"
            ]
           ]
          },
          "colorway": [
           "#636efa",
           "#EF553B",
           "#00cc96",
           "#ab63fa",
           "#FFA15A",
           "#19d3f3",
           "#FF6692",
           "#B6E880",
           "#FF97FF",
           "#FECB52"
          ],
          "font": {
           "color": "#2a3f5f"
          },
          "geo": {
           "bgcolor": "white",
           "lakecolor": "white",
           "landcolor": "#E5ECF6",
           "showlakes": true,
           "showland": true,
           "subunitcolor": "white"
          },
          "hoverlabel": {
           "align": "left"
          },
          "hovermode": "closest",
          "mapbox": {
           "style": "light"
          },
          "paper_bgcolor": "white",
          "plot_bgcolor": "#E5ECF6",
          "polar": {
           "angularaxis": {
            "gridcolor": "white",
            "linecolor": "white",
            "ticks": ""
           },
           "bgcolor": "#E5ECF6",
           "radialaxis": {
            "gridcolor": "white",
            "linecolor": "white",
            "ticks": ""
           }
          },
          "scene": {
           "xaxis": {
            "backgroundcolor": "#E5ECF6",
            "gridcolor": "white",
            "gridwidth": 2,
            "linecolor": "white",
            "showbackground": true,
            "ticks": "",
            "zerolinecolor": "white"
           },
           "yaxis": {
            "backgroundcolor": "#E5ECF6",
            "gridcolor": "white",
            "gridwidth": 2,
            "linecolor": "white",
            "showbackground": true,
            "ticks": "",
            "zerolinecolor": "white"
           },
           "zaxis": {
            "backgroundcolor": "#E5ECF6",
            "gridcolor": "white",
            "gridwidth": 2,
            "linecolor": "white",
            "showbackground": true,
            "ticks": "",
            "zerolinecolor": "white"
           }
          },
          "shapedefaults": {
           "line": {
            "color": "#2a3f5f"
           }
          },
          "ternary": {
           "aaxis": {
            "gridcolor": "white",
            "linecolor": "white",
            "ticks": ""
           },
           "baxis": {
            "gridcolor": "white",
            "linecolor": "white",
            "ticks": ""
           },
           "bgcolor": "#E5ECF6",
           "caxis": {
            "gridcolor": "white",
            "linecolor": "white",
            "ticks": ""
           }
          },
          "title": {
           "x": 0.05
          },
          "xaxis": {
           "automargin": true,
           "gridcolor": "white",
           "linecolor": "white",
           "ticks": "",
           "title": {
            "standoff": 15
           },
           "zerolinecolor": "white",
           "zerolinewidth": 2
          },
          "yaxis": {
           "automargin": true,
           "gridcolor": "white",
           "linecolor": "white",
           "ticks": "",
           "title": {
            "standoff": 15
           },
           "zerolinecolor": "white",
           "zerolinewidth": 2
          }
         }
        },
        "title": {
         "text": "Winner Utility vs. Amount Paid"
        },
        "xaxis": {
         "anchor": "y",
         "domain": [
          0,
          1
         ],
         "title": {
          "text": "Amount Paid for Item"
         }
        },
        "yaxis": {
         "anchor": "x",
         "domain": [
          0,
          1
         ],
         "title": {
          "text": "Winner Utility"
         }
        }
       }
      }
     },
     "metadata": {},
     "output_type": "display_data"
    }
   ],
   "source": [
    "fig = px.scatter(df, x=\"winner_amount\", y=\"winner_utility\", color=\"winner_type\", trendline='ols',\n",
    "                 opacity=0.3, title='Winner Utility vs. Amount Paid')\n",
    "fig.update_traces(marker_size=5)\n",
    "fig.update_xaxes(title='Amount Paid for Item')\n",
    "fig.update_yaxes(title='Winner Utility')\n",
    "fig.show()"
   ]
  },
  {
   "cell_type": "code",
   "execution_count": 62,
   "metadata": {},
   "outputs": [
    {
     "data": {
      "application/vnd.plotly.v1+json": {
       "config": {
        "plotlyServerURL": "https://plot.ly"
       },
       "data": [
        {
         "alignmentgroup": "True",
         "bingroup": "x",
         "hovertemplate": "variable=0<br>value=%{x}<br>count=%{y}<extra></extra>",
         "legendgroup": "0",
         "marker": {
          "color": "#636efa",
          "pattern": {
           "shape": ""
          }
         },
         "name": "0",
         "offsetgroup": "0",
         "orientation": "v",
         "showlegend": true,
         "type": "histogram",
         "x": [
          "BIDDER_TYPE.influencer",
          "BIDDER_TYPE.influencer",
          "BIDDER_TYPE.influencer",
          "BIDDER_TYPE.influencer",
          "BIDDER_TYPE.influencer",
          "BIDDER_TYPE.influencer",
          "BIDDER_TYPE.influencer",
          "BIDDER_TYPE.influencer",
          "BIDDER_TYPE.influencer",
          "BIDDER_TYPE.influencer",
          "BIDDER_TYPE.influencer",
          "BIDDER_TYPE.influencer",
          "BIDDER_TYPE.influencer",
          "BIDDER_TYPE.influencer",
          "BIDDER_TYPE.influencer",
          "BIDDER_TYPE.influencer",
          "BIDDER_TYPE.influencer",
          "BIDDER_TYPE.influencer",
          "BIDDER_TYPE.influencer",
          "BIDDER_TYPE.influencer",
          "BIDDER_TYPE.influencer",
          "BIDDER_TYPE.influencer",
          "BIDDER_TYPE.influencer",
          "BIDDER_TYPE.influencer",
          "BIDDER_TYPE.influencer",
          "BIDDER_TYPE.influencer",
          "BIDDER_TYPE.influencer",
          "BIDDER_TYPE.influencer",
          "BIDDER_TYPE.influencer",
          "BIDDER_TYPE.influencer",
          "BIDDER_TYPE.influencer",
          "BIDDER_TYPE.influencer",
          "BIDDER_TYPE.influencer",
          "BIDDER_TYPE.influencer",
          "BIDDER_TYPE.influencer",
          "BIDDER_TYPE.influencer",
          "BIDDER_TYPE.influencer",
          "BIDDER_TYPE.influencer",
          "BIDDER_TYPE.influencer",
          "BIDDER_TYPE.influencer",
          "BIDDER_TYPE.influencer",
          "BIDDER_TYPE.influencer",
          "BIDDER_TYPE.influencer",
          "BIDDER_TYPE.influencer",
          "BIDDER_TYPE.influencer",
          "BIDDER_TYPE.influencer",
          "BIDDER_TYPE.influencer",
          "BIDDER_TYPE.influencer",
          "BIDDER_TYPE.influencer",
          "BIDDER_TYPE.influencer",
          "BIDDER_TYPE.influencer",
          "BIDDER_TYPE.influencer",
          "BIDDER_TYPE.influencer",
          "BIDDER_TYPE.influencer",
          "BIDDER_TYPE.influencer",
          "BIDDER_TYPE.influencer",
          "BIDDER_TYPE.influencer",
          "BIDDER_TYPE.influencer",
          "BIDDER_TYPE.influencer",
          "BIDDER_TYPE.influencer",
          "BIDDER_TYPE.influencer",
          "BIDDER_TYPE.influencer",
          "BIDDER_TYPE.influencer",
          "BIDDER_TYPE.influencer",
          "BIDDER_TYPE.influencer",
          "BIDDER_TYPE.influencer",
          "BIDDER_TYPE.influencer",
          "BIDDER_TYPE.reactor",
          "BIDDER_TYPE.influencer",
          "BIDDER_TYPE.influencer",
          "BIDDER_TYPE.influencer",
          "BIDDER_TYPE.influencer",
          "BIDDER_TYPE.influencer",
          "BIDDER_TYPE.influencer",
          "BIDDER_TYPE.influencer",
          "BIDDER_TYPE.influencer",
          "BIDDER_TYPE.influencer",
          "BIDDER_TYPE.influencer",
          "BIDDER_TYPE.influencer",
          "BIDDER_TYPE.influencer",
          "BIDDER_TYPE.influencer",
          "BIDDER_TYPE.influencer",
          "BIDDER_TYPE.influencer",
          "BIDDER_TYPE.influencer",
          "BIDDER_TYPE.influencer",
          "BIDDER_TYPE.influencer",
          "BIDDER_TYPE.influencer",
          "BIDDER_TYPE.influencer",
          "BIDDER_TYPE.influencer",
          "BIDDER_TYPE.influencer",
          "BIDDER_TYPE.influencer",
          "BIDDER_TYPE.reactor",
          "BIDDER_TYPE.influencer",
          "BIDDER_TYPE.influencer",
          "BIDDER_TYPE.influencer",
          "BIDDER_TYPE.influencer",
          "BIDDER_TYPE.influencer",
          "BIDDER_TYPE.influencer",
          "BIDDER_TYPE.influencer",
          "BIDDER_TYPE.influencer",
          "BIDDER_TYPE.influencer",
          "BIDDER_TYPE.influencer",
          "BIDDER_TYPE.influencer",
          "BIDDER_TYPE.influencer",
          "BIDDER_TYPE.influencer",
          "BIDDER_TYPE.influencer",
          "BIDDER_TYPE.influencer",
          "BIDDER_TYPE.influencer",
          "BIDDER_TYPE.influencer",
          "BIDDER_TYPE.influencer",
          "BIDDER_TYPE.influencer",
          "BIDDER_TYPE.influencer",
          "BIDDER_TYPE.reactor",
          "BIDDER_TYPE.influencer",
          "BIDDER_TYPE.influencer",
          "BIDDER_TYPE.influencer",
          "BIDDER_TYPE.influencer",
          "BIDDER_TYPE.influencer",
          "BIDDER_TYPE.influencer",
          "BIDDER_TYPE.influencer",
          "BIDDER_TYPE.influencer",
          "BIDDER_TYPE.influencer",
          "BIDDER_TYPE.influencer",
          "BIDDER_TYPE.influencer",
          "BIDDER_TYPE.influencer",
          "BIDDER_TYPE.influencer",
          "BIDDER_TYPE.influencer",
          "BIDDER_TYPE.influencer",
          "BIDDER_TYPE.influencer",
          "BIDDER_TYPE.influencer",
          "BIDDER_TYPE.influencer",
          "BIDDER_TYPE.influencer",
          "BIDDER_TYPE.influencer",
          "BIDDER_TYPE.influencer",
          "BIDDER_TYPE.influencer",
          "BIDDER_TYPE.influencer",
          "BIDDER_TYPE.influencer",
          "BIDDER_TYPE.influencer",
          "BIDDER_TYPE.influencer",
          "BIDDER_TYPE.influencer",
          "BIDDER_TYPE.influencer",
          "BIDDER_TYPE.influencer",
          "BIDDER_TYPE.influencer",
          "BIDDER_TYPE.influencer",
          "BIDDER_TYPE.influencer",
          "BIDDER_TYPE.influencer",
          "BIDDER_TYPE.influencer",
          "BIDDER_TYPE.influencer",
          "BIDDER_TYPE.influencer",
          "BIDDER_TYPE.influencer",
          "BIDDER_TYPE.influencer",
          "BIDDER_TYPE.influencer",
          "BIDDER_TYPE.influencer",
          "BIDDER_TYPE.influencer",
          "BIDDER_TYPE.influencer",
          "BIDDER_TYPE.influencer",
          "BIDDER_TYPE.influencer",
          "BIDDER_TYPE.influencer",
          "BIDDER_TYPE.influencer",
          "BIDDER_TYPE.influencer",
          "BIDDER_TYPE.influencer",
          "BIDDER_TYPE.influencer",
          "BIDDER_TYPE.influencer",
          "BIDDER_TYPE.influencer",
          "BIDDER_TYPE.influencer",
          "BIDDER_TYPE.influencer",
          "BIDDER_TYPE.influencer",
          "BIDDER_TYPE.influencer",
          "BIDDER_TYPE.influencer",
          "BIDDER_TYPE.influencer",
          "BIDDER_TYPE.influencer",
          "BIDDER_TYPE.influencer",
          "BIDDER_TYPE.influencer",
          "BIDDER_TYPE.influencer",
          "BIDDER_TYPE.influencer",
          "BIDDER_TYPE.influencer",
          "BIDDER_TYPE.influencer",
          "BIDDER_TYPE.influencer",
          "BIDDER_TYPE.influencer",
          "BIDDER_TYPE.influencer",
          "BIDDER_TYPE.influencer",
          "BIDDER_TYPE.influencer",
          "BIDDER_TYPE.influencer",
          "BIDDER_TYPE.influencer",
          "BIDDER_TYPE.influencer",
          "BIDDER_TYPE.influencer",
          "BIDDER_TYPE.influencer",
          "BIDDER_TYPE.influencer",
          "BIDDER_TYPE.influencer",
          "BIDDER_TYPE.influencer",
          "BIDDER_TYPE.influencer",
          "BIDDER_TYPE.influencer",
          "BIDDER_TYPE.influencer",
          "BIDDER_TYPE.influencer",
          "BIDDER_TYPE.influencer",
          "BIDDER_TYPE.influencer",
          "BIDDER_TYPE.influencer",
          "BIDDER_TYPE.influencer",
          "BIDDER_TYPE.influencer",
          "BIDDER_TYPE.influencer",
          "BIDDER_TYPE.influencer",
          "BIDDER_TYPE.influencer",
          "BIDDER_TYPE.influencer",
          "BIDDER_TYPE.influencer",
          "BIDDER_TYPE.influencer",
          "BIDDER_TYPE.influencer",
          "BIDDER_TYPE.influencer",
          "BIDDER_TYPE.influencer",
          "BIDDER_TYPE.influencer",
          "BIDDER_TYPE.influencer",
          "BIDDER_TYPE.influencer",
          "BIDDER_TYPE.influencer",
          "BIDDER_TYPE.influencer",
          "BIDDER_TYPE.influencer",
          "BIDDER_TYPE.influencer",
          "BIDDER_TYPE.reactor",
          "BIDDER_TYPE.influencer",
          "BIDDER_TYPE.influencer",
          "BIDDER_TYPE.influencer",
          "BIDDER_TYPE.influencer",
          "BIDDER_TYPE.influencer",
          "BIDDER_TYPE.influencer",
          "BIDDER_TYPE.influencer",
          "BIDDER_TYPE.influencer",
          "BIDDER_TYPE.influencer",
          "BIDDER_TYPE.influencer",
          "BIDDER_TYPE.influencer",
          "BIDDER_TYPE.influencer",
          "BIDDER_TYPE.influencer",
          "BIDDER_TYPE.influencer",
          "BIDDER_TYPE.influencer",
          "BIDDER_TYPE.influencer",
          "BIDDER_TYPE.influencer",
          "BIDDER_TYPE.influencer",
          "BIDDER_TYPE.influencer",
          "BIDDER_TYPE.influencer",
          "BIDDER_TYPE.influencer",
          "BIDDER_TYPE.influencer",
          "BIDDER_TYPE.influencer",
          "BIDDER_TYPE.influencer",
          "BIDDER_TYPE.influencer",
          "BIDDER_TYPE.influencer",
          "BIDDER_TYPE.influencer",
          "BIDDER_TYPE.influencer",
          "BIDDER_TYPE.influencer",
          "BIDDER_TYPE.influencer",
          "BIDDER_TYPE.influencer",
          "BIDDER_TYPE.influencer",
          "BIDDER_TYPE.influencer",
          "BIDDER_TYPE.influencer",
          "BIDDER_TYPE.influencer",
          "BIDDER_TYPE.influencer",
          "BIDDER_TYPE.influencer",
          "BIDDER_TYPE.influencer",
          "BIDDER_TYPE.influencer",
          "BIDDER_TYPE.influencer",
          "BIDDER_TYPE.influencer",
          "BIDDER_TYPE.influencer",
          "BIDDER_TYPE.influencer",
          "BIDDER_TYPE.influencer",
          "BIDDER_TYPE.influencer",
          "BIDDER_TYPE.influencer",
          "BIDDER_TYPE.influencer",
          "BIDDER_TYPE.influencer",
          "BIDDER_TYPE.influencer",
          "BIDDER_TYPE.influencer",
          "BIDDER_TYPE.influencer",
          "BIDDER_TYPE.influencer",
          "BIDDER_TYPE.influencer",
          "BIDDER_TYPE.influencer",
          "BIDDER_TYPE.influencer",
          "BIDDER_TYPE.influencer",
          "BIDDER_TYPE.influencer",
          "BIDDER_TYPE.influencer",
          "BIDDER_TYPE.influencer",
          "BIDDER_TYPE.influencer",
          "BIDDER_TYPE.influencer",
          "BIDDER_TYPE.influencer",
          "BIDDER_TYPE.influencer",
          "BIDDER_TYPE.influencer",
          "BIDDER_TYPE.influencer",
          "BIDDER_TYPE.influencer",
          "BIDDER_TYPE.influencer",
          "BIDDER_TYPE.influencer",
          "BIDDER_TYPE.influencer",
          "BIDDER_TYPE.influencer",
          "BIDDER_TYPE.influencer",
          "BIDDER_TYPE.influencer",
          "BIDDER_TYPE.influencer",
          "BIDDER_TYPE.influencer",
          "BIDDER_TYPE.influencer",
          "BIDDER_TYPE.influencer",
          "BIDDER_TYPE.influencer",
          "BIDDER_TYPE.influencer",
          "BIDDER_TYPE.influencer",
          "BIDDER_TYPE.influencer",
          "BIDDER_TYPE.influencer",
          "BIDDER_TYPE.influencer",
          "BIDDER_TYPE.influencer",
          "BIDDER_TYPE.influencer",
          "BIDDER_TYPE.influencer",
          "BIDDER_TYPE.influencer",
          "BIDDER_TYPE.influencer",
          "BIDDER_TYPE.influencer",
          "BIDDER_TYPE.influencer",
          "BIDDER_TYPE.influencer",
          "BIDDER_TYPE.influencer",
          "BIDDER_TYPE.influencer",
          "BIDDER_TYPE.influencer",
          "BIDDER_TYPE.influencer",
          "BIDDER_TYPE.influencer",
          "BIDDER_TYPE.influencer",
          "BIDDER_TYPE.influencer",
          "BIDDER_TYPE.influencer",
          "BIDDER_TYPE.influencer",
          "BIDDER_TYPE.influencer",
          "BIDDER_TYPE.influencer",
          "BIDDER_TYPE.influencer",
          "BIDDER_TYPE.influencer",
          "BIDDER_TYPE.influencer",
          "BIDDER_TYPE.influencer",
          "BIDDER_TYPE.influencer",
          "BIDDER_TYPE.influencer",
          "BIDDER_TYPE.influencer",
          "BIDDER_TYPE.influencer",
          "BIDDER_TYPE.influencer",
          "BIDDER_TYPE.influencer",
          "BIDDER_TYPE.influencer",
          "BIDDER_TYPE.influencer",
          "BIDDER_TYPE.influencer",
          "BIDDER_TYPE.influencer",
          "BIDDER_TYPE.influencer",
          "BIDDER_TYPE.influencer",
          "BIDDER_TYPE.influencer",
          "BIDDER_TYPE.influencer",
          "BIDDER_TYPE.influencer",
          "BIDDER_TYPE.influencer",
          "BIDDER_TYPE.influencer",
          "BIDDER_TYPE.influencer",
          "BIDDER_TYPE.influencer",
          "BIDDER_TYPE.influencer",
          "BIDDER_TYPE.influencer",
          "BIDDER_TYPE.influencer",
          "BIDDER_TYPE.influencer",
          "BIDDER_TYPE.influencer",
          "BIDDER_TYPE.influencer",
          "BIDDER_TYPE.influencer",
          "BIDDER_TYPE.influencer",
          "BIDDER_TYPE.influencer",
          "BIDDER_TYPE.influencer",
          "BIDDER_TYPE.influencer",
          "BIDDER_TYPE.influencer",
          "BIDDER_TYPE.influencer",
          "BIDDER_TYPE.influencer",
          "BIDDER_TYPE.influencer",
          "BIDDER_TYPE.influencer",
          "BIDDER_TYPE.influencer",
          "BIDDER_TYPE.influencer",
          "BIDDER_TYPE.influencer",
          "BIDDER_TYPE.influencer",
          "BIDDER_TYPE.influencer",
          "BIDDER_TYPE.influencer",
          "BIDDER_TYPE.influencer",
          "BIDDER_TYPE.influencer",
          "BIDDER_TYPE.influencer",
          "BIDDER_TYPE.influencer",
          "BIDDER_TYPE.influencer",
          "BIDDER_TYPE.influencer",
          "BIDDER_TYPE.influencer",
          "BIDDER_TYPE.influencer",
          "BIDDER_TYPE.influencer",
          "BIDDER_TYPE.influencer",
          "BIDDER_TYPE.influencer",
          "BIDDER_TYPE.influencer",
          "BIDDER_TYPE.influencer",
          "BIDDER_TYPE.influencer",
          "BIDDER_TYPE.influencer",
          "BIDDER_TYPE.influencer",
          "BIDDER_TYPE.influencer",
          "BIDDER_TYPE.influencer",
          "BIDDER_TYPE.influencer",
          "BIDDER_TYPE.influencer",
          "BIDDER_TYPE.influencer",
          "BIDDER_TYPE.influencer",
          "BIDDER_TYPE.influencer",
          "BIDDER_TYPE.influencer",
          "BIDDER_TYPE.influencer",
          "BIDDER_TYPE.influencer",
          "BIDDER_TYPE.influencer",
          "BIDDER_TYPE.influencer",
          "BIDDER_TYPE.influencer",
          "BIDDER_TYPE.influencer",
          "BIDDER_TYPE.influencer",
          "BIDDER_TYPE.influencer",
          "BIDDER_TYPE.influencer",
          "BIDDER_TYPE.influencer",
          "BIDDER_TYPE.influencer",
          "BIDDER_TYPE.influencer",
          "BIDDER_TYPE.influencer",
          "BIDDER_TYPE.influencer",
          "BIDDER_TYPE.influencer",
          "BIDDER_TYPE.influencer",
          "BIDDER_TYPE.influencer",
          "BIDDER_TYPE.influencer",
          "BIDDER_TYPE.influencer",
          "BIDDER_TYPE.influencer",
          "BIDDER_TYPE.influencer",
          "BIDDER_TYPE.influencer",
          "BIDDER_TYPE.influencer",
          "BIDDER_TYPE.influencer",
          "BIDDER_TYPE.influencer",
          "BIDDER_TYPE.influencer",
          "BIDDER_TYPE.influencer",
          "BIDDER_TYPE.influencer",
          "BIDDER_TYPE.influencer",
          "BIDDER_TYPE.influencer",
          "BIDDER_TYPE.influencer",
          "BIDDER_TYPE.influencer",
          "BIDDER_TYPE.influencer",
          "BIDDER_TYPE.influencer",
          "BIDDER_TYPE.influencer",
          "BIDDER_TYPE.influencer",
          "BIDDER_TYPE.influencer",
          "BIDDER_TYPE.influencer",
          "BIDDER_TYPE.influencer",
          "BIDDER_TYPE.influencer",
          "BIDDER_TYPE.influencer",
          "BIDDER_TYPE.influencer",
          "BIDDER_TYPE.influencer",
          "BIDDER_TYPE.influencer",
          "BIDDER_TYPE.influencer",
          "BIDDER_TYPE.influencer",
          "BIDDER_TYPE.influencer",
          "BIDDER_TYPE.influencer",
          "BIDDER_TYPE.influencer",
          "BIDDER_TYPE.influencer",
          "BIDDER_TYPE.influencer",
          "BIDDER_TYPE.influencer",
          "BIDDER_TYPE.influencer",
          "BIDDER_TYPE.influencer",
          "BIDDER_TYPE.reactor",
          "BIDDER_TYPE.influencer",
          "BIDDER_TYPE.influencer",
          "BIDDER_TYPE.influencer",
          "BIDDER_TYPE.influencer",
          "BIDDER_TYPE.influencer",
          "BIDDER_TYPE.influencer",
          "BIDDER_TYPE.influencer",
          "BIDDER_TYPE.influencer",
          "BIDDER_TYPE.influencer",
          "BIDDER_TYPE.influencer",
          "BIDDER_TYPE.influencer",
          "BIDDER_TYPE.influencer",
          "BIDDER_TYPE.influencer",
          "BIDDER_TYPE.influencer",
          "BIDDER_TYPE.influencer",
          "BIDDER_TYPE.influencer",
          "BIDDER_TYPE.influencer",
          "BIDDER_TYPE.influencer",
          "BIDDER_TYPE.influencer",
          "BIDDER_TYPE.influencer",
          "BIDDER_TYPE.influencer",
          "BIDDER_TYPE.influencer",
          "BIDDER_TYPE.influencer",
          "BIDDER_TYPE.influencer",
          "BIDDER_TYPE.influencer",
          "BIDDER_TYPE.influencer",
          "BIDDER_TYPE.influencer",
          "BIDDER_TYPE.influencer",
          "BIDDER_TYPE.influencer",
          "BIDDER_TYPE.influencer",
          "BIDDER_TYPE.influencer",
          "BIDDER_TYPE.influencer",
          "BIDDER_TYPE.influencer",
          "BIDDER_TYPE.influencer",
          "BIDDER_TYPE.influencer",
          "BIDDER_TYPE.influencer",
          "BIDDER_TYPE.influencer",
          "BIDDER_TYPE.influencer",
          "BIDDER_TYPE.influencer",
          "BIDDER_TYPE.influencer",
          "BIDDER_TYPE.influencer",
          "BIDDER_TYPE.influencer",
          "BIDDER_TYPE.influencer",
          "BIDDER_TYPE.influencer",
          "BIDDER_TYPE.influencer",
          "BIDDER_TYPE.influencer",
          "BIDDER_TYPE.influencer",
          "BIDDER_TYPE.influencer",
          "BIDDER_TYPE.influencer",
          "BIDDER_TYPE.influencer",
          "BIDDER_TYPE.influencer",
          "BIDDER_TYPE.influencer",
          "BIDDER_TYPE.influencer",
          "BIDDER_TYPE.influencer",
          "BIDDER_TYPE.influencer",
          "BIDDER_TYPE.influencer",
          "BIDDER_TYPE.influencer",
          "BIDDER_TYPE.influencer",
          "BIDDER_TYPE.influencer"
         ],
         "xaxis": "x",
         "yaxis": "y"
        }
       ],
       "layout": {
        "barmode": "relative",
        "legend": {
         "title": {
          "text": "variable"
         },
         "tracegroupgap": 0
        },
        "margin": {
         "t": 60
        },
        "template": {
         "data": {
          "bar": [
           {
            "error_x": {
             "color": "#2a3f5f"
            },
            "error_y": {
             "color": "#2a3f5f"
            },
            "marker": {
             "line": {
              "color": "#E5ECF6",
              "width": 0.5
             },
             "pattern": {
              "fillmode": "overlay",
              "size": 10,
              "solidity": 0.2
             }
            },
            "type": "bar"
           }
          ],
          "barpolar": [
           {
            "marker": {
             "line": {
              "color": "#E5ECF6",
              "width": 0.5
             },
             "pattern": {
              "fillmode": "overlay",
              "size": 10,
              "solidity": 0.2
             }
            },
            "type": "barpolar"
           }
          ],
          "carpet": [
           {
            "aaxis": {
             "endlinecolor": "#2a3f5f",
             "gridcolor": "white",
             "linecolor": "white",
             "minorgridcolor": "white",
             "startlinecolor": "#2a3f5f"
            },
            "baxis": {
             "endlinecolor": "#2a3f5f",
             "gridcolor": "white",
             "linecolor": "white",
             "minorgridcolor": "white",
             "startlinecolor": "#2a3f5f"
            },
            "type": "carpet"
           }
          ],
          "choropleth": [
           {
            "colorbar": {
             "outlinewidth": 0,
             "ticks": ""
            },
            "type": "choropleth"
           }
          ],
          "contour": [
           {
            "colorbar": {
             "outlinewidth": 0,
             "ticks": ""
            },
            "colorscale": [
             [
              0,
              "#0d0887"
             ],
             [
              0.1111111111111111,
              "#46039f"
             ],
             [
              0.2222222222222222,
              "#7201a8"
             ],
             [
              0.3333333333333333,
              "#9c179e"
             ],
             [
              0.4444444444444444,
              "#bd3786"
             ],
             [
              0.5555555555555556,
              "#d8576b"
             ],
             [
              0.6666666666666666,
              "#ed7953"
             ],
             [
              0.7777777777777778,
              "#fb9f3a"
             ],
             [
              0.8888888888888888,
              "#fdca26"
             ],
             [
              1,
              "#f0f921"
             ]
            ],
            "type": "contour"
           }
          ],
          "contourcarpet": [
           {
            "colorbar": {
             "outlinewidth": 0,
             "ticks": ""
            },
            "type": "contourcarpet"
           }
          ],
          "heatmap": [
           {
            "colorbar": {
             "outlinewidth": 0,
             "ticks": ""
            },
            "colorscale": [
             [
              0,
              "#0d0887"
             ],
             [
              0.1111111111111111,
              "#46039f"
             ],
             [
              0.2222222222222222,
              "#7201a8"
             ],
             [
              0.3333333333333333,
              "#9c179e"
             ],
             [
              0.4444444444444444,
              "#bd3786"
             ],
             [
              0.5555555555555556,
              "#d8576b"
             ],
             [
              0.6666666666666666,
              "#ed7953"
             ],
             [
              0.7777777777777778,
              "#fb9f3a"
             ],
             [
              0.8888888888888888,
              "#fdca26"
             ],
             [
              1,
              "#f0f921"
             ]
            ],
            "type": "heatmap"
           }
          ],
          "heatmapgl": [
           {
            "colorbar": {
             "outlinewidth": 0,
             "ticks": ""
            },
            "colorscale": [
             [
              0,
              "#0d0887"
             ],
             [
              0.1111111111111111,
              "#46039f"
             ],
             [
              0.2222222222222222,
              "#7201a8"
             ],
             [
              0.3333333333333333,
              "#9c179e"
             ],
             [
              0.4444444444444444,
              "#bd3786"
             ],
             [
              0.5555555555555556,
              "#d8576b"
             ],
             [
              0.6666666666666666,
              "#ed7953"
             ],
             [
              0.7777777777777778,
              "#fb9f3a"
             ],
             [
              0.8888888888888888,
              "#fdca26"
             ],
             [
              1,
              "#f0f921"
             ]
            ],
            "type": "heatmapgl"
           }
          ],
          "histogram": [
           {
            "marker": {
             "pattern": {
              "fillmode": "overlay",
              "size": 10,
              "solidity": 0.2
             }
            },
            "type": "histogram"
           }
          ],
          "histogram2d": [
           {
            "colorbar": {
             "outlinewidth": 0,
             "ticks": ""
            },
            "colorscale": [
             [
              0,
              "#0d0887"
             ],
             [
              0.1111111111111111,
              "#46039f"
             ],
             [
              0.2222222222222222,
              "#7201a8"
             ],
             [
              0.3333333333333333,
              "#9c179e"
             ],
             [
              0.4444444444444444,
              "#bd3786"
             ],
             [
              0.5555555555555556,
              "#d8576b"
             ],
             [
              0.6666666666666666,
              "#ed7953"
             ],
             [
              0.7777777777777778,
              "#fb9f3a"
             ],
             [
              0.8888888888888888,
              "#fdca26"
             ],
             [
              1,
              "#f0f921"
             ]
            ],
            "type": "histogram2d"
           }
          ],
          "histogram2dcontour": [
           {
            "colorbar": {
             "outlinewidth": 0,
             "ticks": ""
            },
            "colorscale": [
             [
              0,
              "#0d0887"
             ],
             [
              0.1111111111111111,
              "#46039f"
             ],
             [
              0.2222222222222222,
              "#7201a8"
             ],
             [
              0.3333333333333333,
              "#9c179e"
             ],
             [
              0.4444444444444444,
              "#bd3786"
             ],
             [
              0.5555555555555556,
              "#d8576b"
             ],
             [
              0.6666666666666666,
              "#ed7953"
             ],
             [
              0.7777777777777778,
              "#fb9f3a"
             ],
             [
              0.8888888888888888,
              "#fdca26"
             ],
             [
              1,
              "#f0f921"
             ]
            ],
            "type": "histogram2dcontour"
           }
          ],
          "mesh3d": [
           {
            "colorbar": {
             "outlinewidth": 0,
             "ticks": ""
            },
            "type": "mesh3d"
           }
          ],
          "parcoords": [
           {
            "line": {
             "colorbar": {
              "outlinewidth": 0,
              "ticks": ""
             }
            },
            "type": "parcoords"
           }
          ],
          "pie": [
           {
            "automargin": true,
            "type": "pie"
           }
          ],
          "scatter": [
           {
            "fillpattern": {
             "fillmode": "overlay",
             "size": 10,
             "solidity": 0.2
            },
            "type": "scatter"
           }
          ],
          "scatter3d": [
           {
            "line": {
             "colorbar": {
              "outlinewidth": 0,
              "ticks": ""
             }
            },
            "marker": {
             "colorbar": {
              "outlinewidth": 0,
              "ticks": ""
             }
            },
            "type": "scatter3d"
           }
          ],
          "scattercarpet": [
           {
            "marker": {
             "colorbar": {
              "outlinewidth": 0,
              "ticks": ""
             }
            },
            "type": "scattercarpet"
           }
          ],
          "scattergeo": [
           {
            "marker": {
             "colorbar": {
              "outlinewidth": 0,
              "ticks": ""
             }
            },
            "type": "scattergeo"
           }
          ],
          "scattergl": [
           {
            "marker": {
             "colorbar": {
              "outlinewidth": 0,
              "ticks": ""
             }
            },
            "type": "scattergl"
           }
          ],
          "scattermapbox": [
           {
            "marker": {
             "colorbar": {
              "outlinewidth": 0,
              "ticks": ""
             }
            },
            "type": "scattermapbox"
           }
          ],
          "scatterpolar": [
           {
            "marker": {
             "colorbar": {
              "outlinewidth": 0,
              "ticks": ""
             }
            },
            "type": "scatterpolar"
           }
          ],
          "scatterpolargl": [
           {
            "marker": {
             "colorbar": {
              "outlinewidth": 0,
              "ticks": ""
             }
            },
            "type": "scatterpolargl"
           }
          ],
          "scatterternary": [
           {
            "marker": {
             "colorbar": {
              "outlinewidth": 0,
              "ticks": ""
             }
            },
            "type": "scatterternary"
           }
          ],
          "surface": [
           {
            "colorbar": {
             "outlinewidth": 0,
             "ticks": ""
            },
            "colorscale": [
             [
              0,
              "#0d0887"
             ],
             [
              0.1111111111111111,
              "#46039f"
             ],
             [
              0.2222222222222222,
              "#7201a8"
             ],
             [
              0.3333333333333333,
              "#9c179e"
             ],
             [
              0.4444444444444444,
              "#bd3786"
             ],
             [
              0.5555555555555556,
              "#d8576b"
             ],
             [
              0.6666666666666666,
              "#ed7953"
             ],
             [
              0.7777777777777778,
              "#fb9f3a"
             ],
             [
              0.8888888888888888,
              "#fdca26"
             ],
             [
              1,
              "#f0f921"
             ]
            ],
            "type": "surface"
           }
          ],
          "table": [
           {
            "cells": {
             "fill": {
              "color": "#EBF0F8"
             },
             "line": {
              "color": "white"
             }
            },
            "header": {
             "fill": {
              "color": "#C8D4E3"
             },
             "line": {
              "color": "white"
             }
            },
            "type": "table"
           }
          ]
         },
         "layout": {
          "annotationdefaults": {
           "arrowcolor": "#2a3f5f",
           "arrowhead": 0,
           "arrowwidth": 1
          },
          "autotypenumbers": "strict",
          "coloraxis": {
           "colorbar": {
            "outlinewidth": 0,
            "ticks": ""
           }
          },
          "colorscale": {
           "diverging": [
            [
             0,
             "#8e0152"
            ],
            [
             0.1,
             "#c51b7d"
            ],
            [
             0.2,
             "#de77ae"
            ],
            [
             0.3,
             "#f1b6da"
            ],
            [
             0.4,
             "#fde0ef"
            ],
            [
             0.5,
             "#f7f7f7"
            ],
            [
             0.6,
             "#e6f5d0"
            ],
            [
             0.7,
             "#b8e186"
            ],
            [
             0.8,
             "#7fbc41"
            ],
            [
             0.9,
             "#4d9221"
            ],
            [
             1,
             "#276419"
            ]
           ],
           "sequential": [
            [
             0,
             "#0d0887"
            ],
            [
             0.1111111111111111,
             "#46039f"
            ],
            [
             0.2222222222222222,
             "#7201a8"
            ],
            [
             0.3333333333333333,
             "#9c179e"
            ],
            [
             0.4444444444444444,
             "#bd3786"
            ],
            [
             0.5555555555555556,
             "#d8576b"
            ],
            [
             0.6666666666666666,
             "#ed7953"
            ],
            [
             0.7777777777777778,
             "#fb9f3a"
            ],
            [
             0.8888888888888888,
             "#fdca26"
            ],
            [
             1,
             "#f0f921"
            ]
           ],
           "sequentialminus": [
            [
             0,
             "#0d0887"
            ],
            [
             0.1111111111111111,
             "#46039f"
            ],
            [
             0.2222222222222222,
             "#7201a8"
            ],
            [
             0.3333333333333333,
             "#9c179e"
            ],
            [
             0.4444444444444444,
             "#bd3786"
            ],
            [
             0.5555555555555556,
             "#d8576b"
            ],
            [
             0.6666666666666666,
             "#ed7953"
            ],
            [
             0.7777777777777778,
             "#fb9f3a"
            ],
            [
             0.8888888888888888,
             "#fdca26"
            ],
            [
             1,
             "#f0f921"
            ]
           ]
          },
          "colorway": [
           "#636efa",
           "#EF553B",
           "#00cc96",
           "#ab63fa",
           "#FFA15A",
           "#19d3f3",
           "#FF6692",
           "#B6E880",
           "#FF97FF",
           "#FECB52"
          ],
          "font": {
           "color": "#2a3f5f"
          },
          "geo": {
           "bgcolor": "white",
           "lakecolor": "white",
           "landcolor": "#E5ECF6",
           "showlakes": true,
           "showland": true,
           "subunitcolor": "white"
          },
          "hoverlabel": {
           "align": "left"
          },
          "hovermode": "closest",
          "mapbox": {
           "style": "light"
          },
          "paper_bgcolor": "white",
          "plot_bgcolor": "#E5ECF6",
          "polar": {
           "angularaxis": {
            "gridcolor": "white",
            "linecolor": "white",
            "ticks": ""
           },
           "bgcolor": "#E5ECF6",
           "radialaxis": {
            "gridcolor": "white",
            "linecolor": "white",
            "ticks": ""
           }
          },
          "scene": {
           "xaxis": {
            "backgroundcolor": "#E5ECF6",
            "gridcolor": "white",
            "gridwidth": 2,
            "linecolor": "white",
            "showbackground": true,
            "ticks": "",
            "zerolinecolor": "white"
           },
           "yaxis": {
            "backgroundcolor": "#E5ECF6",
            "gridcolor": "white",
            "gridwidth": 2,
            "linecolor": "white",
            "showbackground": true,
            "ticks": "",
            "zerolinecolor": "white"
           },
           "zaxis": {
            "backgroundcolor": "#E5ECF6",
            "gridcolor": "white",
            "gridwidth": 2,
            "linecolor": "white",
            "showbackground": true,
            "ticks": "",
            "zerolinecolor": "white"
           }
          },
          "shapedefaults": {
           "line": {
            "color": "#2a3f5f"
           }
          },
          "ternary": {
           "aaxis": {
            "gridcolor": "white",
            "linecolor": "white",
            "ticks": ""
           },
           "baxis": {
            "gridcolor": "white",
            "linecolor": "white",
            "ticks": ""
           },
           "bgcolor": "#E5ECF6",
           "caxis": {
            "gridcolor": "white",
            "linecolor": "white",
            "ticks": ""
           }
          },
          "title": {
           "x": 0.05
          },
          "xaxis": {
           "automargin": true,
           "gridcolor": "white",
           "linecolor": "white",
           "ticks": "",
           "title": {
            "standoff": 15
           },
           "zerolinecolor": "white",
           "zerolinewidth": 2
          },
          "yaxis": {
           "automargin": true,
           "gridcolor": "white",
           "linecolor": "white",
           "ticks": "",
           "title": {
            "standoff": 15
           },
           "zerolinecolor": "white",
           "zerolinewidth": 2
          }
         }
        },
        "xaxis": {
         "anchor": "y",
         "domain": [
          0,
          1
         ],
         "title": {
          "text": "Winner Bidder Type"
         }
        },
        "yaxis": {
         "anchor": "x",
         "domain": [
          0,
          1
         ],
         "title": {
          "text": "Count"
         }
        }
       }
      }
     },
     "metadata": {},
     "output_type": "display_data"
    }
   ],
   "source": [
    "# ---WINNING BIDDER TYPE---\n",
    "\n",
    "fig = px.histogram(map(lambda type: str(type), df['winner_type']))\n",
    "fig.update_xaxes(title='Winner Bidder Type')\n",
    "fig.update_yaxes(title='Count')\n",
    "fig.show()\n"
   ]
  },
  {
   "cell_type": "code",
   "execution_count": 63,
   "metadata": {},
   "outputs": [
    {
     "data": {
      "application/vnd.plotly.v1+json": {
       "config": {
        "plotlyServerURL": "https://plot.ly"
       },
       "data": [
        {
         "hovertemplate": "winner_type=BIDDER_TYPE.influencer<br>winner_std=%{x}<br>winner_std_self=%{y}<extra></extra>",
         "legendgroup": "BIDDER_TYPE.influencer",
         "marker": {
          "color": "#636efa",
          "opacity": 0.3,
          "size": 5,
          "symbol": "circle"
         },
         "mode": "markers",
         "name": "BIDDER_TYPE.influencer",
         "orientation": "v",
         "showlegend": true,
         "type": "scatter",
         "x": [
          52.3879880611761,
          58.47362022800741,
          48.022816589376795,
          58.84892903955917,
          47.61414260376149,
          51.22703003247955,
          58.79028372163853,
          43.952232336172464,
          58.408297794418196,
          58.83861946291869,
          48.84620500699481,
          58.5665072724667,
          37.200180283949045,
          58.71462658852663,
          40.52433429741602,
          46.738767549158666,
          54.75909106348602,
          47.389849223756556,
          69.74351563499087,
          58.72845611577351,
          58.809551480678,
          55.89103154734901,
          44.58005294858675,
          46.87627875548585,
          58.41882580229245,
          58.8458014922845,
          46.174050935175266,
          41.343255785111886,
          45.73619117354685,
          58.210293750368066,
          46.98992023785263,
          46.904357100925466,
          42.192983599938955,
          44.103483216432345,
          56.1679769001883,
          42.24221165957082,
          58.110210117709954,
          43.950807933359584,
          46.67116062069535,
          40.53905881403182,
          40.04421425639399,
          39.8210556821099,
          47.65796199256273,
          41.87984257911356,
          31.18627817538167,
          47.26710998571285,
          57.15758559470067,
          58.12750947670862,
          56.166954885772185,
          34.83254624990222,
          56.38282089011046,
          47.98670167772145,
          53.215878361760396,
          58.863884678674985,
          58.03384931532023,
          47.657531206867034,
          60.97505662711811,
          48.04788103878393,
          50.06596513225571,
          47.82966935743718,
          46.37301913204066,
          57.91972651488689,
          58.7188875051542,
          57.610535221680145,
          21.849627918051738,
          47.09427539493786,
          52.34893253364485,
          58.47569432887193,
          58.048376496353356,
          37.52481593615696,
          47.66710011156809,
          40.89243894551903,
          57.53110181900052,
          26.653209842686337,
          47.520861026147145,
          50.24565643499838,
          51.6772904136374,
          48.000492737772014,
          51.55575241767167,
          47.301266065466294,
          47.46728390738746,
          47.47379441720108,
          47.870706937116225,
          52.41610221084219,
          58.462169453365384,
          47.6513782908392,
          46.3295706191532,
          47.88260953481515,
          52.312281517401225,
          58.683191635003126,
          47.664219590696725,
          49.33522148426373,
          48.00790695834141,
          58.808977808907564,
          38.57992780763074,
          48.04851224297245,
          41.333997042979036,
          48.05326159846261,
          52.16729960468998,
          48.49341278240522,
          56.35134071957999,
          48.05188408288887,
          51.52253957528487,
          40.17004010156687,
          51.16867090323581,
          52.0515600238321,
          36.99072845061864,
          50.86786800166199,
          40.008585193484905,
          56.798998720776716,
          51.90153370977225,
          41.11471731198406,
          45.58354132056144,
          57.45310352174399,
          42.789825904376066,
          45.44549325644941,
          58.22234977312245,
          44.82422982031136,
          42.47661658478121,
          39.54898225943884,
          40.085164769066516,
          51.35139317262185,
          52.334298595793314,
          58.85961688434211,
          45.623567395995224,
          55.70924712492203,
          47.314424581521465,
          40.18340295037101,
          44.70028430293384,
          58.761714144979656,
          42.81282881253042,
          49.27846719536926,
          48.03332925264738,
          48.05378046935214,
          58.78051620667031,
          55.41062371327225,
          41.65804418970457,
          38.986446096829965,
          49.131455929727494,
          61.831662094813865,
          45.29483925352858,
          47.09127929832657,
          44.69028600946622,
          38.14868484188904,
          47.49010972188021,
          44.49512778294053,
          58.39217147480243,
          54.57178428999062,
          51.77609249175558,
          57.90514011259076,
          51.30295639170182,
          41.51115740624408,
          45.63062682331906,
          65.07915943945322,
          42.23095482823817,
          41.30149442675006,
          48.04905872237829,
          57.85010292110024,
          51.605639868164936,
          40.037906190414866,
          51.5276017687566,
          47.5341949806606,
          58.79345621103591,
          67.35942654281662,
          56.99228783370357,
          47.95275554741739,
          58.857241090357896,
          48.04849056361863,
          47.962533112562156,
          58.74933442904085,
          38.98471447016481,
          47.94425893850732,
          40.987103584191566,
          45.673219327884965,
          58.86652218981155,
          52.13093656128841,
          47.89638944035541,
          52.296970286022805,
          58.20789329363529,
          65.20860253822285,
          47.72672498795861,
          49.69127811749169,
          46.83339160080284,
          47.88124563054319,
          45.50128350649821,
          58.62369623804371,
          47.36626781654319,
          58.860119048468654,
          48.019360571907505,
          54.87529432050301,
          40.59967053042072,
          34.17840148840014,
          47.354131972628934,
          52.40160725625291,
          52.325870773218284,
          57.497521153590235,
          48.02631126027305,
          41.81923997136627,
          53.2313707881136,
          50.52716172040874,
          54.82764576382669,
          41.347053720133026,
          58.56947382401165,
          40.177754455902225,
          37.285384821869464,
          51.64887370465844,
          36.998468589009384,
          47.48796227169791,
          32.44495039185759,
          52.11125928873513,
          46.42609404794532,
          47.13738746874482,
          49.741936368621545,
          50.64380823792027,
          43.3612554540572,
          43.864107330943625,
          58.57437445837484,
          58.711441532268225,
          58.866536659167814,
          54.14494523612072,
          44.5238120207594,
          57.83463283005865,
          52.38706571341292,
          46.66195649842847,
          47.70008709910954,
          58.6257566515883,
          58.838183196538395,
          51.84753190429253,
          44.50895287955933,
          52.279387093145985,
          47.98357593816767,
          42.23738429948677,
          47.830784931706134,
          47.93113744262984,
          69.07169892406172,
          50.9549519673418,
          47.49595319219744,
          58.55481158052091,
          45.942717548539186,
          47.36252364230431,
          42.50485918510361,
          32.59433206894747,
          47.54439693000213,
          39.52611736973541,
          58.53511992148841,
          58.600440711058944,
          46.96738456011376,
          58.78975814297405,
          40.352797887140596,
          40.58420341208565,
          56.74443768365587,
          43.33260770585527,
          67.46359362597555,
          58.297510419276136,
          58.6873646111457,
          47.96680217082068,
          65.43860015952066,
          58.73986962367167,
          47.19017019967995,
          50.80943973322013,
          39.64194878120635,
          48.03203613359685,
          45.59859250689942,
          31.303724436026034,
          58.659033796148634,
          44.723045947930025,
          55.02707580806553,
          57.79393284500401,
          48.05342876125391,
          30.93908038787926,
          57.11829282703424,
          40.13578988596874,
          35.44489505954804,
          52.07113060670709,
          58.61468177710158,
          50.843800628913364,
          41.82956743843055,
          55.4470923642445,
          58.26152598993776,
          42.09987827066973,
          47.15551927056029,
          42.75861394691612,
          57.51537370570474,
          47.87702798662725,
          46.31778027621573,
          58.49663396026716,
          55.19601989204029,
          70.65175622208227,
          68.41444599981044,
          52.208008070481824,
          57.79214653592021,
          44.80787306915237,
          58.84020578193384,
          46.63475135753911,
          58.48362005523373,
          34.576754580403346,
          39.317502326647734,
          47.499256680217165,
          38.13128983430209,
          56.374459413252936,
          41.45707589847363,
          52.99660965927647,
          70.58724210080541,
          59.02980791628542,
          46.41426258868673,
          42.67354642310154,
          49.78880897659084,
          44.43552420339606,
          49.535341758028345,
          54.677276060612755,
          60.94001332578391,
          58.83377665322009,
          49.39133982577641,
          68.47934224070613,
          57.93574281785433,
          51.20380822569015,
          56.154195660516514,
          56.215971721658114,
          57.88275578241807,
          51.04978231597644,
          51.70919483479428,
          38.758933072191844,
          42.276606439254266,
          70.53783476284016,
          45.109099433212116,
          52.15759324317824,
          56.08692352700466,
          47.96087787533112,
          47.96958544215298,
          51.697377072540384,
          70.71062734330175,
          47.965747639957264,
          48.8283300625784,
          41.381840663644006,
          47.692435370355156,
          58.867578818809065,
          58.843578468310355,
          49.44575969051985,
          48.048933514731,
          49.96751528529819,
          48.0233596915769,
          54.02500100099771,
          41.627647914590845,
          43.2379214420358,
          50.630327371227516,
          58.15519383378798,
          40.513250906865274,
          58.66298478363797,
          58.46969058462462,
          54.50464408587348,
          48.005794494831804,
          58.5749799306884,
          45.08060295025604,
          60.94205797323944,
          39.38242140458363,
          52.39216216892086,
          48.044672996233814,
          47.87939692702793,
          48.184547546003465,
          30.95306182639866,
          46.322488116088294,
          47.98078796628509,
          50.56714501421803,
          45.12727485499086,
          46.09729235454849,
          56.65422950476252,
          43.944716632137265,
          56.535482542374055,
          50.45732749460226,
          47.87539084772732,
          51.47599035322287,
          42.14273299131282,
          42.889794795667484,
          52.0811903419296,
          43.6064967988117,
          35.24968042103557,
          52.40128835119834,
          42.0673633279114,
          58.22146968032046,
          45.80135188922668,
          67.89612322223677,
          66.14376720178888,
          34.1721161876412,
          51.76054058387051,
          35.43753465055357,
          48.03837775145257,
          70.14247307632144,
          47.317292466105414,
          47.45594082995863,
          47.19888892807498,
          56.900249540605884,
          47.93033432442271,
          58.56588233845007,
          58.86592968567606,
          42.28993564229158,
          36.750449644131216,
          68.5254594909391,
          58.75816783721824,
          58.869243191497254,
          56.45027386791532,
          46.86659322471878,
          40.03550291756867,
          42.25196953193208,
          46.91014492335109,
          47.64702171062438,
          46.51905082134252,
          57.835702709883535,
          48.037906588902544,
          50.5208613366184,
          50.066737001197076,
          37.61747885820198,
          52.38959005885211,
          61.86161152706741,
          58.812774822457435,
          58.22103268817543,
          47.40899549128042,
          58.7480214014005,
          70.3824932098641,
          50.0404743704775,
          46.72386147539879,
          52.28657215410048,
          35.61441636196847,
          47.332750626400184,
          37.380450890291705,
          47.26398748903361,
          42.5749426241355,
          47.861184805190994,
          49.18337582565537,
          58.12070006580478,
          47.66097924049557,
          41.29792736117314,
          58.86918844088569,
          58.31093458066378,
          29.024533371786955,
          47.08028397309355,
          50.68271308405961,
          48.025429306185735,
          44.83112409776886,
          41.68037846872752,
          41.60313301961215,
          39.8029920202588,
          40.83367827580603,
          49.15886654062463,
          52.38479796999694,
          52.24056202767301,
          48.0539491401929,
          57.56196166531677,
          47.80442240902968,
          55.353235836110855,
          42.213805109605545,
          58.21782174076128,
          45.77114013886583,
          47.28631937615131,
          46.57890892496386,
          52.36828107805783,
          58.1169240279468,
          58.771924897091985,
          58.31203126758645,
          52.169340138488685,
          39.27782374016177,
          44.73220269455914,
          58.47480823526264,
          52.34290174401554,
          51.14708697803247,
          53.53354104180479,
          49.90174705511836,
          47.33471665305141,
          47.57973254746316,
          47.31475936969179,
          41.37567058373337,
          58.710456226789326,
          58.304595572654904,
          42.12487000733056,
          46.08096732705325,
          57.21357180195695,
          50.05795842449434,
          44.20244348116533,
          58.000854021055645,
          49.9720633912462,
          46.59580317349029,
          37.90129108911155,
          51.75328238371851,
          57.8199782307926,
          51.62698226966291,
          42.19810529104994,
          33.09623306475135,
          41.605401073160216,
          45.04446824864096,
          47.9957281960947,
          67.81516879860277,
          46.529293706026955,
          56.429121184058225,
          45.37848970134443,
          42.15776175850454,
          46.949364076292476
         ],
         "xaxis": "x",
         "y": [
          80.5994245580961,
          95.22753958470088,
          75.2677533659857,
          90.01723894562531,
          85.11156879706762,
          59.8407511035927,
          85.53698603858234,
          63.17128571757171,
          64.75929685101967,
          86.64722154770715,
          55.62711668743919,
          94.37592555106107,
          53.437872704740194,
          92.6874681952216,
          55.90519761901355,
          64.6101068517594,
          67.48008183811643,
          68.1950308054707,
          90.42546787682365,
          84.55166310578804,
          91.0971267459739,
          70.58661173110619,
          57.02741686316447,
          65.27134384672776,
          81.4696028745954,
          90.12907386229256,
          51.403319643011855,
          49.47691664096616,
          60.61481106134766,
          97.21559314195868,
          65.84907311701502,
          90.15404012609407,
          67.15898756889862,
          55.735273737948376,
          71.4326021704188,
          68.1848588889496,
          79.39537747509297,
          55.338709354931396,
          64.29833292372409,
          55.96484374750615,
          63.53157824737381,
          76.76774804622875,
          84.70208913570939,
          63.458665669100725,
          36.09305085697183,
          67.41113044073438,
          74.88383607227516,
          97.7568515328527,
          71.42940260655462,
          37.51441905618489,
          72.11919513693292,
          74.33759493262285,
          63.86087850055397,
          87.70989407383591,
          98.33542406685505,
          70.22298076798086,
          68.87475755959933,
          76.3647753825417,
          57.72069322320621,
          82.83760447449873,
          51.70361685061322,
          99.00005611010273,
          84.42065258463877,
          76.80515558804477,
          22.54385768800176,
          57.418819785239236,
          79.36048653373193,
          81.92459467539867,
          98.24779337252741,
          50.07961057586166,
          84.61404753780799,
          86.22614485417725,
          76.44557800622252,
          31.292949304344997,
          85.9238672403425,
          98.99443202981881,
          72.64503384746939,
          74.65302646547084,
          71.91368444928591,
          87.6072143904017,
          68.72913531337997,
          68.77567166290504,
          72.45232505764959,
          62.174406181043594,
          81.81351889374287,
          84.76492744027601,
          93.21956839122613,
          82.13013988397199,
          78.60184374047392,
          83.96567455113569,
          70.28165816268603,
          56.45181400240374,
          74.83972043558647,
          85.90875399116457,
          97.00213275781731,
          76.41000467543357,
          83.45291353410161,
          77.70735301546262,
          76.58850927030059,
          60.815163882476874,
          72.01678611072218,
          76.70825696760792,
          71.72342388685854,
          71.65874740232209,
          69.89073889328861,
          75.4263237469,
          66.06081024206942,
          68.53858720848561,
          74.55423797457148,
          73.53966412150056,
          89.9067364987042,
          58.55281456484522,
          54.225479109239274,
          76.10285089755098,
          49.12557650819728,
          59.63764733549102,
          80.0884032140028,
          72.8118333278172,
          51.84729581621524,
          59.00683672601554,
          73.39271617060696,
          70.79714084443789,
          79.03284149912658,
          89.5494988674137,
          96.42585247575484,
          70.05248478087343,
          67.70518805884676,
          71.28967330147586,
          57.3678217350721,
          85.04608552852875,
          52.59699936795212,
          56.35514081101532,
          75.63600195881467,
          76.98307634397194,
          85.36039367680846,
          69.20716620493263,
          61.73467274876039,
          55.7838620867382,
          56.10591853609617,
          70.34656376117685,
          59.15373269464922,
          52.80511431726265,
          78.29830515995558,
          52.231175975971645,
          86.1768006998305,
          56.79067155970762,
          81.26639216264454,
          67.00899822859792,
          73.28769487772496,
          78.25098980930821,
          59.984423851512915,
          47.029918615159694,
          54.31937635585153,
          76.59646938213551,
          74.15225636713778,
          59.535454088777975,
          76.45112961407486,
          99.38696397737613,
          60.563992372808514,
          63.4465683595407,
          60.41350314285694,
          58.431933667562205,
          91.42705652029794,
          82.05973785639553,
          74.24818571501868,
          73.67905408074374,
          89.6696287895376,
          76.408412749175,
          73.85541861355208,
          84.85408881455608,
          45.11884709063513,
          73.5327026098769,
          57.928761657259585,
          60.397898300602414,
          89.07271201700034,
          61.59742954545183,
          81.92928565303778,
          78.33336414528527,
          79.9958164169348,
          76.87531138349881,
          70.85733427419936,
          64.2604880595789,
          65.06096158211727,
          72.59132600098313,
          54.062201370185626,
          65.09025090373316,
          87.13588227777264,
          87.47826582701835,
          75.16072940418044,
          67.77765017843679,
          56.21326149596471,
          70.25346634416387,
          87.22538899581073,
          81.82225500900987,
          78.8604606447482,
          76.29681853258408,
          79.23682535413353,
          50.445495213314786,
          63.894638691596015,
          67.16380075850066,
          59.55292841218138,
          44.628150345516985,
          82.7548551257487,
          54.57194161451822,
          49.327513606564764,
          60.64769115111148,
          65.11484838113464,
          68.87788968212267,
          33.75616579265025,
          75.99606349338318,
          63.2306113190016,
          66.64934580165027,
          64.42197910362036,
          67.61872206889285,
          53.875150112712454,
          55.11692367280647,
          82.80163641962497,
          92.73065575865328,
          87.92705285488496,
          65.97167004298011,
          56.870300812870475,
          99.4712151941727,
          83.2357409926558,
          91.51424622812128,
          84.2877503608839,
          93.76403240682772,
          90.37398979017901,
          73.78565985673706,
          52.162566619685556,
          85.80994264488201,
          74.27078048880725,
          68.06764345390225,
          71.95977639988207,
          73.31758153519785,
          87.51298522883019,
          59.33128507160264,
          68.93612993889029,
          82.61715327561974,
          61.34885294389214,
          87.16357421880664,
          46.17661421805169,
          45.67073690968273,
          69.29887863898914,
          58.85225140244952,
          82.4372298448088,
          83.0573506994324,
          65.73202529557611,
          85.52721336510623,
          55.229208168723744,
          48.00139339956999,
          73.34575013416291,
          45.135526686168305,
          82.3458430889255,
          80.58762214398973,
          84.01644151521768,
          73.93541514476037,
          77.37823803052787,
          92.32841146912712,
          66.95203298978352,
          68.29236784718276,
          59.66602109854302,
          75.58635091694941,
          60.144708450613635,
          33.792832095956484,
          93.38801612828561,
          57.43298064965583,
          68.17281662867506,
          77.68197333289623,
          76.91675363958069,
          34.82020705978553,
          74.7300293429063,
          72.44973423359274,
          50.3858951570833,
          75.60718841803123,
          83.20237079740558,
          68.4365892905768,
          79.52941030819707,
          69.30840440983064,
          64.53511256061991,
          65.7584288483764,
          66.75227043368612,
          46.521643376272536,
          76.37567175266723,
          72.53519006252876,
          93.27729344435504,
          64.89473995211392,
          68.62182620091302,
          97.64266882854004,
          85.19299243622469,
          86.83651866104773,
          99.69958170115876,
          57.67788846520253,
          86.69533060986979,
          64.13374280107773,
          81.99058560100231,
          38.24856296864115,
          40.57057186447162,
          86.1022525811516,
          40.517820388851504,
          72.09193119879637,
          60.43247876310799,
          63.38773912857446,
          96.5874403662844,
          65.72075371380082,
          63.18127885474601,
          48.92984576965338,
          64.57281660705536,
          52.02673554003818,
          63.772891484786754,
          67.27304569819779,
          68.81573846529068,
          86.50758345030619,
          63.33457212401219,
          85.40634469105302,
          78.4133379175081,
          59.79694231868253,
          71.38950875828166,
          71.58354389103485,
          99.2071217202685,
          69.33791017577377,
          72.84732265843712,
          50.0806801550215,
          72.77319885644005,
          95.96127147061925,
          58.57583791871037,
          61.65086777853155,
          71.18070180872238,
          73.82491226984637,
          80.67800878766208,
          72.77184354801993,
          99.93081078461105,
          59.471631344048326,
          61.71633550740857,
          44.67408728181418,
          84.36467790887978,
          88.95819196139583,
          90.2041460397824,
          63.4989258723341,
          76.44153128910516,
          65.16107156825895,
          75.28509924991648,
          65.68849365030252,
          61.52496939529871,
          89.62181389313302,
          67.56536574505978,
          97.579228247214,
          88.32085905185278,
          83.72760155855366,
          95.26129117075249,
          66.84259666631704,
          74.78508100506845,
          94.29225856852061,
          58.48888732197346,
          68.81917956527754,
          57.93734014160778,
          82.97497019749915,
          76.16264026911998,
          82.1758356537585,
          60.0183253573792,
          34.8413310162365,
          55.73807991975765,
          74.21243910777619,
          67.31804461183695,
          58.631526834928636,
          61.92332569163107,
          73.03054996986332,
          55.32304827734909,
          72.62529552634969,
          58.42003908953872,
          82.23225463384554,
          92.890910746322,
          66.34752029460157,
          52.77206958142604,
          75.70229390802253,
          54.47165591727921,
          42.10215052174746,
          82.10174563054937,
          50.965306082899055,
          80.08273686710294,
          60.84255150642689,
          83.58329842447658,
          78.9865272264837,
          35.75487386197491,
          60.86496835565504,
          44.40477352351553,
          75.84628011811299,
          92.66933601359584,
          67.72332325118089,
          86.45042413205908,
          88.31319169143228,
          73.90644961931497,
          81.39483913579423,
          94.38205123650643,
          89.12789424449076,
          72.09148775861,
          58.86698171343515,
          85.55978102841314,
          84.98999727520504,
          88.65641125846415,
          72.3408368585179,
          90.37380608236809,
          63.4145677838857,
          51.35921154983092,
          65.44033075398764,
          84.80624285606447,
          92.26709772612777,
          77.89203740806848,
          78.7838840806076,
          97.80628999942125,
          65.49731182895813,
          47.147219638256345,
          80.67734365573612,
          70.3990901152202,
          91.02595856799299,
          97.14304318863573,
          86.81478903948346,
          92.20520581435866,
          94.43246167383816,
          65.40760883671992,
          64.54065610440573,
          78.16228406711063,
          39.758233506288136,
          67.82171424995713,
          46.588342696035376,
          87.86909157922516,
          52.064089958341064,
          72.33021109803471,
          62.720121738102144,
          97.8000521010282,
          58.73238121061708,
          49.38651692986875,
          88.322677037526,
          96.51141823713627,
          32.66766359619835,
          66.33198223156985,
          67.77390076784305,
          79.26708688535659,
          73.97938163893292,
          80.85195127702359,
          81.47929730766546,
          53.25744898025715,
          43.95422197982164,
          62.649063216441526,
          80.45691835317437,
          86.39636586200709,
          77.57529784529211,
          76.58395715212517,
          71.65903648790115,
          69.04891974386156,
          67.55386102601285,
          80.059291627642,
          54.60150824559011,
          67.5293712790618,
          91.95567078339832,
          83.92848282996856,
          79.43534501117095,
          91.81822673145976,
          96.5034220076513,
          61.67444845643034,
          43.62218661945027,
          99.95956381416819,
          81.917258875724,
          84.59902471156609,
          59.690194764601486,
          57.78365618985675,
          64.94207406420391,
          87.36711022481495,
          69.5749163003297,
          87.51096368103438,
          59.95299050812509,
          84.30865763696642,
          96.55748997316779,
          76.1075531741447,
          61.86155236273206,
          75.10609564087451,
          65.46727004456645,
          51.59952000848801,
          64.13953195164788,
          57.555026092195305,
          63.9601131134359,
          40.23307688360574,
          73.13493197150687,
          99.55047705726841,
          91.92536754760955,
          67.25208510007734,
          38.24657900681594,
          81.46133893848557,
          58.37925656285139,
          74.53986496037388,
          83.34515238362003,
          63.669160053942505,
          72.27100253492539,
          59.420660993385454,
          48.07450640751755,
          65.63934157175213
         ],
         "yaxis": "y"
        },
        {
         "hovertemplate": "winner_type=BIDDER_TYPE.reactor<br>winner_std=%{x}<br>winner_std_self=%{y}<extra></extra>",
         "legendgroup": "BIDDER_TYPE.reactor",
         "marker": {
          "color": "#EF553B",
          "opacity": 0.3,
          "size": 5,
          "symbol": "circle"
         },
         "mode": "markers",
         "name": "BIDDER_TYPE.reactor",
         "orientation": "v",
         "showlegend": true,
         "type": "scatter",
         "x": [
          49.91615148852133,
          49.693525505948365,
          48.32445113423994,
          45.75701586623002,
          48.77272170506204
         ],
         "xaxis": "x",
         "y": [
          100.33290734543124,
          101.19413261840026,
          105.94571391431884,
          113.37910435138696,
          104.47515948484929
         ],
         "yaxis": "y"
        }
       ],
       "layout": {
        "legend": {
         "title": {
          "text": "winner_type"
         },
         "tracegroupgap": 0
        },
        "template": {
         "data": {
          "bar": [
           {
            "error_x": {
             "color": "#2a3f5f"
            },
            "error_y": {
             "color": "#2a3f5f"
            },
            "marker": {
             "line": {
              "color": "#E5ECF6",
              "width": 0.5
             },
             "pattern": {
              "fillmode": "overlay",
              "size": 10,
              "solidity": 0.2
             }
            },
            "type": "bar"
           }
          ],
          "barpolar": [
           {
            "marker": {
             "line": {
              "color": "#E5ECF6",
              "width": 0.5
             },
             "pattern": {
              "fillmode": "overlay",
              "size": 10,
              "solidity": 0.2
             }
            },
            "type": "barpolar"
           }
          ],
          "carpet": [
           {
            "aaxis": {
             "endlinecolor": "#2a3f5f",
             "gridcolor": "white",
             "linecolor": "white",
             "minorgridcolor": "white",
             "startlinecolor": "#2a3f5f"
            },
            "baxis": {
             "endlinecolor": "#2a3f5f",
             "gridcolor": "white",
             "linecolor": "white",
             "minorgridcolor": "white",
             "startlinecolor": "#2a3f5f"
            },
            "type": "carpet"
           }
          ],
          "choropleth": [
           {
            "colorbar": {
             "outlinewidth": 0,
             "ticks": ""
            },
            "type": "choropleth"
           }
          ],
          "contour": [
           {
            "colorbar": {
             "outlinewidth": 0,
             "ticks": ""
            },
            "colorscale": [
             [
              0,
              "#0d0887"
             ],
             [
              0.1111111111111111,
              "#46039f"
             ],
             [
              0.2222222222222222,
              "#7201a8"
             ],
             [
              0.3333333333333333,
              "#9c179e"
             ],
             [
              0.4444444444444444,
              "#bd3786"
             ],
             [
              0.5555555555555556,
              "#d8576b"
             ],
             [
              0.6666666666666666,
              "#ed7953"
             ],
             [
              0.7777777777777778,
              "#fb9f3a"
             ],
             [
              0.8888888888888888,
              "#fdca26"
             ],
             [
              1,
              "#f0f921"
             ]
            ],
            "type": "contour"
           }
          ],
          "contourcarpet": [
           {
            "colorbar": {
             "outlinewidth": 0,
             "ticks": ""
            },
            "type": "contourcarpet"
           }
          ],
          "heatmap": [
           {
            "colorbar": {
             "outlinewidth": 0,
             "ticks": ""
            },
            "colorscale": [
             [
              0,
              "#0d0887"
             ],
             [
              0.1111111111111111,
              "#46039f"
             ],
             [
              0.2222222222222222,
              "#7201a8"
             ],
             [
              0.3333333333333333,
              "#9c179e"
             ],
             [
              0.4444444444444444,
              "#bd3786"
             ],
             [
              0.5555555555555556,
              "#d8576b"
             ],
             [
              0.6666666666666666,
              "#ed7953"
             ],
             [
              0.7777777777777778,
              "#fb9f3a"
             ],
             [
              0.8888888888888888,
              "#fdca26"
             ],
             [
              1,
              "#f0f921"
             ]
            ],
            "type": "heatmap"
           }
          ],
          "heatmapgl": [
           {
            "colorbar": {
             "outlinewidth": 0,
             "ticks": ""
            },
            "colorscale": [
             [
              0,
              "#0d0887"
             ],
             [
              0.1111111111111111,
              "#46039f"
             ],
             [
              0.2222222222222222,
              "#7201a8"
             ],
             [
              0.3333333333333333,
              "#9c179e"
             ],
             [
              0.4444444444444444,
              "#bd3786"
             ],
             [
              0.5555555555555556,
              "#d8576b"
             ],
             [
              0.6666666666666666,
              "#ed7953"
             ],
             [
              0.7777777777777778,
              "#fb9f3a"
             ],
             [
              0.8888888888888888,
              "#fdca26"
             ],
             [
              1,
              "#f0f921"
             ]
            ],
            "type": "heatmapgl"
           }
          ],
          "histogram": [
           {
            "marker": {
             "pattern": {
              "fillmode": "overlay",
              "size": 10,
              "solidity": 0.2
             }
            },
            "type": "histogram"
           }
          ],
          "histogram2d": [
           {
            "colorbar": {
             "outlinewidth": 0,
             "ticks": ""
            },
            "colorscale": [
             [
              0,
              "#0d0887"
             ],
             [
              0.1111111111111111,
              "#46039f"
             ],
             [
              0.2222222222222222,
              "#7201a8"
             ],
             [
              0.3333333333333333,
              "#9c179e"
             ],
             [
              0.4444444444444444,
              "#bd3786"
             ],
             [
              0.5555555555555556,
              "#d8576b"
             ],
             [
              0.6666666666666666,
              "#ed7953"
             ],
             [
              0.7777777777777778,
              "#fb9f3a"
             ],
             [
              0.8888888888888888,
              "#fdca26"
             ],
             [
              1,
              "#f0f921"
             ]
            ],
            "type": "histogram2d"
           }
          ],
          "histogram2dcontour": [
           {
            "colorbar": {
             "outlinewidth": 0,
             "ticks": ""
            },
            "colorscale": [
             [
              0,
              "#0d0887"
             ],
             [
              0.1111111111111111,
              "#46039f"
             ],
             [
              0.2222222222222222,
              "#7201a8"
             ],
             [
              0.3333333333333333,
              "#9c179e"
             ],
             [
              0.4444444444444444,
              "#bd3786"
             ],
             [
              0.5555555555555556,
              "#d8576b"
             ],
             [
              0.6666666666666666,
              "#ed7953"
             ],
             [
              0.7777777777777778,
              "#fb9f3a"
             ],
             [
              0.8888888888888888,
              "#fdca26"
             ],
             [
              1,
              "#f0f921"
             ]
            ],
            "type": "histogram2dcontour"
           }
          ],
          "mesh3d": [
           {
            "colorbar": {
             "outlinewidth": 0,
             "ticks": ""
            },
            "type": "mesh3d"
           }
          ],
          "parcoords": [
           {
            "line": {
             "colorbar": {
              "outlinewidth": 0,
              "ticks": ""
             }
            },
            "type": "parcoords"
           }
          ],
          "pie": [
           {
            "automargin": true,
            "type": "pie"
           }
          ],
          "scatter": [
           {
            "fillpattern": {
             "fillmode": "overlay",
             "size": 10,
             "solidity": 0.2
            },
            "type": "scatter"
           }
          ],
          "scatter3d": [
           {
            "line": {
             "colorbar": {
              "outlinewidth": 0,
              "ticks": ""
             }
            },
            "marker": {
             "colorbar": {
              "outlinewidth": 0,
              "ticks": ""
             }
            },
            "type": "scatter3d"
           }
          ],
          "scattercarpet": [
           {
            "marker": {
             "colorbar": {
              "outlinewidth": 0,
              "ticks": ""
             }
            },
            "type": "scattercarpet"
           }
          ],
          "scattergeo": [
           {
            "marker": {
             "colorbar": {
              "outlinewidth": 0,
              "ticks": ""
             }
            },
            "type": "scattergeo"
           }
          ],
          "scattergl": [
           {
            "marker": {
             "colorbar": {
              "outlinewidth": 0,
              "ticks": ""
             }
            },
            "type": "scattergl"
           }
          ],
          "scattermapbox": [
           {
            "marker": {
             "colorbar": {
              "outlinewidth": 0,
              "ticks": ""
             }
            },
            "type": "scattermapbox"
           }
          ],
          "scatterpolar": [
           {
            "marker": {
             "colorbar": {
              "outlinewidth": 0,
              "ticks": ""
             }
            },
            "type": "scatterpolar"
           }
          ],
          "scatterpolargl": [
           {
            "marker": {
             "colorbar": {
              "outlinewidth": 0,
              "ticks": ""
             }
            },
            "type": "scatterpolargl"
           }
          ],
          "scatterternary": [
           {
            "marker": {
             "colorbar": {
              "outlinewidth": 0,
              "ticks": ""
             }
            },
            "type": "scatterternary"
           }
          ],
          "surface": [
           {
            "colorbar": {
             "outlinewidth": 0,
             "ticks": ""
            },
            "colorscale": [
             [
              0,
              "#0d0887"
             ],
             [
              0.1111111111111111,
              "#46039f"
             ],
             [
              0.2222222222222222,
              "#7201a8"
             ],
             [
              0.3333333333333333,
              "#9c179e"
             ],
             [
              0.4444444444444444,
              "#bd3786"
             ],
             [
              0.5555555555555556,
              "#d8576b"
             ],
             [
              0.6666666666666666,
              "#ed7953"
             ],
             [
              0.7777777777777778,
              "#fb9f3a"
             ],
             [
              0.8888888888888888,
              "#fdca26"
             ],
             [
              1,
              "#f0f921"
             ]
            ],
            "type": "surface"
           }
          ],
          "table": [
           {
            "cells": {
             "fill": {
              "color": "#EBF0F8"
             },
             "line": {
              "color": "white"
             }
            },
            "header": {
             "fill": {
              "color": "#C8D4E3"
             },
             "line": {
              "color": "white"
             }
            },
            "type": "table"
           }
          ]
         },
         "layout": {
          "annotationdefaults": {
           "arrowcolor": "#2a3f5f",
           "arrowhead": 0,
           "arrowwidth": 1
          },
          "autotypenumbers": "strict",
          "coloraxis": {
           "colorbar": {
            "outlinewidth": 0,
            "ticks": ""
           }
          },
          "colorscale": {
           "diverging": [
            [
             0,
             "#8e0152"
            ],
            [
             0.1,
             "#c51b7d"
            ],
            [
             0.2,
             "#de77ae"
            ],
            [
             0.3,
             "#f1b6da"
            ],
            [
             0.4,
             "#fde0ef"
            ],
            [
             0.5,
             "#f7f7f7"
            ],
            [
             0.6,
             "#e6f5d0"
            ],
            [
             0.7,
             "#b8e186"
            ],
            [
             0.8,
             "#7fbc41"
            ],
            [
             0.9,
             "#4d9221"
            ],
            [
             1,
             "#276419"
            ]
           ],
           "sequential": [
            [
             0,
             "#0d0887"
            ],
            [
             0.1111111111111111,
             "#46039f"
            ],
            [
             0.2222222222222222,
             "#7201a8"
            ],
            [
             0.3333333333333333,
             "#9c179e"
            ],
            [
             0.4444444444444444,
             "#bd3786"
            ],
            [
             0.5555555555555556,
             "#d8576b"
            ],
            [
             0.6666666666666666,
             "#ed7953"
            ],
            [
             0.7777777777777778,
             "#fb9f3a"
            ],
            [
             0.8888888888888888,
             "#fdca26"
            ],
            [
             1,
             "#f0f921"
            ]
           ],
           "sequentialminus": [
            [
             0,
             "#0d0887"
            ],
            [
             0.1111111111111111,
             "#46039f"
            ],
            [
             0.2222222222222222,
             "#7201a8"
            ],
            [
             0.3333333333333333,
             "#9c179e"
            ],
            [
             0.4444444444444444,
             "#bd3786"
            ],
            [
             0.5555555555555556,
             "#d8576b"
            ],
            [
             0.6666666666666666,
             "#ed7953"
            ],
            [
             0.7777777777777778,
             "#fb9f3a"
            ],
            [
             0.8888888888888888,
             "#fdca26"
            ],
            [
             1,
             "#f0f921"
            ]
           ]
          },
          "colorway": [
           "#636efa",
           "#EF553B",
           "#00cc96",
           "#ab63fa",
           "#FFA15A",
           "#19d3f3",
           "#FF6692",
           "#B6E880",
           "#FF97FF",
           "#FECB52"
          ],
          "font": {
           "color": "#2a3f5f"
          },
          "geo": {
           "bgcolor": "white",
           "lakecolor": "white",
           "landcolor": "#E5ECF6",
           "showlakes": true,
           "showland": true,
           "subunitcolor": "white"
          },
          "hoverlabel": {
           "align": "left"
          },
          "hovermode": "closest",
          "mapbox": {
           "style": "light"
          },
          "paper_bgcolor": "white",
          "plot_bgcolor": "#E5ECF6",
          "polar": {
           "angularaxis": {
            "gridcolor": "white",
            "linecolor": "white",
            "ticks": ""
           },
           "bgcolor": "#E5ECF6",
           "radialaxis": {
            "gridcolor": "white",
            "linecolor": "white",
            "ticks": ""
           }
          },
          "scene": {
           "xaxis": {
            "backgroundcolor": "#E5ECF6",
            "gridcolor": "white",
            "gridwidth": 2,
            "linecolor": "white",
            "showbackground": true,
            "ticks": "",
            "zerolinecolor": "white"
           },
           "yaxis": {
            "backgroundcolor": "#E5ECF6",
            "gridcolor": "white",
            "gridwidth": 2,
            "linecolor": "white",
            "showbackground": true,
            "ticks": "",
            "zerolinecolor": "white"
           },
           "zaxis": {
            "backgroundcolor": "#E5ECF6",
            "gridcolor": "white",
            "gridwidth": 2,
            "linecolor": "white",
            "showbackground": true,
            "ticks": "",
            "zerolinecolor": "white"
           }
          },
          "shapedefaults": {
           "line": {
            "color": "#2a3f5f"
           }
          },
          "ternary": {
           "aaxis": {
            "gridcolor": "white",
            "linecolor": "white",
            "ticks": ""
           },
           "baxis": {
            "gridcolor": "white",
            "linecolor": "white",
            "ticks": ""
           },
           "bgcolor": "#E5ECF6",
           "caxis": {
            "gridcolor": "white",
            "linecolor": "white",
            "ticks": ""
           }
          },
          "title": {
           "x": 0.05
          },
          "xaxis": {
           "automargin": true,
           "gridcolor": "white",
           "linecolor": "white",
           "ticks": "",
           "title": {
            "standoff": 15
           },
           "zerolinecolor": "white",
           "zerolinewidth": 2
          },
          "yaxis": {
           "automargin": true,
           "gridcolor": "white",
           "linecolor": "white",
           "ticks": "",
           "title": {
            "standoff": 15
           },
           "zerolinecolor": "white",
           "zerolinewidth": 2
          }
         }
        },
        "title": {
         "text": "Winner Std Self vs. Final Std"
        },
        "xaxis": {
         "anchor": "y",
         "domain": [
          0,
          1
         ],
         "title": {
          "text": "Winner Final Std"
         }
        },
        "yaxis": {
         "anchor": "x",
         "domain": [
          0,
          1
         ],
         "title": {
          "text": "Winner Std Self"
         }
        }
       }
      }
     },
     "metadata": {},
     "output_type": "display_data"
    }
   ],
   "source": [
    "# ---WINNING BIDDER STD_SELF vs. STD_FINAL---\n",
    "fig = px.scatter(df, x=\"winner_std\", y=\"winner_std_self\", color=\"winner_type\",\n",
    "                 opacity=0.3, title='Winner Std Self vs. Final Std')\n",
    "fig.update_traces(marker_size=5)\n",
    "fig.update_xaxes(title='Winner Final Std')\n",
    "fig.update_yaxes(title='Winner Std Self')\n",
    "fig.show()\n"
   ]
  },
  {
   "cell_type": "code",
   "execution_count": 64,
   "metadata": {},
   "outputs": [
    {
     "data": {
      "application/vnd.plotly.v1+json": {
       "config": {
        "plotlyServerURL": "https://plot.ly"
       },
       "data": [
        {
         "alignmentgroup": "True",
         "bingroup": "x",
         "hovertemplate": "color=BIDDER_TYPE.influencer<br>value=%{x}<br>count=%{y}<extra></extra>",
         "legendgroup": "BIDDER_TYPE.influencer",
         "marker": {
          "color": "#636efa",
          "pattern": {
           "shape": ""
          }
         },
         "name": "BIDDER_TYPE.influencer",
         "offsetgroup": "BIDDER_TYPE.influencer",
         "orientation": "v",
         "showlegend": true,
         "type": "histogram",
         "x": [
          "1",
          "2",
          "2",
          "2",
          "2",
          "2",
          "2",
          "2",
          "2",
          "2",
          "2",
          "2",
          "3",
          "2",
          "3",
          "2",
          "2",
          "3",
          "1",
          "2",
          "2",
          "2",
          "2",
          "2",
          "2",
          "2",
          "2",
          "2",
          "2",
          "2",
          "2",
          "2",
          "3",
          "2",
          "2",
          "3",
          "2",
          "3",
          "3",
          "1",
          "3",
          "2",
          "2",
          "3",
          "2",
          "2",
          "2",
          "2",
          "2",
          "1",
          "2",
          "2",
          "2",
          "2",
          "2",
          "3",
          "1",
          "3",
          "2",
          "3",
          "2",
          "2",
          "2",
          "2",
          "2",
          "1",
          "2",
          "2",
          "2",
          "2",
          "3",
          "1",
          "2",
          "2",
          "2",
          "2",
          "1",
          "3",
          "2",
          "2",
          "3",
          "2",
          "2",
          "2",
          "2",
          "3",
          "3",
          "2",
          "2",
          "2",
          "2",
          "2",
          "3",
          "2",
          "3",
          "3",
          "3",
          "3",
          "2",
          "1",
          "2",
          "3",
          "2",
          "2",
          "1",
          "2",
          "3",
          "2",
          "2",
          "2",
          "1",
          "3",
          "2",
          "2",
          "1",
          "2",
          "2",
          "2",
          "3",
          "2",
          "2",
          "1",
          "2",
          "2",
          "2",
          "2",
          "3",
          "3",
          "2",
          "2",
          "3",
          "2",
          "2",
          "3",
          "2",
          "2",
          "3",
          "2",
          "2",
          "2",
          "2",
          "2",
          "2",
          "2",
          "3",
          "2",
          "2",
          "2",
          "1",
          "2",
          "2",
          "1",
          "1",
          "2",
          "2",
          "2",
          "2",
          "2",
          "2",
          "3",
          "2",
          "1",
          "2",
          "1",
          "2",
          "3",
          "2",
          "2",
          "2",
          "2",
          "2",
          "3",
          "3",
          "3",
          "2",
          "2",
          "2",
          "2",
          "2",
          "1",
          "2",
          "2",
          "2",
          "2",
          "1",
          "1",
          "3",
          "2",
          "2",
          "2",
          "1",
          "3",
          "2",
          "2",
          "1",
          "2",
          "3",
          "3",
          "2",
          "2",
          "2",
          "2",
          "2",
          "3",
          "2",
          "2",
          "2",
          "2",
          "2",
          "1",
          "2",
          "2",
          "1",
          "1",
          "2",
          "2",
          "2",
          "2",
          "2",
          "2",
          "2",
          "2",
          "2",
          "2",
          "2",
          "2",
          "2",
          "1",
          "1",
          "2",
          "2",
          "1",
          "2",
          "2",
          "1",
          "2",
          "2",
          "2",
          "3",
          "3",
          "2",
          "2",
          "3",
          "3",
          "2",
          "2",
          "3",
          "2",
          "3",
          "3",
          "2",
          "2",
          "2",
          "2",
          "2",
          "2",
          "2",
          "2",
          "2",
          "1",
          "2",
          "3",
          "2",
          "3",
          "2",
          "3",
          "2",
          "2",
          "3",
          "1",
          "2",
          "3",
          "3",
          "1",
          "2",
          "1",
          "3",
          "2",
          "1",
          "3",
          "3",
          "2",
          "2",
          "2",
          "3",
          "1",
          "2",
          "2",
          "1",
          "1",
          "2",
          "3",
          "2",
          "2",
          "2",
          "2",
          "2",
          "3",
          "2",
          "2",
          "1",
          "2",
          "2",
          "2",
          "2",
          "1",
          "2",
          "1",
          "1",
          "2",
          "1",
          "2",
          "1",
          "2",
          "2",
          "2",
          "2",
          "2",
          "2",
          "2",
          "2",
          "1",
          "3",
          "2",
          "2",
          "2",
          "2",
          "3",
          "2",
          "2",
          "1",
          "1",
          "1",
          "2",
          "2",
          "2",
          "2",
          "1",
          "3",
          "1",
          "3",
          "2",
          "1",
          "2",
          "1",
          "2",
          "3",
          "2",
          "2",
          "2",
          "3",
          "2",
          "3",
          "2",
          "2",
          "1",
          "3",
          "2",
          "2",
          "1",
          "2",
          "3",
          "1",
          "2",
          "3",
          "2",
          "2",
          "2",
          "2",
          "3",
          "1",
          "3",
          "3",
          "1",
          "2",
          "3",
          "1",
          "2",
          "2",
          "3",
          "2",
          "1",
          "2",
          "2",
          "3",
          "3",
          "1",
          "2",
          "2",
          "2",
          "2",
          "3",
          "2",
          "2",
          "3",
          "3",
          "1",
          "2",
          "2",
          "2",
          "3",
          "2",
          "2",
          "2",
          "3",
          "2",
          "2",
          "2",
          "2",
          "1",
          "1",
          "1",
          "2",
          "2",
          "2",
          "3",
          "2",
          "2",
          "1",
          "3",
          "1",
          "2",
          "2",
          "1",
          "3",
          "3",
          "2",
          "1",
          "2",
          "1",
          "3",
          "2",
          "2",
          "2",
          "3",
          "1",
          "2",
          "2",
          "2",
          "3",
          "3",
          "2",
          "1",
          "1",
          "1",
          "2",
          "2",
          "2",
          "2",
          "3",
          "2",
          "1",
          "2",
          "3",
          "1",
          "2",
          "2",
          "2",
          "2",
          "1",
          "3",
          "2",
          "2",
          "2",
          "1",
          "2",
          "3",
          "2",
          "3",
          "3",
          "2",
          "2",
          "2",
          "2",
          "2",
          "2",
          "1",
          "1",
          "2",
          "2",
          "2",
          "1",
          "2",
          "1",
          "3",
          "3",
          "2",
          "3",
          "3",
          "2",
          "2",
          "2",
          "2",
          "1",
          "3"
         ],
         "xaxis": "x",
         "yaxis": "y"
        },
        {
         "alignmentgroup": "True",
         "bingroup": "x",
         "hovertemplate": "color=BIDDER_TYPE.reactor<br>value=%{x}<br>count=%{y}<extra></extra>",
         "legendgroup": "BIDDER_TYPE.reactor",
         "marker": {
          "color": "#EF553B",
          "pattern": {
           "shape": ""
          }
         },
         "name": "BIDDER_TYPE.reactor",
         "offsetgroup": "BIDDER_TYPE.reactor",
         "orientation": "v",
         "showlegend": true,
         "type": "histogram",
         "x": [
          "1",
          "1",
          "1",
          "1",
          "1"
         ],
         "xaxis": "x",
         "yaxis": "y"
        }
       ],
       "layout": {
        "barmode": "relative",
        "legend": {
         "title": {
          "text": "color"
         },
         "tracegroupgap": 0
        },
        "margin": {
         "t": 60
        },
        "template": {
         "data": {
          "bar": [
           {
            "error_x": {
             "color": "#2a3f5f"
            },
            "error_y": {
             "color": "#2a3f5f"
            },
            "marker": {
             "line": {
              "color": "#E5ECF6",
              "width": 0.5
             },
             "pattern": {
              "fillmode": "overlay",
              "size": 10,
              "solidity": 0.2
             }
            },
            "type": "bar"
           }
          ],
          "barpolar": [
           {
            "marker": {
             "line": {
              "color": "#E5ECF6",
              "width": 0.5
             },
             "pattern": {
              "fillmode": "overlay",
              "size": 10,
              "solidity": 0.2
             }
            },
            "type": "barpolar"
           }
          ],
          "carpet": [
           {
            "aaxis": {
             "endlinecolor": "#2a3f5f",
             "gridcolor": "white",
             "linecolor": "white",
             "minorgridcolor": "white",
             "startlinecolor": "#2a3f5f"
            },
            "baxis": {
             "endlinecolor": "#2a3f5f",
             "gridcolor": "white",
             "linecolor": "white",
             "minorgridcolor": "white",
             "startlinecolor": "#2a3f5f"
            },
            "type": "carpet"
           }
          ],
          "choropleth": [
           {
            "colorbar": {
             "outlinewidth": 0,
             "ticks": ""
            },
            "type": "choropleth"
           }
          ],
          "contour": [
           {
            "colorbar": {
             "outlinewidth": 0,
             "ticks": ""
            },
            "colorscale": [
             [
              0,
              "#0d0887"
             ],
             [
              0.1111111111111111,
              "#46039f"
             ],
             [
              0.2222222222222222,
              "#7201a8"
             ],
             [
              0.3333333333333333,
              "#9c179e"
             ],
             [
              0.4444444444444444,
              "#bd3786"
             ],
             [
              0.5555555555555556,
              "#d8576b"
             ],
             [
              0.6666666666666666,
              "#ed7953"
             ],
             [
              0.7777777777777778,
              "#fb9f3a"
             ],
             [
              0.8888888888888888,
              "#fdca26"
             ],
             [
              1,
              "#f0f921"
             ]
            ],
            "type": "contour"
           }
          ],
          "contourcarpet": [
           {
            "colorbar": {
             "outlinewidth": 0,
             "ticks": ""
            },
            "type": "contourcarpet"
           }
          ],
          "heatmap": [
           {
            "colorbar": {
             "outlinewidth": 0,
             "ticks": ""
            },
            "colorscale": [
             [
              0,
              "#0d0887"
             ],
             [
              0.1111111111111111,
              "#46039f"
             ],
             [
              0.2222222222222222,
              "#7201a8"
             ],
             [
              0.3333333333333333,
              "#9c179e"
             ],
             [
              0.4444444444444444,
              "#bd3786"
             ],
             [
              0.5555555555555556,
              "#d8576b"
             ],
             [
              0.6666666666666666,
              "#ed7953"
             ],
             [
              0.7777777777777778,
              "#fb9f3a"
             ],
             [
              0.8888888888888888,
              "#fdca26"
             ],
             [
              1,
              "#f0f921"
             ]
            ],
            "type": "heatmap"
           }
          ],
          "heatmapgl": [
           {
            "colorbar": {
             "outlinewidth": 0,
             "ticks": ""
            },
            "colorscale": [
             [
              0,
              "#0d0887"
             ],
             [
              0.1111111111111111,
              "#46039f"
             ],
             [
              0.2222222222222222,
              "#7201a8"
             ],
             [
              0.3333333333333333,
              "#9c179e"
             ],
             [
              0.4444444444444444,
              "#bd3786"
             ],
             [
              0.5555555555555556,
              "#d8576b"
             ],
             [
              0.6666666666666666,
              "#ed7953"
             ],
             [
              0.7777777777777778,
              "#fb9f3a"
             ],
             [
              0.8888888888888888,
              "#fdca26"
             ],
             [
              1,
              "#f0f921"
             ]
            ],
            "type": "heatmapgl"
           }
          ],
          "histogram": [
           {
            "marker": {
             "pattern": {
              "fillmode": "overlay",
              "size": 10,
              "solidity": 0.2
             }
            },
            "type": "histogram"
           }
          ],
          "histogram2d": [
           {
            "colorbar": {
             "outlinewidth": 0,
             "ticks": ""
            },
            "colorscale": [
             [
              0,
              "#0d0887"
             ],
             [
              0.1111111111111111,
              "#46039f"
             ],
             [
              0.2222222222222222,
              "#7201a8"
             ],
             [
              0.3333333333333333,
              "#9c179e"
             ],
             [
              0.4444444444444444,
              "#bd3786"
             ],
             [
              0.5555555555555556,
              "#d8576b"
             ],
             [
              0.6666666666666666,
              "#ed7953"
             ],
             [
              0.7777777777777778,
              "#fb9f3a"
             ],
             [
              0.8888888888888888,
              "#fdca26"
             ],
             [
              1,
              "#f0f921"
             ]
            ],
            "type": "histogram2d"
           }
          ],
          "histogram2dcontour": [
           {
            "colorbar": {
             "outlinewidth": 0,
             "ticks": ""
            },
            "colorscale": [
             [
              0,
              "#0d0887"
             ],
             [
              0.1111111111111111,
              "#46039f"
             ],
             [
              0.2222222222222222,
              "#7201a8"
             ],
             [
              0.3333333333333333,
              "#9c179e"
             ],
             [
              0.4444444444444444,
              "#bd3786"
             ],
             [
              0.5555555555555556,
              "#d8576b"
             ],
             [
              0.6666666666666666,
              "#ed7953"
             ],
             [
              0.7777777777777778,
              "#fb9f3a"
             ],
             [
              0.8888888888888888,
              "#fdca26"
             ],
             [
              1,
              "#f0f921"
             ]
            ],
            "type": "histogram2dcontour"
           }
          ],
          "mesh3d": [
           {
            "colorbar": {
             "outlinewidth": 0,
             "ticks": ""
            },
            "type": "mesh3d"
           }
          ],
          "parcoords": [
           {
            "line": {
             "colorbar": {
              "outlinewidth": 0,
              "ticks": ""
             }
            },
            "type": "parcoords"
           }
          ],
          "pie": [
           {
            "automargin": true,
            "type": "pie"
           }
          ],
          "scatter": [
           {
            "fillpattern": {
             "fillmode": "overlay",
             "size": 10,
             "solidity": 0.2
            },
            "type": "scatter"
           }
          ],
          "scatter3d": [
           {
            "line": {
             "colorbar": {
              "outlinewidth": 0,
              "ticks": ""
             }
            },
            "marker": {
             "colorbar": {
              "outlinewidth": 0,
              "ticks": ""
             }
            },
            "type": "scatter3d"
           }
          ],
          "scattercarpet": [
           {
            "marker": {
             "colorbar": {
              "outlinewidth": 0,
              "ticks": ""
             }
            },
            "type": "scattercarpet"
           }
          ],
          "scattergeo": [
           {
            "marker": {
             "colorbar": {
              "outlinewidth": 0,
              "ticks": ""
             }
            },
            "type": "scattergeo"
           }
          ],
          "scattergl": [
           {
            "marker": {
             "colorbar": {
              "outlinewidth": 0,
              "ticks": ""
             }
            },
            "type": "scattergl"
           }
          ],
          "scattermapbox": [
           {
            "marker": {
             "colorbar": {
              "outlinewidth": 0,
              "ticks": ""
             }
            },
            "type": "scattermapbox"
           }
          ],
          "scatterpolar": [
           {
            "marker": {
             "colorbar": {
              "outlinewidth": 0,
              "ticks": ""
             }
            },
            "type": "scatterpolar"
           }
          ],
          "scatterpolargl": [
           {
            "marker": {
             "colorbar": {
              "outlinewidth": 0,
              "ticks": ""
             }
            },
            "type": "scatterpolargl"
           }
          ],
          "scatterternary": [
           {
            "marker": {
             "colorbar": {
              "outlinewidth": 0,
              "ticks": ""
             }
            },
            "type": "scatterternary"
           }
          ],
          "surface": [
           {
            "colorbar": {
             "outlinewidth": 0,
             "ticks": ""
            },
            "colorscale": [
             [
              0,
              "#0d0887"
             ],
             [
              0.1111111111111111,
              "#46039f"
             ],
             [
              0.2222222222222222,
              "#7201a8"
             ],
             [
              0.3333333333333333,
              "#9c179e"
             ],
             [
              0.4444444444444444,
              "#bd3786"
             ],
             [
              0.5555555555555556,
              "#d8576b"
             ],
             [
              0.6666666666666666,
              "#ed7953"
             ],
             [
              0.7777777777777778,
              "#fb9f3a"
             ],
             [
              0.8888888888888888,
              "#fdca26"
             ],
             [
              1,
              "#f0f921"
             ]
            ],
            "type": "surface"
           }
          ],
          "table": [
           {
            "cells": {
             "fill": {
              "color": "#EBF0F8"
             },
             "line": {
              "color": "white"
             }
            },
            "header": {
             "fill": {
              "color": "#C8D4E3"
             },
             "line": {
              "color": "white"
             }
            },
            "type": "table"
           }
          ]
         },
         "layout": {
          "annotationdefaults": {
           "arrowcolor": "#2a3f5f",
           "arrowhead": 0,
           "arrowwidth": 1
          },
          "autotypenumbers": "strict",
          "coloraxis": {
           "colorbar": {
            "outlinewidth": 0,
            "ticks": ""
           }
          },
          "colorscale": {
           "diverging": [
            [
             0,
             "#8e0152"
            ],
            [
             0.1,
             "#c51b7d"
            ],
            [
             0.2,
             "#de77ae"
            ],
            [
             0.3,
             "#f1b6da"
            ],
            [
             0.4,
             "#fde0ef"
            ],
            [
             0.5,
             "#f7f7f7"
            ],
            [
             0.6,
             "#e6f5d0"
            ],
            [
             0.7,
             "#b8e186"
            ],
            [
             0.8,
             "#7fbc41"
            ],
            [
             0.9,
             "#4d9221"
            ],
            [
             1,
             "#276419"
            ]
           ],
           "sequential": [
            [
             0,
             "#0d0887"
            ],
            [
             0.1111111111111111,
             "#46039f"
            ],
            [
             0.2222222222222222,
             "#7201a8"
            ],
            [
             0.3333333333333333,
             "#9c179e"
            ],
            [
             0.4444444444444444,
             "#bd3786"
            ],
            [
             0.5555555555555556,
             "#d8576b"
            ],
            [
             0.6666666666666666,
             "#ed7953"
            ],
            [
             0.7777777777777778,
             "#fb9f3a"
            ],
            [
             0.8888888888888888,
             "#fdca26"
            ],
            [
             1,
             "#f0f921"
            ]
           ],
           "sequentialminus": [
            [
             0,
             "#0d0887"
            ],
            [
             0.1111111111111111,
             "#46039f"
            ],
            [
             0.2222222222222222,
             "#7201a8"
            ],
            [
             0.3333333333333333,
             "#9c179e"
            ],
            [
             0.4444444444444444,
             "#bd3786"
            ],
            [
             0.5555555555555556,
             "#d8576b"
            ],
            [
             0.6666666666666666,
             "#ed7953"
            ],
            [
             0.7777777777777778,
             "#fb9f3a"
            ],
            [
             0.8888888888888888,
             "#fdca26"
            ],
            [
             1,
             "#f0f921"
            ]
           ]
          },
          "colorway": [
           "#636efa",
           "#EF553B",
           "#00cc96",
           "#ab63fa",
           "#FFA15A",
           "#19d3f3",
           "#FF6692",
           "#B6E880",
           "#FF97FF",
           "#FECB52"
          ],
          "font": {
           "color": "#2a3f5f"
          },
          "geo": {
           "bgcolor": "white",
           "lakecolor": "white",
           "landcolor": "#E5ECF6",
           "showlakes": true,
           "showland": true,
           "subunitcolor": "white"
          },
          "hoverlabel": {
           "align": "left"
          },
          "hovermode": "closest",
          "mapbox": {
           "style": "light"
          },
          "paper_bgcolor": "white",
          "plot_bgcolor": "#E5ECF6",
          "polar": {
           "angularaxis": {
            "gridcolor": "white",
            "linecolor": "white",
            "ticks": ""
           },
           "bgcolor": "#E5ECF6",
           "radialaxis": {
            "gridcolor": "white",
            "linecolor": "white",
            "ticks": ""
           }
          },
          "scene": {
           "xaxis": {
            "backgroundcolor": "#E5ECF6",
            "gridcolor": "white",
            "gridwidth": 2,
            "linecolor": "white",
            "showbackground": true,
            "ticks": "",
            "zerolinecolor": "white"
           },
           "yaxis": {
            "backgroundcolor": "#E5ECF6",
            "gridcolor": "white",
            "gridwidth": 2,
            "linecolor": "white",
            "showbackground": true,
            "ticks": "",
            "zerolinecolor": "white"
           },
           "zaxis": {
            "backgroundcolor": "#E5ECF6",
            "gridcolor": "white",
            "gridwidth": 2,
            "linecolor": "white",
            "showbackground": true,
            "ticks": "",
            "zerolinecolor": "white"
           }
          },
          "shapedefaults": {
           "line": {
            "color": "#2a3f5f"
           }
          },
          "ternary": {
           "aaxis": {
            "gridcolor": "white",
            "linecolor": "white",
            "ticks": ""
           },
           "baxis": {
            "gridcolor": "white",
            "linecolor": "white",
            "ticks": ""
           },
           "bgcolor": "#E5ECF6",
           "caxis": {
            "gridcolor": "white",
            "linecolor": "white",
            "ticks": ""
           }
          },
          "title": {
           "x": 0.05
          },
          "xaxis": {
           "automargin": true,
           "gridcolor": "white",
           "linecolor": "white",
           "ticks": "",
           "title": {
            "standoff": 15
           },
           "zerolinecolor": "white",
           "zerolinewidth": 2
          },
          "yaxis": {
           "automargin": true,
           "gridcolor": "white",
           "linecolor": "white",
           "ticks": "",
           "title": {
            "standoff": 15
           },
           "zerolinecolor": "white",
           "zerolinewidth": 2
          }
         }
        },
        "xaxis": {
         "anchor": "y",
         "domain": [
          0,
          1
         ],
         "title": {
          "text": "No. Bids Submitted"
         }
        },
        "yaxis": {
         "anchor": "x",
         "domain": [
          0,
          1
         ],
         "title": {
          "text": "Count"
         }
        }
       }
      }
     },
     "metadata": {},
     "output_type": "display_data"
    }
   ],
   "source": [
    "# ---WINNING BIDDER NO BIDS SUBMITTED---\n",
    "fig = px.histogram(map(lambda no: str(no), df['winner_no_bids_submitted']), color=df['winner_type'])\n",
    "\n",
    "fig.update_xaxes(title='No. Bids Submitted')\n",
    "fig.update_yaxes(title='Count')\n",
    "fig.show()\n"
   ]
  },
  {
   "cell_type": "code",
   "execution_count": 65,
   "metadata": {},
   "outputs": [],
   "source": [
    "# TODO - afhverju eru uppboðin svona stutt??"
   ]
  },
  {
   "cell_type": "code",
   "execution_count": null,
   "metadata": {},
   "outputs": [],
   "source": []
  }
 ],
 "metadata": {
  "kernelspec": {
   "display_name": "Python 3.9.13 64-bit",
   "language": "python",
   "name": "python3"
  },
  "language_info": {
   "codemirror_mode": {
    "name": "ipython",
    "version": 3
   },
   "file_extension": ".py",
   "mimetype": "text/x-python",
   "name": "python",
   "nbconvert_exporter": "python",
   "pygments_lexer": "ipython3",
   "version": "3.9.13"
  },
  "orig_nbformat": 4,
  "vscode": {
   "interpreter": {
    "hash": "aee8b7b246df8f9039afb4144a1f6fd8d2ca17a180786b69acc140d282b71a49"
   }
  }
 },
 "nbformat": 4,
 "nbformat_minor": 2
}
