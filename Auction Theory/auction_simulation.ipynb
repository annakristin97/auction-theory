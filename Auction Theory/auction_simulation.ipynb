{
 "cells": [
  {
   "cell_type": "code",
   "execution_count": 545,
   "metadata": {},
   "outputs": [],
   "source": [
    "import numpy as np\n",
    "import random as rd\n",
    "import matplotlib.pyplot as plt\n",
    "import math\n",
    "import pandas as pd\n",
    "\n",
    "from enum import Enum\n"
   ]
  },
  {
   "cell_type": "markdown",
   "metadata": {},
   "source": [
    "## Enums and Static Values\n"
   ]
  },
  {
   "cell_type": "code",
   "execution_count": 546,
   "metadata": {},
   "outputs": [],
   "source": [
    "class BIDDER_TYPE(Enum):\n",
    "    early = 1\n",
    "    sniper = 2"
   ]
  },
  {
   "cell_type": "code",
   "execution_count": 547,
   "metadata": {},
   "outputs": [],
   "source": [
    "new_line = '\\n'\n",
    "new_line_space = '\\n' + '   '"
   ]
  },
  {
   "cell_type": "markdown",
   "metadata": {},
   "source": [
    "## Classes\n"
   ]
  },
  {
   "cell_type": "code",
   "execution_count": 548,
   "metadata": {},
   "outputs": [],
   "source": [
    "class Auction:\n",
    "    def __init__(self, id, N, T, reserve, start_bid):\n",
    "        self.id = id\n",
    "\n",
    "        # static values\n",
    "        self.N = N\n",
    "        self.T = T\n",
    "        self.reserve = reserve\n",
    "        self.start_bid = start_bid\n",
    "        self.bidders = None\n",
    "\n",
    "        # dynamic values\n",
    "        self.t = 0\n",
    "        self.curr_bid = start_bid\n",
    "\n",
    "    def __str__(self) -> str:\n",
    "\n",
    "        attribute_strings = (\n",
    "            'id: ' + self.id + new_line_space +\n",
    "            'no. bidders: ' + str(self.N) + new_line_space +\n",
    "            'duration: ' + str(self.T) + new_line_space +\n",
    "            'reserve: ' + str(self.reserve) + new_line\n",
    "        )\n",
    "\n",
    "        return (\n",
    "            'Auction(' + new_line_space +\n",
    "            attribute_strings +\n",
    "            ')' + new_line\n",
    "        )\n"
   ]
  },
  {
   "cell_type": "code",
   "execution_count": 549,
   "metadata": {},
   "outputs": [],
   "source": [
    "\n",
    "class Bidder:\n",
    "    def __init__(self, name, risk_coef, wealth_coef, experience_coef, bidder_type, predef_value):\n",
    "        self.name = name\n",
    "\n",
    "        # static values\n",
    "        self.risk_coef = risk_coef  # how much risk is the bidder willing to take?\n",
    "        self.wealth_coef = wealth_coef  # how wealthy is the bidder?\n",
    "        self.experience_coef = experience_coef  # how experienced is the bidder?\n",
    "        self.bidder_type = bidder_type  # early bidder or sniper\n",
    "        self.predef_value = predef_value  # bidder's estimated value of item pre-auction\n",
    "\n",
    "        # dynamic values\n",
    "        self.curr_value = predef_value  # bidders updated in-auction value\n",
    "        self.is_active = True # all bidders start active\n",
    "\n",
    "    def __str__(self) -> str:\n",
    "\n",
    "        attribute_strings = (\n",
    "            'name: ' + self.name + new_line_space +\n",
    "            'predef_value: ' + str(self.predef_value) + new_line_space +\n",
    "            'curr_value: ' + str(self.curr_value) + new_line_space +\n",
    "            'bidder_type: ' + str(self.bidder_type) + new_line\n",
    "        )\n",
    "\n",
    "        return (\n",
    "            'Bidder(' + new_line_space +\n",
    "            attribute_strings +\n",
    "            ')' + new_line\n",
    "        )\n"
   ]
  },
  {
   "cell_type": "code",
   "execution_count": 550,
   "metadata": {},
   "outputs": [],
   "source": [
    "class Bid:\n",
    "    def __init__(self, amount: int, bidder: Bidder):\n",
    "        self.amount = amount\n",
    "        self.bidder = bidder\n",
    "\n",
    "    def __str__(self) -> str:\n",
    "        return 'Bid(amount=' + str(self.amount) + ' ,bidder=' + str(self.bidder) + ')'\n"
   ]
  },
  {
   "cell_type": "markdown",
   "metadata": {},
   "source": [
    "## Helper Functions\n"
   ]
  },
  {
   "cell_type": "markdown",
   "metadata": {},
   "source": [
    "### Distributions"
   ]
  },
  {
   "cell_type": "code",
   "execution_count": 551,
   "metadata": {},
   "outputs": [],
   "source": [
    "def get_affiliated_pvs(mu, sigma, count):\n",
    "    # TODO: find more precise distribution\n",
    "    return np.random.normal(mu, sigma, count)\n"
   ]
  },
  {
   "cell_type": "markdown",
   "metadata": {},
   "source": [
    "### Other"
   ]
  },
  {
   "cell_type": "code",
   "execution_count": 552,
   "metadata": {},
   "outputs": [],
   "source": [
    "def get_bidder_bid(curr_bid: Bid, curr_time: int, bidder: Bidder, duration: int):\n",
    "    bid_amount = 0\n",
    "\n",
    "    is_time_to_bid = (\n",
    "        (bidder.bidder_type == BIDDER_TYPE.early)\n",
    "        |\n",
    "        (\n",
    "            # bids if time 90% of T or bid 90% of value\n",
    "            (bidder.bidder_type == BIDDER_TYPE.sniper)\n",
    "            &\n",
    "            (\n",
    "                (curr_time > 0.9 * duration)))\n",
    "        |\n",
    "        (curr_bid.amount > bidder.curr_value * 0.9)\n",
    "    )\n",
    "\n",
    "    # early vs. sniper\n",
    "    if (is_time_to_bid & (curr_bid.bidder != bidder) & (curr_bid.amount < bidder.curr_value)):\n",
    "        # bid random btw. current bid and halfway from current bid to own value\n",
    "        bid_amount = rd.randint(curr_bid.amount, math.floor(\n",
    "            curr_bid.amount + (bidder.curr_value - curr_bid.amount) / 2))\n",
    "\n",
    "    return bid_amount\n"
   ]
  },
  {
   "cell_type": "code",
   "execution_count": 553,
   "metadata": {},
   "outputs": [],
   "source": [
    "\n",
    "def run_auction(auction):\n",
    "    auction.curr_bid = auction.start_bid\n",
    "    auction.t = 0\n",
    "    no_more_bids = False\n",
    "\n",
    "    while ((auction.t < auction.T) & (not no_more_bids)):\n",
    "        bids = []\n",
    "\n",
    "        for bidder in auction.bidders:\n",
    "            bid_amount = get_bidder_bid(\n",
    "                auction.curr_bid, auction.t, bidder, auction.T)\n",
    "\n",
    "            if (bid_amount > auction.curr_bid.amount):\n",
    "                bids.append(Bid(bid_amount, bidder))\n",
    "\n",
    "        if (len(bids) > 0):\n",
    "            max_bid = max(bids, key=lambda bid: bid.amount)\n",
    "            auction.curr_bid = max_bid\n",
    "\n",
    "        else:\n",
    "            no_more_bids = True\n",
    "\n",
    "        auction.t += 1\n",
    "\n",
    "    return auction.curr_bid\n"
   ]
  },
  {
   "cell_type": "code",
   "execution_count": 554,
   "metadata": {},
   "outputs": [],
   "source": [
    "def run_simulation(no_iterations):\n",
    "    # mean and standard deviation of private values\n",
    "    avg, std = 100, 10\n",
    "    winning_bids = []\n",
    "    for i in range(0, no_iterations):\n",
    "        auction = Auction(id='a'+str(i+1), N=20, T=50,\n",
    "                          reserve=95, start_bid=Bid(0, None))\n",
    "\n",
    "        bidder_private_values = get_affiliated_pvs(\n",
    "            mu=avg, sigma=std, count=auction.N)\n",
    "\n",
    "        bidders = []\n",
    "        for i in range(0, auction.N):\n",
    "            bidders.append(Bidder('b'+str(i+1), 1, 1, 1, rd.choice(\n",
    "                [BIDDER_TYPE.early, BIDDER_TYPE.sniper]), int(bidder_private_values[i])))\n",
    "\n",
    "        auction.bidders = bidders\n",
    "\n",
    "        winning_bids.append(run_auction(auction))\n",
    "\n",
    "    return winning_bids\n"
   ]
  },
  {
   "cell_type": "markdown",
   "metadata": {},
   "source": [
    "## Simulation\n"
   ]
  },
  {
   "cell_type": "code",
   "execution_count": 555,
   "metadata": {},
   "outputs": [],
   "source": [
    "winning_bids = run_simulation(1000)\n"
   ]
  },
  {
   "cell_type": "code",
   "execution_count": 556,
   "metadata": {},
   "outputs": [
    {
     "data": {
      "text/plain": [
       "<AxesSubplot: >"
      ]
     },
     "execution_count": 556,
     "metadata": {},
     "output_type": "execute_result"
    },
    {
     "data": {
      "image/png": "[encoded data removed]",
      "text/plain": [
       "<Figure size 640x480 with 1 Axes>"
      ]
     },
     "metadata": {},
     "output_type": "display_data"
    }
   ],
   "source": [
    "\n",
    "# ---AMOUNT---\n",
    "\n",
    "winning_bid_amounts = list(map(lambda bid: bid.amount, winning_bids))\n",
    "\n",
    "sorted_winning_bid_amounts = sorted(winning_bid_amounts)\n",
    "\n",
    "pd.value_counts(winning_bid_amounts).sort_index().plot.bar()\n",
    "\n",
    "# plt.plot(sorted_winning_bid_amounts)\n",
    "# plt.show()\n"
   ]
  },
  {
   "cell_type": "code",
   "execution_count": 557,
   "metadata": {},
   "outputs": [
    {
     "data": {
      "text/plain": [
       "<AxesSubplot: >"
      ]
     },
     "execution_count": 557,
     "metadata": {},
     "output_type": "execute_result"
    },
    {
     "data": {
      "image/png": "[encoded data removed]",
      "text/plain": [
       "<Figure size 640x480 with 1 Axes>"
      ]
     },
     "metadata": {},
     "output_type": "display_data"
    }
   ],
   "source": [
    "# ---WINNING BIDDER TYPE---\n",
    "\n",
    "winning_bidder_types = list(\n",
    "    map(lambda bid: bid.bidder.bidder_type, winning_bids))\n",
    "\n",
    "pd.value_counts(winning_bidder_types).plot.bar()\n"
   ]
  },
  {
   "cell_type": "code",
   "execution_count": 558,
   "metadata": {},
   "outputs": [
    {
     "data": {
      "text/plain": [
       "<AxesSubplot: >"
      ]
     },
     "execution_count": 558,
     "metadata": {},
     "output_type": "execute_result"
    },
    {
     "data": {
      "image/png": "[encoded data removed]",
      "text/plain": [
       "<Figure size 640x480 with 1 Axes>"
      ]
     },
     "metadata": {},
     "output_type": "display_data"
    }
   ],
   "source": [
    "# ---WINNING BIDDER UTILITY---\n",
    "\n",
    "winning_bidder_utility = list(\n",
    "    map(lambda bid: bid.bidder.curr_value - bid.amount, winning_bids))\n",
    "\n",
    "pd.value_counts(winning_bidder_utility).sort_index().plot.bar()\n"
   ]
  },
  {
   "cell_type": "code",
   "execution_count": null,
   "metadata": {},
   "outputs": [],
   "source": []
  }
 ],
 "metadata": {
  "kernelspec": {
   "display_name": "Python 3.9.13 64-bit",
   "language": "python",
   "name": "python3"
  },
  "language_info": {
   "codemirror_mode": {
    "name": "ipython",
    "version": 3
   },
   "file_extension": ".py",
   "mimetype": "text/x-python",
   "name": "python",
   "nbconvert_exporter": "python",
   "pygments_lexer": "ipython3",
   "version": "3.9.13"
  },
  "orig_nbformat": 4,
  "vscode": {
   "interpreter": {
    "hash": "aee8b7b246df8f9039afb4144a1f6fd8d2ca17a180786b69acc140d282b71a49"
   }
  }
 },
 "nbformat": 4,
 "nbformat_minor": 2
}
