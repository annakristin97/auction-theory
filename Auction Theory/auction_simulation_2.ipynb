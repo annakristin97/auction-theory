{
 "cells": [
  {
   "cell_type": "code",
   "execution_count": 1,
   "metadata": {},
   "outputs": [],
   "source": [
    "import numpy as np\n",
    "import random as rd\n",
    "import matplotlib.pyplot as plt\n",
    "import math\n",
    "import copy\n",
    "import pandas as pd\n",
    "import plotly.express as px\n",
    "\n",
    "\n",
    "from enum import Enum\n",
    "from scipy.stats import truncnorm\n",
    "\n",
    "import seaborn as sns\n"
   ]
  },
  {
   "cell_type": "markdown",
   "metadata": {},
   "source": [
    "# Auction Simulation\n"
   ]
  },
  {
   "cell_type": "markdown",
   "metadata": {},
   "source": [
    "## Enums and Static Values\n"
   ]
  },
  {
   "cell_type": "code",
   "execution_count": 2,
   "metadata": {},
   "outputs": [],
   "source": [
    "class BIDDER_TYPE(Enum):\n",
    "    influencer = 1\n",
    "    reactor = 2\n"
   ]
  },
  {
   "cell_type": "code",
   "execution_count": 3,
   "metadata": {},
   "outputs": [],
   "source": [
    "new_line = '\\n'\n",
    "new_line_space = '\\n' + '   '\n"
   ]
  },
  {
   "cell_type": "markdown",
   "metadata": {},
   "source": [
    "## Helper Functions\n"
   ]
  },
  {
   "cell_type": "code",
   "execution_count": 4,
   "metadata": {},
   "outputs": [],
   "source": [
    "def get_truncated_normal(mean, std, count, low=0, upp=1):\n",
    "    a, b = (low - mean) / std, (upp - mean) / std\n",
    "\n",
    "    return truncnorm.rvs(\n",
    "        a, b, loc=mean, scale=std, size=count)\n"
   ]
  },
  {
   "cell_type": "code",
   "execution_count": 5,
   "metadata": {},
   "outputs": [],
   "source": [
    "def get_bidder_type(beta_self, std):\n",
    "    std_self = (1/math.sqrt(beta_self)) / std\n",
    "    if std_self < 0.5:\n",
    "        return BIDDER_TYPE.reactor\n",
    "\n",
    "    return BIDDER_TYPE.influencer\n"
   ]
  },
  {
   "cell_type": "code",
   "execution_count": 6,
   "metadata": {},
   "outputs": [],
   "source": [
    "def average_value(values):\n",
    "    return sum(values) / len(values)\n"
   ]
  },
  {
   "cell_type": "code",
   "execution_count": 7,
   "metadata": {},
   "outputs": [],
   "source": [
    "def calculate_betas(private_info, consensus_bias, desire_coef, risk_coef, std_private_values):\n",
    "    # beta = 1/std^2\n",
    "    std_self_coef = average_value(\n",
    "        [1-private_info, 1-consensus_bias, desire_coef, risk_coef])\n",
    "    std_others_coef = 1 - std_self_coef\n",
    "\n",
    "    std_self = std_self_coef * std_private_values\n",
    "    std_others = std_others_coef * std_private_values\n",
    "    return 1/math.pow(std_self, 2), 1/math.pow(std_others, 2)\n"
   ]
  },
  {
   "cell_type": "code",
   "execution_count": 8,
   "metadata": {},
   "outputs": [],
   "source": [
    "def get_value_belief_dist(private_value, beta, no_bidders):\n",
    "    # loc: mean\n",
    "    # scale: std (sigma)\n",
    "    # size: how many numbers to generate\n",
    "    return np.random.normal(loc=private_value, scale=math.sqrt(1/(beta)), size=no_bidders)\n"
   ]
  },
  {
   "cell_type": "code",
   "execution_count": 9,
   "metadata": {},
   "outputs": [],
   "source": [
    "def update_belief_set(bidder, new_bid_amount, no_bidders, time, total_time):\n",
    "    # what is the probability that this new_bid_amount is correct, given our current assumptions?\n",
    "\n",
    "    std_others = math.sqrt(1/bidder.beta_others)\n",
    "    std_self = math.sqrt(1/bidder.beta_self)\n",
    "\n",
    "    beta_incoming = bidder.beta_others * (time / total_time)\n",
    "\n",
    "    beta_new = bidder.beta_self + beta_incoming\n",
    "    mean_new = ((bidder.beta_self/beta_new) * bidder.curr_value) + \\\n",
    "        ((beta_incoming/beta_new) * new_bid_amount)\n",
    "\n",
    "    bidder.curr_value = math.floor(mean_new)\n",
    "    bidder.beta = beta_new\n",
    "    bidder.value_belief_distribution = get_value_belief_dist(\n",
    "        bidder.curr_value, bidder.beta, no_bidders)\n"
   ]
  },
  {
   "cell_type": "markdown",
   "metadata": {},
   "source": [
    "### Plotting\n"
   ]
  },
  {
   "cell_type": "code",
   "execution_count": 10,
   "metadata": {},
   "outputs": [],
   "source": [
    "def plot_belief_distributions(belief_sets, title):\n",
    "    plt.figure(figsize=(20, 12))\n",
    "\n",
    "    belief_set_df = pd.concat([pd.Series(x) for x in belief_sets], axis=1)\n",
    "\n",
    "    sns.displot(data=belief_set_df, kind=\"kde\").set(\n",
    "        title=title, xlabel='Item Value', ylabel='Density')\n",
    "\n",
    "    plt.show()\n"
   ]
  },
  {
   "cell_type": "markdown",
   "metadata": {},
   "source": [
    "## Classes\n"
   ]
  },
  {
   "cell_type": "code",
   "execution_count": 11,
   "metadata": {},
   "outputs": [],
   "source": [
    "class Auction:\n",
    "    def __init__(self, id, N, T, reserve, start_bid):\n",
    "        self.id = id\n",
    "\n",
    "        # static values\n",
    "        self.N = N\n",
    "        self.T = T\n",
    "        self.reserve = reserve\n",
    "        self.start_bid = start_bid\n",
    "        self.bidders = None\n",
    "\n",
    "        # dynamic values\n",
    "        self.t = 0\n",
    "        self.curr_bid = start_bid\n",
    "\n",
    "    def __str__(self) -> str:\n",
    "\n",
    "        attribute_strings = (\n",
    "            'id: ' + self.id + new_line_space +\n",
    "            'no. bidders: ' + str(self.N) + new_line_space +\n",
    "            'duration: ' + str(self.T) + new_line_space +\n",
    "            'reserve: ' + str(self.reserve) + new_line\n",
    "        )\n",
    "\n",
    "        return (\n",
    "            'Auction(' + new_line_space +\n",
    "            attribute_strings +\n",
    "            ')' + new_line\n",
    "        )\n"
   ]
  },
  {
   "cell_type": "code",
   "execution_count": 12,
   "metadata": {},
   "outputs": [],
   "source": [
    "\n",
    "class Bidder:\n",
    "    def __init__(self, name, bidder_type, predef_value, beta_self, beta_others, desire_coef, value_belief_distribution):\n",
    "        self.name = name\n",
    "        self.bidder_type = bidder_type  # influencer bidder or reactor\n",
    "        self.predef_value = predef_value  # bidder's estimated value of item pre-auction\n",
    "\n",
    "        # how much does the bidder want the item at the start?\n",
    "        self.desire_coef = desire_coef\n",
    "        self.curr_value = predef_value  # bidders updated in-auction value\n",
    "        self.is_active = True  # all bidders start active\n",
    "        self.no_bids_submitted = 0  # no bids submitted by bidder\n",
    "        # what he thinks other bidder's values are\n",
    "        self.value_belief_distribution = value_belief_distribution\n",
    "\n",
    "        # --- beta coefficients ---\n",
    "\n",
    "        # static\n",
    "        self.beta_self = beta_self  # how much bidder trusts his original value estimate\n",
    "        self.beta_others = beta_others  # how much the bidder trusts incoming information\n",
    "\n",
    "        # dynamic\n",
    "        self.beta = beta_self  # how much bidder trusts his current value estimate\n",
    "\n",
    "    def __str__(self) -> str:\n",
    "\n",
    "        attribute_strings = (\n",
    "            'name: ' + self.name + new_line_space +\n",
    "            'predef_value: ' + str(self.predef_value) + new_line_space +\n",
    "            'curr_value: ' + str(self.curr_value) + new_line_space +\n",
    "            'beta_self: ' + str(self.beta_self) + new_line_space +\n",
    "            'beta: ' + str(self.beta) + new_line_space +\n",
    "            'beta_others: ' + str(self.beta_others) + new_line_space +\n",
    "            'bidder_type: ' + str(self.bidder_type) + new_line\n",
    "        )\n",
    "\n",
    "        return (\n",
    "            'Bidder(' + new_line_space +\n",
    "            attribute_strings +\n",
    "            ')' + new_line\n",
    "        )\n"
   ]
  },
  {
   "cell_type": "code",
   "execution_count": 13,
   "metadata": {},
   "outputs": [],
   "source": [
    "class Bid:\n",
    "    def __init__(self, amount: int, bidder: Bidder):\n",
    "        self.amount = amount\n",
    "        self.bidder = bidder\n",
    "\n",
    "    def __str__(self) -> str:\n",
    "        return 'Bid(amount=' + str(self.amount) + ' ,bidder=' + str(self.bidder) + ')'\n"
   ]
  },
  {
   "cell_type": "markdown",
   "metadata": {},
   "source": [
    "## Simulation Functions\n"
   ]
  },
  {
   "cell_type": "code",
   "execution_count": 14,
   "metadata": {},
   "outputs": [],
   "source": [
    "def get_bidder_bid(curr_bid: Bid, curr_time: int, bidder: Bidder, duration: int):\n",
    "    bid_amount = 0\n",
    "\n",
    "    is_time_to_bid = (\n",
    "        (bidder.bidder_type == BIDDER_TYPE.influencer)\n",
    "        |\n",
    "        (\n",
    "            # bids if time 90% of T or bid 90% of value\n",
    "            (bidder.bidder_type == BIDDER_TYPE.reactor)\n",
    "            &\n",
    "            ((curr_time > 0.9 * duration) |\n",
    "             (curr_bid.amount > bidder.curr_value * 0.9))\n",
    "        )\n",
    "    )\n",
    "\n",
    "    # influencer vs. reactor\n",
    "    if (is_time_to_bid & (curr_bid.bidder != bidder) & (curr_bid.amount < bidder.curr_value)):\n",
    "        # bid random btw. current bid and halfway from current bid to own value\n",
    "        bid_amount = rd.randint(curr_bid.amount, math.floor(\n",
    "            curr_bid.amount + (bidder.curr_value - curr_bid.amount) / 2))\n",
    "\n",
    "    return bid_amount\n"
   ]
  },
  {
   "cell_type": "code",
   "execution_count": 15,
   "metadata": {},
   "outputs": [],
   "source": [
    "\n",
    "def run_auction(auction):\n",
    "    auction.curr_bid = auction.start_bid\n",
    "    auction.t = 0\n",
    "    no_more_bids = False\n",
    "\n",
    "    while ((auction.t < auction.T) & (not no_more_bids)):\n",
    "        bids = []\n",
    "\n",
    "        for bidder in auction.bidders:\n",
    "            bid_amount = get_bidder_bid(\n",
    "                auction.curr_bid, auction.t, bidder, auction.T)\n",
    "\n",
    "            if (bid_amount > auction.curr_bid.amount):\n",
    "                bids.append(Bid(bid_amount, bidder))\n",
    "\n",
    "        if (len(bids) > 0):\n",
    "            max_bid = max(bids, key=lambda bid: bid.amount)\n",
    "            auction.curr_bid = max_bid\n",
    "            auction.curr_bid.bidder.no_bids_submitted += 1\n",
    "            for bidder in auction.bidders:\n",
    "                update_belief_set(\n",
    "                    bidder=bidder, new_bid_amount=auction.curr_bid.amount, no_bidders=auction.N, time=auction.t, total_time=auction.T)\n",
    "\n",
    "        else:\n",
    "            no_more_bids = True\n",
    "\n",
    "        auction.t += 1\n",
    "\n",
    "    return auction.curr_bid\n"
   ]
  },
  {
   "cell_type": "code",
   "execution_count": 16,
   "metadata": {},
   "outputs": [],
   "source": [
    "def run_simulation(no_iterations):\n",
    "    # mean and standard deviation of private values\n",
    "    # std: how affiliated are the private values?? TODO!!\n",
    "    avg = 5000\n",
    "    std = avg * 0.2\n",
    "    winning_bids = []\n",
    "    all_original_bidders = []\n",
    "    all_final_bidders = []\n",
    "    for i in range(0, no_iterations):\n",
    "        auction = Auction(id='b'+str(i+1), N=10, T=30,\n",
    "                          reserve=4000, start_bid=Bid(0, None))\n",
    "\n",
    "        bidder_private_values = [math.floor(x) for x in get_truncated_normal(\n",
    "            mean=avg, std=std, count=auction.N, low=0, upp=1000000)]\n",
    "        bidder_private_infos = get_truncated_normal(\n",
    "            mean=0.5, std=0.25, count=auction.N)\n",
    "        bidder_consensus_bias = get_truncated_normal(\n",
    "            mean=0.5, std=0.25, count=auction.N)\n",
    "        bidder_desires = get_truncated_normal(\n",
    "            mean=0.5, std=0.25, count=auction.N)\n",
    "        bidder_risk_coefs = get_truncated_normal(\n",
    "            mean=0.5, std=0.25, count=auction.N)\n",
    "\n",
    "        bidders = []\n",
    "        for i in range(0, auction.N):\n",
    "            beta_self, beta_others = calculate_betas(\n",
    "                bidder_private_infos[i], bidder_consensus_bias[i], bidder_desires[i], bidder_risk_coefs[i], std)\n",
    "            bidder_type = get_bidder_type(beta_self, std)\n",
    "\n",
    "            bidders.append(Bidder(\n",
    "                name='b'+str(i+1),\n",
    "                bidder_type=bidder_type,\n",
    "                predef_value=bidder_private_values[i],\n",
    "                beta_self=beta_self,\n",
    "                beta_others=beta_others,\n",
    "                desire_coef=bidder_desires[i],\n",
    "                value_belief_distribution=get_value_belief_dist(bidder_private_values[i], beta_self, auction.N)))\n",
    "\n",
    "        original_bidders = copy.deepcopy(bidders)\n",
    "        all_original_bidders.append(original_bidders)\n",
    "\n",
    "        auction.bidders = bidders\n",
    "\n",
    "        winning_bids.append(run_auction(auction))\n",
    "        all_final_bidders.append(auction.bidders)\n",
    "\n",
    "    return winning_bids, all_final_bidders, all_original_bidders\n"
   ]
  },
  {
   "cell_type": "markdown",
   "metadata": {},
   "source": [
    "## Simulation\n"
   ]
  },
  {
   "cell_type": "code",
   "execution_count": 17,
   "metadata": {},
   "outputs": [],
   "source": [
    "winning_bids, all_final_bidders, all_original_bidders = run_simulation(3)\n"
   ]
  },
  {
   "cell_type": "code",
   "execution_count": 18,
   "metadata": {},
   "outputs": [
    {
     "ename": "NameError",
     "evalue": "name 'sns' is not defined",
     "output_type": "error",
     "traceback": [
      "\u001b[0;31m---------------------------------------------------------------------------\u001b[0m",
      "\u001b[0;31mNameError\u001b[0m                                 Traceback (most recent call last)",
      "Cell \u001b[0;32mIn [18], line 2\u001b[0m\n\u001b[1;32m      1\u001b[0m \u001b[39mfor\u001b[39;00m i \u001b[39min\u001b[39;00m \u001b[39mrange\u001b[39m(\u001b[39m0\u001b[39m,\u001b[39mlen\u001b[39m(all_original_bidders)):\n\u001b[0;32m----> 2\u001b[0m     plot_belief_distributions(\u001b[39mlist\u001b[39;49m(\u001b[39mmap\u001b[39;49m(\u001b[39mlambda\u001b[39;49;00m bidder: bidder\u001b[39m.\u001b[39;49mvalue_belief_distribution,\n\u001b[1;32m      3\u001b[0m                                  all_original_bidders[i])), \u001b[39m'\u001b[39;49m\u001b[39mBidder\u001b[39;49m\u001b[39m\\'\u001b[39;49;00m\u001b[39ms (Original) Belief Distributions\u001b[39;49m\u001b[39m'\u001b[39;49m)\n\u001b[1;32m      4\u001b[0m     plot_belief_distributions(\u001b[39mlist\u001b[39m(\u001b[39mmap\u001b[39m(\u001b[39mlambda\u001b[39;00m bidder: bidder\u001b[39m.\u001b[39mvalue_belief_distribution,\n\u001b[1;32m      5\u001b[0m                                        all_final_bidders[i])), \u001b[39m'\u001b[39m\u001b[39mBidder\u001b[39m\u001b[39m\\'\u001b[39;00m\u001b[39ms (Final) Belief Distributions\u001b[39m\u001b[39m'\u001b[39m)\n",
      "Cell \u001b[0;32mIn [10], line 6\u001b[0m, in \u001b[0;36mplot_belief_distributions\u001b[0;34m(belief_sets, title)\u001b[0m\n\u001b[1;32m      2\u001b[0m plt\u001b[39m.\u001b[39mfigure(figsize\u001b[39m=\u001b[39m(\u001b[39m20\u001b[39m, \u001b[39m12\u001b[39m))\n\u001b[1;32m      4\u001b[0m belief_set_df \u001b[39m=\u001b[39m pd\u001b[39m.\u001b[39mconcat([pd\u001b[39m.\u001b[39mSeries(x) \u001b[39mfor\u001b[39;00m x \u001b[39min\u001b[39;00m belief_sets], axis\u001b[39m=\u001b[39m\u001b[39m1\u001b[39m)\n\u001b[0;32m----> 6\u001b[0m sns\u001b[39m.\u001b[39mdisplot(data\u001b[39m=\u001b[39mbelief_set_df, kind\u001b[39m=\u001b[39m\u001b[39m\"\u001b[39m\u001b[39mkde\u001b[39m\u001b[39m\"\u001b[39m)\u001b[39m.\u001b[39mset(\n\u001b[1;32m      7\u001b[0m     title\u001b[39m=\u001b[39mtitle, xlabel\u001b[39m=\u001b[39m\u001b[39m'\u001b[39m\u001b[39mItem Value\u001b[39m\u001b[39m'\u001b[39m, ylabel\u001b[39m=\u001b[39m\u001b[39m'\u001b[39m\u001b[39mDensity\u001b[39m\u001b[39m'\u001b[39m)\n\u001b[1;32m      9\u001b[0m plt\u001b[39m.\u001b[39mshow()\n",
      "\u001b[0;31mNameError\u001b[0m: name 'sns' is not defined"
     ]
    },
    {
     "data": {
      "text/plain": [
       "<Figure size 2000x1200 with 0 Axes>"
      ]
     },
     "metadata": {},
     "output_type": "display_data"
    }
   ],
   "source": [
    "\n",
    "for i in range(0,len(all_original_bidders)):\n",
    "    plot_belief_distributions(list(map(lambda bidder: bidder.value_belief_distribution,\n",
    "                                 all_original_bidders[i])), 'Bidder\\'s (Original) Belief Distributions')\n",
    "    plot_belief_distributions(list(map(lambda bidder: bidder.value_belief_distribution,\n",
    "                                       all_final_bidders[i])), 'Bidder\\'s (Final) Belief Distributions')\n"
   ]
  },
  {
   "cell_type": "code",
   "execution_count": null,
   "metadata": {},
   "outputs": [
    {
     "data": {
      "application/vnd.plotly.v1+json": {
       "config": {
        "plotlyServerURL": "https://plot.ly"
       },
       "data": [
        {
         "hovertemplate": "winner_type=BIDDER_TYPE.influencer<br>winner_amount=%{x}<br>winner_curse=%{y}<extra></extra>",
         "legendgroup": "BIDDER_TYPE.influencer",
         "marker": {
          "color": "#636efa",
          "opacity": 0.3,
          "size": 5,
          "symbol": "circle"
         },
         "mode": "markers",
         "name": "BIDDER_TYPE.influencer",
         "orientation": "v",
         "showlegend": true,
         "type": "scatter",
         "x": [
          4622,
          6735,
          2894,
          5063,
          5790,
          5252,
          5945,
          4956,
          6261,
          3528,
          5317,
          3557,
          4970,
          5309,
          5637,
          5227,
          2054,
          5891,
          5080,
          4991,
          6386,
          5627,
          1571,
          3939,
          5317,
          4949,
          5482,
          5096,
          4915,
          5204,
          4971,
          4827,
          5679,
          5061,
          3250,
          1168,
          5919,
          4879,
          5282,
          5370,
          4918,
          5253,
          5543,
          5215,
          5196,
          5145,
          3371,
          5597,
          5820,
          4138,
          5057,
          5361,
          5005,
          5719,
          5863,
          5233,
          4902,
          5806,
          5269,
          3794,
          5958,
          6002,
          5441,
          3966,
          1166,
          4800,
          4641,
          4566,
          4872,
          5231,
          6030,
          5070,
          4557,
          4382,
          5126,
          5113,
          5332,
          1299,
          5309,
          5246,
          4878,
          5239,
          5900,
          5221,
          5079,
          5500,
          5798,
          5028,
          5811,
          6424,
          5618,
          5647,
          5596,
          5579,
          4497,
          5555,
          5123,
          4116,
          5950,
          5042,
          4877,
          4838,
          6049,
          5368,
          5432,
          6146,
          5233,
          5555,
          5592,
          4926,
          4680,
          5214,
          5884,
          4515,
          5756,
          4918,
          4090,
          5939,
          4953,
          5879,
          5466,
          5690,
          3969,
          5350,
          4473,
          4717,
          5301,
          6307,
          4449,
          1480,
          6067,
          5472,
          4999,
          5026,
          6036,
          5086,
          4900,
          1645,
          1275,
          5702,
          5244,
          5720,
          4985,
          5372,
          4806,
          5064,
          4688,
          4485,
          5066,
          4751,
          5169,
          5136,
          4843,
          5563,
          3156,
          5249,
          5068,
          4446,
          5698,
          5588,
          5090,
          3761,
          5573,
          5484,
          4812,
          4275,
          5400,
          6211,
          5701,
          4854,
          4721,
          5061,
          5243,
          4305,
          612,
          5339,
          5328,
          5256,
          5328,
          5786,
          5399,
          5371,
          5898,
          5680,
          5384,
          5121,
          5878,
          4908,
          4477,
          5575,
          5044,
          3845,
          4904,
          5018,
          4683,
          5722,
          5273,
          5012
         ],
         "xaxis": "x",
         "y": [
          81.77777777777737,
          -1586.7777777777774,
          1713.333333333333,
          -748.2222222222226,
          -902.5555555555557,
          -500.1111111111113,
          -1201.5555555555557,
          -630.8888888888887,
          -872.1111111111113,
          1937.1111111111113,
          -829.7777777777774,
          1281.5555555555557,
          -435.1111111111113,
          -780.2222222222226,
          -869.7777777777774,
          -154.22222222222263,
          2836.2222222222226,
          -359.2222222222226,
          -363.7777777777774,
          -58.222222222222626,
          -1167.1111111111113,
          -338,
          3437.5555555555557,
          1090.8888888888887,
          -607.333333333333,
          -85.11111111111131,
          -295.33333333333303,
          -324.1111111111113,
          -439.2222222222226,
          -733.4444444444443,
          -35.777777777777374,
          105.33333333333303,
          -872.2222222222226,
          -516.666666666667,
          1732.7777777777774,
          2964,
          -969.7777777777774,
          -307,
          -393.1111111111113,
          -746.4444444444443,
          -475.44444444444434,
          -107.44444444444434,
          -363.44444444444434,
          -509,
          -260.2222222222226,
          -136,
          1965.666666666667,
          -993.4444444444443,
          -540.1111111111113,
          720.333333333333,
          -603.8888888888887,
          -1271.7777777777778,
          -486.66666666666697,
          -843.333333333333,
          -706.2222222222226,
          -456.7777777777774,
          -634.1111111111113,
          -932.7777777777774,
          -182.77777777777737,
          1463.7777777777774,
          -644,
          -551.5555555555557,
          -292.1111111111113,
          1175.333333333333,
          3645.1111111111113,
          -72.66666666666697,
          114.33333333333303,
          190.66666666666697,
          159.1111111111113,
          -527.7777777777774,
          -794.1111111111113,
          -150,
          376.1111111111113,
          252.44444444444434,
          -126,
          -902.333333333333,
          -325.1111111111113,
          3653.7777777777774,
          -502,
          -855.8888888888887,
          -270.2222222222226,
          -625.666666666667,
          -241.33333333333303,
          -188.33333333333303,
          -700.4444444444443,
          -1279.333333333333,
          -672.1111111111113,
          -392.8888888888887,
          -924.666666666667,
          -1086.8888888888887,
          -560.333333333333,
          -643.5555555555557,
          -821.666666666667,
          -926.5555555555557,
          364.33333333333303,
          -422.1111111111113,
          -894,
          1258.1111111111113,
          -1013.2222222222226,
          -158.77777777777737,
          39.222222222222626,
          -92.55555555555566,
          -1219,
          -604.7777777777774,
          -793.7777777777774,
          -1496,
          -930.666666666667,
          -626.4444444444443,
          -759.666666666667,
          -383.7777777777774,
          -314.55555555555566,
          -767.1111111111113,
          -597.7777777777774,
          344.33333333333303,
          -523.4444444444443,
          -572.8888888888887,
          651.666666666667,
          -415,
          137.77777777777737,
          -1165.1111111111113,
          -1198.4444444444443,
          -1022.4444444444443,
          166.66666666666697,
          -973.8888888888887,
          627.5555555555557,
          428.8888888888887,
          -648.4444444444443,
          -1233,
          -202.33333333333303,
          2942.4444444444443,
          -1114.5555555555557,
          -687.5555555555557,
          -40.33333333333303,
          -594.1111111111113,
          -591.666666666667,
          -583.7777777777774,
          -624.2222222222226,
          3728.666666666667,
          3508.4444444444443,
          -1329.7777777777774,
          -218.8888888888887,
          -422.44444444444434,
          -680.1111111111113,
          -722.666666666667,
          -199.22222222222263,
          -501.1111111111113,
          199.8888888888887,
          662.5555555555557,
          -419.44444444444434,
          -203.66666666666697,
          -162,
          -270.33333333333303,
          -565.666666666667,
          -458.66666666666697,
          1940.1111111111113,
          -99.11111111111131,
          -357.55555555555566,
          -156.55555555555566,
          -617.7777777777774,
          -663.2222222222226,
          -209.44444444444434,
          796,
          -464.44444444444434,
          -1210.666666666667,
          191.66666666666697,
          1417,
          -252.1111111111113,
          -903,
          -793,
          -582.7777777777774,
          -37.33333333333303,
          223.77777777777737,
          -1079,
          504.1111111111113,
          4359.444444444444,
          -626.8888888888887,
          -558.4444444444443,
          -510.2222222222226,
          215,
          -740.5555555555557,
          -354.55555555555566,
          -526.666666666667,
          -707.1111111111113,
          -1020.4444444444443,
          -751.8888888888887,
          -529.4444444444443,
          -915.8888888888887,
          -388,
          -469.1111111111113,
          -690.7777777777774,
          -530.5555555555557,
          997.666666666667,
          23.555555555555657,
          98.22222222222263,
          22.888888888888687,
          -1223.8888888888887,
          -360.55555555555566,
          -551.1111111111113
         ],
         "yaxis": "y"
        },
        {
         "hovertemplate": "<b>OLS trendline</b><br>winner_curse = -0.959412 * winner_amount + 4617.09<br>R<sup>2</sup>=0.892390<br><br>winner_type=BIDDER_TYPE.influencer<br>winner_amount=%{x}<br>winner_curse=%{y} <b>(trend)</b><extra></extra>",
         "legendgroup": "BIDDER_TYPE.influencer",
         "marker": {
          "color": "#636efa",
          "size": 5,
          "symbol": "circle"
         },
         "mode": "lines",
         "name": "BIDDER_TYPE.influencer",
         "showlegend": false,
         "type": "scatter",
         "x": [
          612,
          1166,
          1168,
          1275,
          1299,
          1480,
          1571,
          1645,
          2054,
          2894,
          3156,
          3250,
          3371,
          3528,
          3557,
          3761,
          3794,
          3845,
          3939,
          3966,
          3969,
          4090,
          4116,
          4138,
          4275,
          4305,
          4382,
          4446,
          4449,
          4473,
          4477,
          4485,
          4497,
          4515,
          4557,
          4566,
          4622,
          4641,
          4680,
          4683,
          4688,
          4717,
          4721,
          4751,
          4800,
          4806,
          4812,
          4827,
          4838,
          4843,
          4854,
          4872,
          4877,
          4878,
          4879,
          4900,
          4902,
          4904,
          4908,
          4915,
          4918,
          4918,
          4926,
          4949,
          4953,
          4956,
          4970,
          4971,
          4985,
          4991,
          4999,
          5005,
          5012,
          5018,
          5026,
          5028,
          5042,
          5044,
          5057,
          5061,
          5061,
          5063,
          5064,
          5066,
          5068,
          5070,
          5079,
          5080,
          5086,
          5090,
          5096,
          5113,
          5121,
          5123,
          5126,
          5136,
          5145,
          5169,
          5196,
          5204,
          5214,
          5215,
          5221,
          5227,
          5231,
          5233,
          5233,
          5239,
          5243,
          5244,
          5246,
          5249,
          5252,
          5253,
          5256,
          5269,
          5273,
          5282,
          5301,
          5309,
          5309,
          5317,
          5317,
          5328,
          5328,
          5332,
          5339,
          5350,
          5361,
          5368,
          5370,
          5371,
          5372,
          5384,
          5399,
          5400,
          5432,
          5441,
          5466,
          5472,
          5482,
          5484,
          5500,
          5543,
          5555,
          5555,
          5563,
          5573,
          5575,
          5579,
          5588,
          5592,
          5596,
          5597,
          5618,
          5627,
          5637,
          5647,
          5679,
          5680,
          5690,
          5698,
          5701,
          5702,
          5719,
          5720,
          5722,
          5756,
          5786,
          5790,
          5798,
          5806,
          5811,
          5820,
          5863,
          5878,
          5879,
          5884,
          5891,
          5898,
          5900,
          5919,
          5939,
          5945,
          5950,
          5958,
          6002,
          6030,
          6036,
          6049,
          6067,
          6146,
          6211,
          6261,
          6307,
          6386,
          6424,
          6735
         ],
         "xaxis": "x",
         "y": [
          4029.9337536004355,
          3498.4194387439097,
          3496.5006145025504,
          3393.8435175898276,
          3370.817626693516,
          3197.1640328505,
          3109.857529868652,
          3038.8610329383573,
          2646.461475580381,
          1840.555294209475,
          1589.1893185914073,
          1499.0045792475203,
          1382.9157126452824,
          1232.2880096985773,
          1204.4650581988676,
          1008.7449855802192,
          977.0843855977905,
          928.1543674431286,
          837.9696280992416,
          812.0655008408908,
          809.1872644788518,
          693.0983978766144,
          668.1536827389436,
          647.0466160839915,
          515.6071555508788,
          486.8247919304895,
          412.9500586381564,
          351.54768291465916,
          348.6694465526207,
          325.6435556563083,
          321.80590717358973,
          314.1306102081526,
          302.61766475999684,
          285.34824658776324,
          245.05293751921818,
          236.41822843310092,
          182.69114967504083,
          164.46231938212713,
          127.04524667562146,
          124.16701031358207,
          119.3699497101843,
          91.54699821047416,
          87.70934972775558,
          58.92698610736625,
          11.915792194063215,
          6.159319469985348,
          0.4028467459074818,
          -13.98833506428764,
          -24.541868391763273,
          -29.33892899516195,
          -39.892462322637584,
          -57.161880494871184,
          -61.95894109826986,
          -62.91835321894905,
          -63.87776533962915,
          -84.02541987390214,
          -85.94424411526143,
          -87.86306835662072,
          -91.7007168393393,
          -98.41660168409635,
          -101.29483804613574,
          -101.29483804613574,
          -108.97013501157289,
          -131.03661378720426,
          -134.87426226992284,
          -137.75249863196223,
          -151.18426832147725,
          -152.14368044215644,
          -165.57545013167146,
          -171.33192285575024,
          -179.0072198211874,
          -184.76369254526526,
          -191.4795773900223,
          -197.23605011410018,
          -204.91134707953734,
          -206.83017132089662,
          -220.26194101041165,
          -222.18076525177094,
          -234.65312282060677,
          -238.49077130332535,
          -238.49077130332535,
          -240.40959554468463,
          -241.36900766536382,
          -243.2878319067231,
          -245.2066561480824,
          -247.1254803894417,
          -255.76018947555895,
          -256.71960159623904,
          -262.4760743203169,
          -266.3137228030355,
          -272.07019552711336,
          -288.38020157866686,
          -296.055498544104,
          -297.9743227854633,
          -300.8525591475027,
          -310.44668035429913,
          -319.0813894404155,
          -342.10728033672785,
          -368.0114075950778,
          -375.68670456051495,
          -385.2808257673114,
          -386.2402378879915,
          -391.99671061206936,
          -397.75318333614723,
          -401.5908318188658,
          -403.5096560602251,
          -403.5096560602251,
          -409.26612878430296,
          -413.10377726702154,
          -414.06318938770073,
          -415.98201362906,
          -418.8602499910994,
          -421.7384863531379,
          -422.697898473818,
          -425.5761348358574,
          -438.0484924046923,
          -441.8861408874109,
          -450.52084997352813,
          -468.7496802664409,
          -476.4249772318781,
          -476.4249772318781,
          -484.10027419731523,
          -484.10027419731523,
          -494.6538075247918,
          -494.6538075247918,
          -498.49145600751035,
          -505.2073408522674,
          -515.760874179744,
          -526.3144075072205,
          -533.0302923519776,
          -534.9491165933368,
          -535.9085287140169,
          -536.8679408346961,
          -548.3808862828519,
          -562.772068093047,
          -563.7314802137262,
          -594.4326680754757,
          -603.067377161592,
          -627.0526801785836,
          -632.8091529026615,
          -642.4032741094579,
          -644.3220983508172,
          -659.6726922816915,
          -700.9274134709167,
          -712.4403589190724,
          -712.4403589190724,
          -720.1156558845096,
          -729.709777091306,
          -731.6286013326653,
          -735.4662498153839,
          -744.1009589015002,
          -747.9386073842188,
          -751.7762558669374,
          -752.7356679876175,
          -772.8833225218905,
          -781.5180316080068,
          -791.1121528148033,
          -800.7062740215997,
          -831.4074618833483,
          -832.3668740040284,
          -841.9609952108249,
          -849.636292176262,
          -852.5145285383014,
          -853.4739406589806,
          -869.783946710535,
          -870.7433588312142,
          -872.6621830725735,
          -905.2821951756814,
          -934.0645587960707,
          -937.9022072787902,
          -945.5775042442274,
          -953.2528012096645,
          -958.0498618130623,
          -966.6845708991796,
          -1007.9392920884038,
          -1022.3304738985989,
          -1023.289886019279,
          -1028.0869466226768,
          -1034.8028314674348,
          -1041.5187163121918,
          -1043.4375405535511,
          -1061.6663708464648,
          -1080.8546132600577,
          -1086.6110859841356,
          -1091.4081465875333,
          -1099.0834435529705,
          -1141.2975768628758,
          -1168.1611162419058,
          -1173.9175889659837,
          -1186.3899465348186,
          -1203.659364707053,
          -1279.4529222407455,
          -1341.814710084922,
          -1389.785316118905,
          -1433.9182736701687,
          -1509.711831203861,
          -1546.1694917896875,
          -1844.5466613210583
         ],
         "yaxis": "y"
        },
        {
         "hovertemplate": "winner_type=BIDDER_TYPE.reactor<br>winner_amount=%{x}<br>winner_curse=%{y}<extra></extra>",
         "legendgroup": "BIDDER_TYPE.reactor",
         "marker": {
          "color": "#EF553B",
          "opacity": 0.3,
          "size": 5,
          "symbol": "circle"
         },
         "mode": "markers",
         "name": "BIDDER_TYPE.reactor",
         "orientation": "v",
         "showlegend": true,
         "type": "scatter",
         "x": [
          5159,
          4740,
          5059,
          5159,
          5626,
          6102,
          4842,
          5567,
          4510,
          4113,
          5061,
          5114,
          4716,
          6066,
          5080,
          4839,
          4541,
          5129,
          5934,
          4971,
          4778,
          4138,
          5272,
          4814,
          4911,
          4198,
          5347,
          5063,
          4800,
          5544,
          6130,
          4606,
          5435,
          4718,
          4032,
          3716,
          5473,
          4839,
          5348,
          5461,
          5365,
          4174,
          4714,
          5252,
          4713,
          5869,
          5785,
          6004,
          5064,
          5677,
          4912,
          4619,
          5417,
          5632,
          5536,
          4925,
          5002,
          3324,
          4878,
          5435,
          5387,
          5067,
          5985,
          6159,
          5159,
          4689,
          5010,
          4863,
          5872,
          5094,
          4922,
          3648,
          5756,
          4651,
          5179,
          5317,
          5722,
          5591,
          5393,
          5572,
          4867,
          4678,
          6359,
          4604,
          5297,
          5521,
          5096,
          4695,
          5809,
          5383,
          5605,
          5352,
          5250,
          5517,
          4586,
          5612,
          3379,
          5815,
          4541,
          4708,
          4734,
          5393,
          5292,
          5150,
          4729,
          5259,
          5242,
          5591,
          4747,
          4844,
          5730,
          5735,
          5346,
          4223,
          4848,
          4576,
          5310,
          5534,
          4808,
          4783,
          4652,
          4772,
          5311,
          5112,
          5484,
          5919,
          4482,
          5920,
          5730,
          5328,
          5234,
          5751,
          5172,
          5608,
          5281,
          5549,
          4486,
          4690,
          5606,
          6015,
          5766,
          4927,
          4001,
          5342,
          4566,
          5026,
          4692,
          5785,
          5673,
          5116,
          5837,
          5370,
          4350,
          5380,
          5673,
          5759,
          4886,
          4967,
          5224,
          4742,
          5311,
          4550,
          5289,
          4217,
          4986,
          4656,
          4863,
          5080,
          4906,
          5493,
          5624,
          5660,
          5283,
          4903,
          4614,
          4821,
          4521,
          5006,
          4839,
          5607,
          5753,
          5107,
          5166,
          5091,
          4803,
          5278,
          5363,
          5225,
          3752,
          3499,
          5455,
          5420,
          5398,
          5209,
          5568,
          5217,
          5336,
          4843,
          4437,
          4848,
          4379,
          5380,
          5934,
          5077,
          5188,
          5376,
          4806,
          5505,
          5454,
          4613,
          4904,
          5298,
          5871,
          5885,
          4933,
          5643,
          4644,
          5576,
          5578,
          5283,
          5863,
          5438,
          5017,
          5012,
          5044,
          4936,
          4633,
          4552,
          4819,
          4638,
          4729,
          4372,
          5298,
          5054,
          5405,
          5150,
          5009,
          5657,
          4107,
          5023,
          4741,
          5511,
          5531,
          5672,
          4541,
          4943,
          4633,
          5008,
          4765,
          5877,
          4816,
          4581,
          5476,
          5630,
          5113,
          5281,
          4805,
          5309,
          4842,
          4619,
          4415,
          5391,
          5190,
          4987,
          4730,
          4926,
          4772,
          4767,
          3975,
          5599,
          5372,
          4374,
          5524,
          5632,
          5374,
          5760,
          5954,
          5580,
          6017,
          6215,
          5144,
          5109,
          4027,
          5509,
          5451,
          5602,
          4223,
          4735,
          5200,
          5383,
          4773,
          5216,
          5260,
          5095,
          4994,
          5462,
          4937,
          5251,
          4433,
          6192,
          4187,
          5746
         ],
         "xaxis": "x",
         "y": [
          -108.22222222222263,
          -196,
          -53.66666666666697,
          -339.55555555555566,
          -318.2222222222226,
          -909.7777777777774,
          -267,
          -310.2222222222226,
          -363.66666666666697,
          991.333333333333,
          -116,
          -544.333333333333,
          312.33333333333303,
          -815.5555555555557,
          -272,
          -161.77777777777737,
          242.66666666666697,
          -2.66666666666697,
          -1001.4444444444443,
          -37.88888888888869,
          123.11111111111131,
          342.44444444444434,
          -450.66666666666697,
          1147.7777777777774,
          -164,
          295.66666666666697,
          -754.333333333333,
          -214.8888888888887,
          -441.66666666666697,
          -548,
          -680.1111111111113,
          478.33333333333303,
          -946.5555555555557,
          53.33333333333303,
          788,
          67.88888888888869,
          -634.666666666667,
          96.66666666666697,
          -290.7777777777774,
          -94.55555555555566,
          -289.8888888888887,
          566.4444444444443,
          -512.2222222222226,
          -185,
          -78.11111111111131,
          -486,
          -558.2222222222226,
          -392.2222222222226,
          -392.8888888888887,
          -565.1111111111113,
          -227.33333333333303,
          -109,
          -196.22222222222263,
          -197.8888888888887,
          -80.77777777777737,
          -158.8888888888887,
          -585.4444444444443,
          1362.333333333333,
          -269.7777777777774,
          -323.44444444444434,
          -68.33333333333303,
          -453.33333333333303,
          -1281.5555555555557,
          -908.5555555555557,
          317.44444444444434,
          -530.7777777777774,
          -15.111111111111313,
          154.33333333333303,
          -468.55555555555566,
          -555.2222222222226,
          -229.66666666666697,
          919.2222222222226,
          -576.5555555555557,
          -86.66666666666697,
          -582.666666666667,
          -635.8888888888887,
          -611.5555555555557,
          -252.66666666666697,
          -218.55555555555566,
          -206.8888888888887,
          -212.66666666666697,
          136.1111111111113,
          -722.2222222222226,
          311.66666666666697,
          -808.8888888888887,
          -1111.333333333333,
          -54.777777777777374,
          89.11111111111131,
          -422,
          -202.1111111111113,
          -570.8888888888887,
          -275.55555555555566,
          -443.1111111111113,
          -915.8888888888887,
          10.222222222222626,
          -390.8888888888887,
          1159.7777777777774,
          -270,
          179.33333333333303,
          -144.8888888888887,
          -264.2222222222226,
          -729.8888888888887,
          -439.55555555555566,
          -204.22222222222263,
          -337.44444444444434,
          -250,
          -111.33333333333303,
          -301.33333333333303,
          203.1111111111113,
          143.22222222222263,
          -488.7777777777774,
          -641.8888888888887,
          -263.2222222222226,
          -82.33333333333303,
          129.44444444444434,
          107.66666666666697,
          -56.222222222222626,
          -469.2222222222226,
          -73.88888888888869,
          69.88888888888869,
          -79.88888888888869,
          -339.33333333333303,
          -454.1111111111113,
          -261.66666666666697,
          -124.22222222222263,
          -782,
          278,
          -441.33333333333303,
          -690.5555555555557,
          -161.1111111111113,
          -309.2222222222226,
          -868,
          -386.7777777777774,
          -497.7777777777774,
          -467.2222222222226,
          -1142.5555555555557,
          -183.33333333333303,
          54,
          -586.1111111111113,
          -582.8888888888887,
          -742.333333333333,
          -72,
          687.5555555555557,
          99.66666666666697,
          -162.77777777777737,
          -396.8888888888887,
          -346.66666666666697,
          -468.66666666666697,
          -1041.666666666667,
          -403.8888888888887,
          -572.2222222222226,
          -286.7777777777774,
          -230,
          -623.1111111111113,
          -1303.4444444444443,
          -474.2222222222226,
          -463.7777777777774,
          -181.22222222222263,
          -68,
          -156,
          -374.8888888888887,
          519.8888888888887,
          -469.2222222222226,
          760.666666666667,
          -215.33333333333303,
          -367.66666666666697,
          -120,
          -295,
          315.55555555555566,
          -454.7777777777774,
          -494.44444444444434,
          -905,
          -324.2222222222226,
          -99.44444444444434,
          -222.66666666666697,
          -428.44444444444434,
          309.44444444444434,
          -205.22222222222263,
          -161.77777777777737,
          -407,
          -741.7777777777774,
          -196,
          -186.22222222222263,
          -664.333333333333,
          -454.33333333333303,
          -147.44444444444434,
          -196.33333333333303,
          105.33333333333303,
          416.7777777777774,
          702.666666666667,
          -543.666666666667,
          -244.1111111111113,
          -492.8888888888887,
          -562,
          -721.333333333333,
          -492.2222222222226,
          -288.44444444444434,
          221.66666666666697,
          516.4444444444443,
          -203.66666666666697,
          656.2222222222226,
          -585.4444444444443,
          -379.33333333333303,
          49.11111111111131,
          -278.55555555555566,
          -482.7777777777774,
          -268.44444444444434,
          -572.8888888888887,
          -198.55555555555566,
          353.55555555555566,
          -248.22222222222263,
          3.4444444444443434,
          -630.7777777777774,
          -227.8888888888887,
          307.2222222222226,
          -364.66666666666697,
          400.7777777777774,
          -275.2222222222226,
          -602.333333333333,
          -463.1111111111113,
          -1009.1111111111113,
          -179.33333333333303,
          -564,
          -387.66666666666697,
          -269.2222222222226,
          -213.44444444444434,
          -83.88888888888869,
          161.55555555555566,
          -248.33333333333303,
          -183.33333333333303,
          -294.55555555555566,
          330.55555555555566,
          -491.1111111111113,
          -219.1111111111113,
          -487.1111111111113,
          -219.77777777777737,
          483.1111111111113,
          -440.7777777777774,
          357.8888888888887,
          -419.2222222222226,
          -648.4444444444443,
          -909,
          -734.5555555555557,
          -682.5555555555557,
          192,
          -320.33333333333303,
          -163.22222222222263,
          39.222222222222626,
          -235.1111111111113,
          -851.1111111111113,
          -136.1111111111113,
          -19.66666666666697,
          -666.5555555555557,
          -389.8888888888887,
          357.44444444444434,
          -514.4444444444443,
          -385.8888888888887,
          -91.55555555555566,
          62.66666666666697,
          200,
          374.8888888888887,
          -639.333333333333,
          -474.7777777777774,
          -384.7777777777774,
          196.22222222222263,
          257.2222222222226,
          343.33333333333303,
          223.22222222222263,
          968.666666666667,
          -327.55555555555566,
          -181.33333333333303,
          173.77777777777737,
          -399.44444444444434,
          -378.66666666666697,
          222.22222222222263,
          -208.44444444444434,
          -431.7777777777774,
          -447.1111111111113,
          -541.666666666667,
          -628.5555555555557,
          -261.2222222222226,
          -219.77777777777737,
          356.33333333333303,
          -332.8888888888887,
          -322.66666666666697,
          -513,
          958.333333333333,
          264.44444444444434,
          -74,
          -157.66666666666697,
          98.44444444444434,
          -6.66666666666697,
          -9.222222222222626,
          -404.33333333333303,
          -440.2222222222226,
          -407.1111111111113,
          -179.44444444444434,
          -468.44444444444434,
          21.222222222222626,
          -553.7777777777774,
          251.77777777777737,
          -948.8888888888887
         ],
         "yaxis": "y"
        },
        {
         "hovertemplate": "<b>OLS trendline</b><br>winner_curse = -0.597605 * winner_amount + 2836.13<br>R<sup>2</sup>=0.574332<br><br>winner_type=BIDDER_TYPE.reactor<br>winner_amount=%{x}<br>winner_curse=%{y} <b>(trend)</b><extra></extra>",
         "legendgroup": "BIDDER_TYPE.reactor",
         "marker": {
          "color": "#EF553B",
          "size": 5,
          "symbol": "circle"
         },
         "mode": "lines",
         "name": "BIDDER_TYPE.reactor",
         "showlegend": false,
         "type": "scatter",
         "x": [
          3324,
          3379,
          3499,
          3648,
          3716,
          3752,
          3975,
          4001,
          4027,
          4032,
          4107,
          4113,
          4138,
          4174,
          4187,
          4198,
          4217,
          4223,
          4223,
          4350,
          4372,
          4374,
          4379,
          4415,
          4433,
          4437,
          4482,
          4486,
          4510,
          4521,
          4541,
          4541,
          4541,
          4550,
          4552,
          4566,
          4576,
          4581,
          4586,
          4604,
          4606,
          4613,
          4614,
          4619,
          4619,
          4633,
          4633,
          4638,
          4644,
          4651,
          4652,
          4656,
          4678,
          4689,
          4690,
          4692,
          4695,
          4708,
          4713,
          4714,
          4716,
          4718,
          4729,
          4729,
          4730,
          4734,
          4735,
          4740,
          4741,
          4742,
          4747,
          4765,
          4767,
          4772,
          4772,
          4773,
          4778,
          4783,
          4800,
          4803,
          4805,
          4806,
          4808,
          4814,
          4816,
          4819,
          4821,
          4839,
          4839,
          4839,
          4842,
          4842,
          4843,
          4844,
          4848,
          4848,
          4863,
          4863,
          4867,
          4878,
          4886,
          4903,
          4904,
          4906,
          4911,
          4912,
          4922,
          4925,
          4926,
          4927,
          4933,
          4936,
          4937,
          4943,
          4967,
          4971,
          4986,
          4987,
          4994,
          5002,
          5006,
          5008,
          5009,
          5010,
          5012,
          5017,
          5023,
          5026,
          5044,
          5054,
          5059,
          5061,
          5063,
          5064,
          5067,
          5077,
          5080,
          5080,
          5091,
          5094,
          5095,
          5096,
          5107,
          5109,
          5112,
          5113,
          5114,
          5116,
          5129,
          5144,
          5150,
          5150,
          5159,
          5159,
          5159,
          5166,
          5172,
          5179,
          5188,
          5190,
          5200,
          5209,
          5216,
          5217,
          5224,
          5225,
          5234,
          5242,
          5250,
          5251,
          5252,
          5259,
          5260,
          5272,
          5278,
          5281,
          5281,
          5283,
          5283,
          5289,
          5292,
          5297,
          5298,
          5298,
          5309,
          5310,
          5311,
          5311,
          5317,
          5328,
          5336,
          5342,
          5346,
          5347,
          5348,
          5352,
          5363,
          5365,
          5370,
          5372,
          5374,
          5376,
          5380,
          5380,
          5383,
          5383,
          5387,
          5391,
          5393,
          5393,
          5398,
          5405,
          5417,
          5420,
          5435,
          5435,
          5438,
          5451,
          5454,
          5455,
          5461,
          5462,
          5473,
          5476,
          5484,
          5493,
          5505,
          5509,
          5511,
          5517,
          5521,
          5524,
          5531,
          5534,
          5536,
          5544,
          5549,
          5567,
          5568,
          5572,
          5576,
          5578,
          5580,
          5591,
          5591,
          5599,
          5602,
          5605,
          5606,
          5607,
          5608,
          5612,
          5624,
          5626,
          5630,
          5632,
          5632,
          5643,
          5657,
          5660,
          5672,
          5673,
          5673,
          5677,
          5722,
          5730,
          5730,
          5735,
          5746,
          5751,
          5753,
          5756,
          5759,
          5760,
          5766,
          5785,
          5785,
          5809,
          5815,
          5837,
          5863,
          5869,
          5871,
          5872,
          5877,
          5885,
          5919,
          5920,
          5934,
          5934,
          5954,
          5985,
          6004,
          6015,
          6017,
          6066,
          6102,
          6130,
          6159,
          6192,
          6215,
          6359
         ],
         "xaxis": "x",
         "y": [
          849.6954310923218,
          816.8271769058256,
          745.1146223171072,
          656.0715337027814,
          615.4344194358405,
          593.9206530592251,
          460.65482244852274,
          445.11710228763377,
          429.5793821267448,
          426.5913590188816,
          381.77101240093225,
          378.1853846714962,
          363.24526913218006,
          341.7315027555642,
          333.9626426751197,
          327.38899183782087,
          316.03450402794033,
          312.4488762985043,
          312.4488762985043,
          236.55308935877702,
          223.40578768417845,
          222.21057844103325,
          219.22255533317002,
          197.70878895655414,
          186.95190576824643,
          184.56148728195603,
          157.66927931118653,
          155.27886082489567,
          140.9363499071519,
          134.36269906985308,
          122.41060663839971,
          122.41060663839971,
          122.41060663839971,
          117.03216504424563,
          115.83695580110043,
          107.47049109908357,
          101.49444488335666,
          98.50642177549344,
          95.51839866763021,
          84.7615154793225,
          83.5663062361773,
          79.38307388516841,
          78.78546926359604,
          75.79744615573281,
          75.79744615573281,
          67.4309814537155,
          67.4309814537155,
          64.44295834585228,
          60.85733061641622,
          56.67409826540779,
          56.076493643834965,
          53.686075157544565,
          40.538773482946,
          33.965122645646716,
          33.36751802407389,
          32.17230878092869,
          30.37949491621066,
          22.610634835766177,
          19.62261172790295,
          19.025007106330122,
          17.829797863184922,
          16.63458862003972,
          10.060937782740439,
          10.060937782740439,
          9.463333161167611,
          7.072914674877211,
          6.4753100533043835,
          3.4872869454411557,
          2.889682323868783,
          2.2920777022959555,
          -0.6959454055672722,
          -11.452828593874983,
          -12.648037837020638,
          -15.636060944883866,
          -15.636060944883866,
          -16.23366556645624,
          -19.221688674319466,
          -22.20971178218315,
          -32.36899034891803,
          -34.16180421363606,
          -35.35701345678126,
          -35.95461807835409,
          -37.14982732149929,
          -40.73545505093534,
          -41.93066429408054,
          -43.72347815879857,
          -44.91868740194377,
          -55.67557059025148,
          -55.67557059025148,
          -55.67557059025148,
          -57.46838445496951,
          -57.46838445496951,
          -58.06598907654234,
          -58.66359369811471,
          -61.054012184405565,
          -61.054012184405565,
          -70.01808150799525,
          -70.01808150799525,
          -72.4084999942861,
          -78.98215083158539,
          -83.76298780416664,
          -93.92226637090153,
          -94.51987099247435,
          -95.71508023561955,
          -98.70310334348278,
          -99.30070796505561,
          -105.27675418078206,
          -107.06956804550009,
          -107.66717266707292,
          -108.26477728864529,
          -111.85040501808135,
          -113.64321888279937,
          -114.24082350437175,
          -117.8264512338078,
          -132.16896215155157,
          -134.55938063784242,
          -143.5234499614321,
          -144.12105458300448,
          -148.30428693401336,
          -153.08512390659462,
          -155.47554239288502,
          -156.67075163603067,
          -157.26835625760305,
          -157.86596087917587,
          -159.06117012232107,
          -162.0491932301843,
          -165.63482095962036,
          -167.42763482433838,
          -178.1845180126461,
          -184.16056422837255,
          -187.14858733623578,
          -188.34379657938143,
          -189.53900582252663,
          -190.136610444099,
          -191.92942430881703,
          -197.9054705245435,
          -199.69828438926152,
          -199.69828438926152,
          -206.2719352265608,
          -208.06474909127883,
          -208.66235371285165,
          -209.25995833442403,
          -215.8336091717233,
          -217.0288184148685,
          -218.82163227958654,
          -219.41923690115937,
          -220.0168415227322,
          -221.2120507658774,
          -228.98091084632188,
          -237.94498016991156,
          -241.53060789934761,
          -241.53060789934761,
          -246.9090494935017,
          -246.9090494935017,
          -246.9090494935017,
          -251.09228184451013,
          -254.67790957394618,
          -258.8611419249546,
          -264.2395835191087,
          -265.4347927622539,
          -271.41083897798035,
          -276.78928057213443,
          -280.97251292314286,
          -281.5701175447157,
          -285.7533498957241,
          -286.35095451729694,
          -291.72939611145057,
          -296.5102330840318,
          -301.2910700566131,
          -301.8886746781859,
          -302.4862792997583,
          -306.66951165076716,
          -307.26711627233954,
          -314.43837173121165,
          -318.0239994606477,
          -319.8168133253653,
          -319.8168133253653,
          -321.01202256851093,
          -321.01202256851093,
          -324.59765029794653,
          -326.39046416266456,
          -329.3784872705278,
          -329.9760918921006,
          -329.9760918921006,
          -336.5497427293999,
          -337.14734735097227,
          -337.7449519725451,
          -337.7449519725451,
          -341.33057970198115,
          -347.90423053928043,
          -352.6850675118617,
          -356.2706952412973,
          -358.66111372758814,
          -359.258718349161,
          -359.85632297073334,
          -362.2467414570242,
          -368.820392294323,
          -370.0156015374687,
          -373.0036246453319,
          -374.1988338884771,
          -375.3940431316223,
          -376.58925237476797,
          -378.97967086105837,
          -378.97967086105837,
          -380.7724847257764,
          -380.7724847257764,
          -383.1629032120668,
          -385.55332169835765,
          -386.74853094150285,
          -386.74853094150285,
          -389.7365540493661,
          -393.91978640037496,
          -401.0910418592466,
          -402.88385572396464,
          -411.8479250475543,
          -411.8479250475543,
          -413.64073891227235,
          -421.40959899271684,
          -423.20241285743487,
          -423.8000174790077,
          -427.3856452084433,
          -427.9832498300161,
          -434.5569006673154,
          -436.34971453203343,
          -441.1305515046147,
          -446.5089930987683,
          -453.6802485576404,
          -456.0706670439308,
          -457.2658762870765,
          -460.8515040165121,
          -463.24192250280294,
          -465.03473636752096,
          -469.2179687185294,
          -471.0107825832474,
          -472.2059918263926,
          -476.9868287989739,
          -479.9748519068371,
          -490.7317350951448,
          -491.32933971671764,
          -493.7197582030085,
          -496.1101766892989,
          -497.3053859324441,
          -498.50059517558975,
          -505.0742460128886,
          -505.0742460128886,
          -509.85508298546983,
          -511.64789685018786,
          -513.4407107149059,
          -514.0383153364787,
          -514.6359199580511,
          -515.2335245796239,
          -517.6239430659143,
          -524.7951985247864,
          -525.9904077679316,
          -528.3808262542225,
          -529.5760354973677,
          -529.5760354973677,
          -536.149686334667,
          -544.5161510366838,
          -546.3089649014019,
          -553.480220360274,
          -554.0778249818463,
          -554.0778249818463,
          -556.4682434681372,
          -583.3604514389067,
          -588.141288411488,
          -588.141288411488,
          -591.1293115193512,
          -597.7029623566505,
          -600.6909854645137,
          -601.8861947076589,
          -603.6790085723769,
          -605.4718224370949,
          -606.0694270586678,
          -609.6550547881034,
          -621.0095425979839,
          -621.0095425979839,
          -635.3520535157277,
          -638.9376812451637,
          -652.0849829197618,
          -667.6227030806513,
          -671.2083308100869,
          -672.4035400532325,
          -673.0011446748049,
          -675.9891677826681,
          -680.7700047552494,
          -701.0885618887196,
          -701.6861665102924,
          -710.0526312123097,
          -710.0526312123097,
          -722.0047236437626,
          -740.5304669125153,
          -751.8849547223954,
          -758.4586055596947,
          -759.6538148028399,
          -788.9364412599002,
          -810.4502076365156,
          -827.1831370405503,
          -844.5136710661573,
          -864.2346235780547,
          -877.979529874226,
          -964.0345953806882
         ],
         "yaxis": "y"
        }
       ],
       "layout": {
        "legend": {
         "title": {
          "text": "winner_type"
         },
         "tracegroupgap": 0
        },
        "template": {
         "data": {
          "bar": [
           {
            "error_x": {
             "color": "#2a3f5f"
            },
            "error_y": {
             "color": "#2a3f5f"
            },
            "marker": {
             "line": {
              "color": "#E5ECF6",
              "width": 0.5
             },
             "pattern": {
              "fillmode": "overlay",
              "size": 10,
              "solidity": 0.2
             }
            },
            "type": "bar"
           }
          ],
          "barpolar": [
           {
            "marker": {
             "line": {
              "color": "#E5ECF6",
              "width": 0.5
             },
             "pattern": {
              "fillmode": "overlay",
              "size": 10,
              "solidity": 0.2
             }
            },
            "type": "barpolar"
           }
          ],
          "carpet": [
           {
            "aaxis": {
             "endlinecolor": "#2a3f5f",
             "gridcolor": "white",
             "linecolor": "white",
             "minorgridcolor": "white",
             "startlinecolor": "#2a3f5f"
            },
            "baxis": {
             "endlinecolor": "#2a3f5f",
             "gridcolor": "white",
             "linecolor": "white",
             "minorgridcolor": "white",
             "startlinecolor": "#2a3f5f"
            },
            "type": "carpet"
           }
          ],
          "choropleth": [
           {
            "colorbar": {
             "outlinewidth": 0,
             "ticks": ""
            },
            "type": "choropleth"
           }
          ],
          "contour": [
           {
            "colorbar": {
             "outlinewidth": 0,
             "ticks": ""
            },
            "colorscale": [
             [
              0,
              "#0d0887"
             ],
             [
              0.1111111111111111,
              "#46039f"
             ],
             [
              0.2222222222222222,
              "#7201a8"
             ],
             [
              0.3333333333333333,
              "#9c179e"
             ],
             [
              0.4444444444444444,
              "#bd3786"
             ],
             [
              0.5555555555555556,
              "#d8576b"
             ],
             [
              0.6666666666666666,
              "#ed7953"
             ],
             [
              0.7777777777777778,
              "#fb9f3a"
             ],
             [
              0.8888888888888888,
              "#fdca26"
             ],
             [
              1,
              "#f0f921"
             ]
            ],
            "type": "contour"
           }
          ],
          "contourcarpet": [
           {
            "colorbar": {
             "outlinewidth": 0,
             "ticks": ""
            },
            "type": "contourcarpet"
           }
          ],
          "heatmap": [
           {
            "colorbar": {
             "outlinewidth": 0,
             "ticks": ""
            },
            "colorscale": [
             [
              0,
              "#0d0887"
             ],
             [
              0.1111111111111111,
              "#46039f"
             ],
             [
              0.2222222222222222,
              "#7201a8"
             ],
             [
              0.3333333333333333,
              "#9c179e"
             ],
             [
              0.4444444444444444,
              "#bd3786"
             ],
             [
              0.5555555555555556,
              "#d8576b"
             ],
             [
              0.6666666666666666,
              "#ed7953"
             ],
             [
              0.7777777777777778,
              "#fb9f3a"
             ],
             [
              0.8888888888888888,
              "#fdca26"
             ],
             [
              1,
              "#f0f921"
             ]
            ],
            "type": "heatmap"
           }
          ],
          "heatmapgl": [
           {
            "colorbar": {
             "outlinewidth": 0,
             "ticks": ""
            },
            "colorscale": [
             [
              0,
              "#0d0887"
             ],
             [
              0.1111111111111111,
              "#46039f"
             ],
             [
              0.2222222222222222,
              "#7201a8"
             ],
             [
              0.3333333333333333,
              "#9c179e"
             ],
             [
              0.4444444444444444,
              "#bd3786"
             ],
             [
              0.5555555555555556,
              "#d8576b"
             ],
             [
              0.6666666666666666,
              "#ed7953"
             ],
             [
              0.7777777777777778,
              "#fb9f3a"
             ],
             [
              0.8888888888888888,
              "#fdca26"
             ],
             [
              1,
              "#f0f921"
             ]
            ],
            "type": "heatmapgl"
           }
          ],
          "histogram": [
           {
            "marker": {
             "pattern": {
              "fillmode": "overlay",
              "size": 10,
              "solidity": 0.2
             }
            },
            "type": "histogram"
           }
          ],
          "histogram2d": [
           {
            "colorbar": {
             "outlinewidth": 0,
             "ticks": ""
            },
            "colorscale": [
             [
              0,
              "#0d0887"
             ],
             [
              0.1111111111111111,
              "#46039f"
             ],
             [
              0.2222222222222222,
              "#7201a8"
             ],
             [
              0.3333333333333333,
              "#9c179e"
             ],
             [
              0.4444444444444444,
              "#bd3786"
             ],
             [
              0.5555555555555556,
              "#d8576b"
             ],
             [
              0.6666666666666666,
              "#ed7953"
             ],
             [
              0.7777777777777778,
              "#fb9f3a"
             ],
             [
              0.8888888888888888,
              "#fdca26"
             ],
             [
              1,
              "#f0f921"
             ]
            ],
            "type": "histogram2d"
           }
          ],
          "histogram2dcontour": [
           {
            "colorbar": {
             "outlinewidth": 0,
             "ticks": ""
            },
            "colorscale": [
             [
              0,
              "#0d0887"
             ],
             [
              0.1111111111111111,
              "#46039f"
             ],
             [
              0.2222222222222222,
              "#7201a8"
             ],
             [
              0.3333333333333333,
              "#9c179e"
             ],
             [
              0.4444444444444444,
              "#bd3786"
             ],
             [
              0.5555555555555556,
              "#d8576b"
             ],
             [
              0.6666666666666666,
              "#ed7953"
             ],
             [
              0.7777777777777778,
              "#fb9f3a"
             ],
             [
              0.8888888888888888,
              "#fdca26"
             ],
             [
              1,
              "#f0f921"
             ]
            ],
            "type": "histogram2dcontour"
           }
          ],
          "mesh3d": [
           {
            "colorbar": {
             "outlinewidth": 0,
             "ticks": ""
            },
            "type": "mesh3d"
           }
          ],
          "parcoords": [
           {
            "line": {
             "colorbar": {
              "outlinewidth": 0,
              "ticks": ""
             }
            },
            "type": "parcoords"
           }
          ],
          "pie": [
           {
            "automargin": true,
            "type": "pie"
           }
          ],
          "scatter": [
           {
            "fillpattern": {
             "fillmode": "overlay",
             "size": 10,
             "solidity": 0.2
            },
            "type": "scatter"
           }
          ],
          "scatter3d": [
           {
            "line": {
             "colorbar": {
              "outlinewidth": 0,
              "ticks": ""
             }
            },
            "marker": {
             "colorbar": {
              "outlinewidth": 0,
              "ticks": ""
             }
            },
            "type": "scatter3d"
           }
          ],
          "scattercarpet": [
           {
            "marker": {
             "colorbar": {
              "outlinewidth": 0,
              "ticks": ""
             }
            },
            "type": "scattercarpet"
           }
          ],
          "scattergeo": [
           {
            "marker": {
             "colorbar": {
              "outlinewidth": 0,
              "ticks": ""
             }
            },
            "type": "scattergeo"
           }
          ],
          "scattergl": [
           {
            "marker": {
             "colorbar": {
              "outlinewidth": 0,
              "ticks": ""
             }
            },
            "type": "scattergl"
           }
          ],
          "scattermapbox": [
           {
            "marker": {
             "colorbar": {
              "outlinewidth": 0,
              "ticks": ""
             }
            },
            "type": "scattermapbox"
           }
          ],
          "scatterpolar": [
           {
            "marker": {
             "colorbar": {
              "outlinewidth": 0,
              "ticks": ""
             }
            },
            "type": "scatterpolar"
           }
          ],
          "scatterpolargl": [
           {
            "marker": {
             "colorbar": {
              "outlinewidth": 0,
              "ticks": ""
             }
            },
            "type": "scatterpolargl"
           }
          ],
          "scatterternary": [
           {
            "marker": {
             "colorbar": {
              "outlinewidth": 0,
              "ticks": ""
             }
            },
            "type": "scatterternary"
           }
          ],
          "surface": [
           {
            "colorbar": {
             "outlinewidth": 0,
             "ticks": ""
            },
            "colorscale": [
             [
              0,
              "#0d0887"
             ],
             [
              0.1111111111111111,
              "#46039f"
             ],
             [
              0.2222222222222222,
              "#7201a8"
             ],
             [
              0.3333333333333333,
              "#9c179e"
             ],
             [
              0.4444444444444444,
              "#bd3786"
             ],
             [
              0.5555555555555556,
              "#d8576b"
             ],
             [
              0.6666666666666666,
              "#ed7953"
             ],
             [
              0.7777777777777778,
              "#fb9f3a"
             ],
             [
              0.8888888888888888,
              "#fdca26"
             ],
             [
              1,
              "#f0f921"
             ]
            ],
            "type": "surface"
           }
          ],
          "table": [
           {
            "cells": {
             "fill": {
              "color": "#EBF0F8"
             },
             "line": {
              "color": "white"
             }
            },
            "header": {
             "fill": {
              "color": "#C8D4E3"
             },
             "line": {
              "color": "white"
             }
            },
            "type": "table"
           }
          ]
         },
         "layout": {
          "annotationdefaults": {
           "arrowcolor": "#2a3f5f",
           "arrowhead": 0,
           "arrowwidth": 1
          },
          "autotypenumbers": "strict",
          "coloraxis": {
           "colorbar": {
            "outlinewidth": 0,
            "ticks": ""
           }
          },
          "colorscale": {
           "diverging": [
            [
             0,
             "#8e0152"
            ],
            [
             0.1,
             "#c51b7d"
            ],
            [
             0.2,
             "#de77ae"
            ],
            [
             0.3,
             "#f1b6da"
            ],
            [
             0.4,
             "#fde0ef"
            ],
            [
             0.5,
             "#f7f7f7"
            ],
            [
             0.6,
             "#e6f5d0"
            ],
            [
             0.7,
             "#b8e186"
            ],
            [
             0.8,
             "#7fbc41"
            ],
            [
             0.9,
             "#4d9221"
            ],
            [
             1,
             "#276419"
            ]
           ],
           "sequential": [
            [
             0,
             "#0d0887"
            ],
            [
             0.1111111111111111,
             "#46039f"
            ],
            [
             0.2222222222222222,
             "#7201a8"
            ],
            [
             0.3333333333333333,
             "#9c179e"
            ],
            [
             0.4444444444444444,
             "#bd3786"
            ],
            [
             0.5555555555555556,
             "#d8576b"
            ],
            [
             0.6666666666666666,
             "#ed7953"
            ],
            [
             0.7777777777777778,
             "#fb9f3a"
            ],
            [
             0.8888888888888888,
             "#fdca26"
            ],
            [
             1,
             "#f0f921"
            ]
           ],
           "sequentialminus": [
            [
             0,
             "#0d0887"
            ],
            [
             0.1111111111111111,
             "#46039f"
            ],
            [
             0.2222222222222222,
             "#7201a8"
            ],
            [
             0.3333333333333333,
             "#9c179e"
            ],
            [
             0.4444444444444444,
             "#bd3786"
            ],
            [
             0.5555555555555556,
             "#d8576b"
            ],
            [
             0.6666666666666666,
             "#ed7953"
            ],
            [
             0.7777777777777778,
             "#fb9f3a"
            ],
            [
             0.8888888888888888,
             "#fdca26"
            ],
            [
             1,
             "#f0f921"
            ]
           ]
          },
          "colorway": [
           "#636efa",
           "#EF553B",
           "#00cc96",
           "#ab63fa",
           "#FFA15A",
           "#19d3f3",
           "#FF6692",
           "#B6E880",
           "#FF97FF",
           "#FECB52"
          ],
          "font": {
           "color": "#2a3f5f"
          },
          "geo": {
           "bgcolor": "white",
           "lakecolor": "white",
           "landcolor": "#E5ECF6",
           "showlakes": true,
           "showland": true,
           "subunitcolor": "white"
          },
          "hoverlabel": {
           "align": "left"
          },
          "hovermode": "closest",
          "mapbox": {
           "style": "light"
          },
          "paper_bgcolor": "white",
          "plot_bgcolor": "#E5ECF6",
          "polar": {
           "angularaxis": {
            "gridcolor": "white",
            "linecolor": "white",
            "ticks": ""
           },
           "bgcolor": "#E5ECF6",
           "radialaxis": {
            "gridcolor": "white",
            "linecolor": "white",
            "ticks": ""
           }
          },
          "scene": {
           "xaxis": {
            "backgroundcolor": "#E5ECF6",
            "gridcolor": "white",
            "gridwidth": 2,
            "linecolor": "white",
            "showbackground": true,
            "ticks": "",
            "zerolinecolor": "white"
           },
           "yaxis": {
            "backgroundcolor": "#E5ECF6",
            "gridcolor": "white",
            "gridwidth": 2,
            "linecolor": "white",
            "showbackground": true,
            "ticks": "",
            "zerolinecolor": "white"
           },
           "zaxis": {
            "backgroundcolor": "#E5ECF6",
            "gridcolor": "white",
            "gridwidth": 2,
            "linecolor": "white",
            "showbackground": true,
            "ticks": "",
            "zerolinecolor": "white"
           }
          },
          "shapedefaults": {
           "line": {
            "color": "#2a3f5f"
           }
          },
          "ternary": {
           "aaxis": {
            "gridcolor": "white",
            "linecolor": "white",
            "ticks": ""
           },
           "baxis": {
            "gridcolor": "white",
            "linecolor": "white",
            "ticks": ""
           },
           "bgcolor": "#E5ECF6",
           "caxis": {
            "gridcolor": "white",
            "linecolor": "white",
            "ticks": ""
           }
          },
          "title": {
           "x": 0.05
          },
          "xaxis": {
           "automargin": true,
           "gridcolor": "white",
           "linecolor": "white",
           "ticks": "",
           "title": {
            "standoff": 15
           },
           "zerolinecolor": "white",
           "zerolinewidth": 2
          },
          "yaxis": {
           "automargin": true,
           "gridcolor": "white",
           "linecolor": "white",
           "ticks": "",
           "title": {
            "standoff": 15
           },
           "zerolinecolor": "white",
           "zerolinewidth": 2
          }
         }
        },
        "title": {
         "text": "Winner's Curse vs. Amount Paid"
        },
        "xaxis": {
         "anchor": "y",
         "domain": [
          0,
          1
         ],
         "title": {
          "text": "Amount Paid for Item"
         }
        },
        "yaxis": {
         "anchor": "x",
         "domain": [
          0,
          1
         ],
         "title": {
          "text": "Average Loser Value - Amount Paid"
         }
        }
       }
      }
     },
     "metadata": {},
     "output_type": "display_data"
    }
   ],
   "source": [
    "auction_results = []\n",
    "\n",
    "for i in range(0, len(winning_bids)):\n",
    "    winning_bidder = winning_bids[i].bidder\n",
    "    all_but_winner = filter(lambda bidder: bidder.name !=\n",
    "                            winning_bidder.name, all_original_bidders[i])\n",
    "    average_loser_value = average_value(\n",
    "        list(map(lambda losing_bidder: losing_bidder.curr_value, all_but_winner)))\n",
    "    winner_curse = average_loser_value - winning_bids[i].amount\n",
    "\n",
    "    auction_result = {\n",
    "        'winner_curse': winner_curse,\n",
    "        'winner_amount': winning_bids[i].amount,\n",
    "        'winner_utility': winning_bids[i].bidder.curr_value - winning_bids[i].amount,\n",
    "        'winner_type': winning_bids[i].bidder.bidder_type\n",
    "    }\n",
    "    auction_results.append(auction_result)\n",
    "\n",
    "df = pd.DataFrame(auction_results, columns=[\n",
    "                  'winner_curse', 'winner_amount', 'winner_utility', 'winner_type'])\n",
    "\n",
    "fig = px.scatter(df, x=\"winner_amount\", y=\"winner_curse\", color=\"winner_type\", trendline='ols',\n",
    "                 opacity=0.3, title='Winner\\'s Curse vs. Amount Paid')\n",
    "fig.update_traces(marker_size=5)\n",
    "fig.update_xaxes(title='Amount Paid for Item')\n",
    "fig.update_yaxes(title='Average Loser Value - Amount Paid')\n",
    "fig.show()\n"
   ]
  },
  {
   "cell_type": "code",
   "execution_count": null,
   "metadata": {},
   "outputs": [
    {
     "data": {
      "image/png": "[encoded data removed]",
      "text/plain": [
       "<Figure size 640x480 with 1 Axes>"
      ]
     },
     "metadata": {},
     "output_type": "display_data"
    }
   ],
   "source": [
    "# ---WINNING BID AMOUNT---\n",
    "winning_bid_amounts = list(map(lambda bid: bid.amount, winning_bids))\n",
    "\n",
    "# ---WINNING BIDDER UTILITY---\n",
    "winning_bidder_utility = list(\n",
    "    map(lambda bid: bid.bidder.curr_value - bid.amount, winning_bids))\n",
    "\n",
    "# pd.value_counts(winning_bidder_utility).sort_index().plot.bar()\n",
    "\n",
    "plt.scatter(x=winning_bid_amounts, y=winning_bidder_utility, s=1)\n",
    "plt.show()\n"
   ]
  },
  {
   "cell_type": "code",
   "execution_count": null,
   "metadata": {},
   "outputs": [
    {
     "data": {
      "text/plain": [
       "<AxesSubplot: >"
      ]
     },
     "execution_count": 1360,
     "metadata": {},
     "output_type": "execute_result"
    },
    {
     "data": {
      "image/png": "[encoded data removed]",
      "text/plain": [
       "<Figure size 640x480 with 1 Axes>"
      ]
     },
     "metadata": {},
     "output_type": "display_data"
    }
   ],
   "source": [
    "# ---WINNING BIDDER TYPE---\n",
    "\n",
    "winning_bidder_types = list(\n",
    "    map(lambda bid: bid.bidder.bidder_type, winning_bids))\n",
    "\n",
    "pd.value_counts(winning_bidder_types).plot.bar()\n"
   ]
  },
  {
   "cell_type": "code",
   "execution_count": null,
   "metadata": {},
   "outputs": [
    {
     "data": {
      "image/png": "[encoded data removed]",
      "text/plain": [
       "<Figure size 640x480 with 1 Axes>"
      ]
     },
     "metadata": {},
     "output_type": "display_data"
    }
   ],
   "source": [
    "# ---WINNING BIDDER UTILITY---\n",
    "winning_bidder_beta_self = list(\n",
    "    map(lambda bid: bid.bidder.beta_self, winning_bids))\n",
    "\n",
    "winning_bidder_beta = list(\n",
    "    map(lambda bid: bid.bidder.beta, winning_bids))\n",
    "\n",
    "\n",
    "plt.scatter(x=winning_bidder_beta_self, y=winning_bidder_beta, s=0.6)\n",
    "plt.show()\n"
   ]
  },
  {
   "cell_type": "code",
   "execution_count": null,
   "metadata": {},
   "outputs": [
    {
     "data": {
      "text/plain": [
       "<AxesSubplot: >"
      ]
     },
     "execution_count": 1362,
     "metadata": {},
     "output_type": "execute_result"
    },
    {
     "data": {
      "image/png": "[encoded data removed]",
      "text/plain": [
       "<Figure size 640x480 with 1 Axes>"
      ]
     },
     "metadata": {},
     "output_type": "display_data"
    }
   ],
   "source": [
    "# ---WINNING BIDDER NO BIDS SUBMITTED---\n",
    "winning_bidder_bid_count = list(\n",
    "    map(lambda bid: bid.bidder.no_bids_submitted, winning_bids))\n",
    "\n",
    "pd.value_counts(winning_bidder_bid_count).sort_index().plot.bar()\n"
   ]
  },
  {
   "cell_type": "code",
   "execution_count": null,
   "metadata": {},
   "outputs": [
    {
     "data": {
      "image/png": "[encoded data removed]",
      "text/plain": [
       "<Figure size 640x480 with 1 Axes>"
      ]
     },
     "metadata": {},
     "output_type": "display_data"
    }
   ],
   "source": [
    "foo = get_truncated_normal(\n",
    "    mean=0.5, std=0.25, count=500)\n",
    "\n",
    "plt.hist(foo, density=True)\n",
    "plt.show()\n"
   ]
  },
  {
   "cell_type": "code",
   "execution_count": null,
   "metadata": {},
   "outputs": [],
   "source": []
  }
 ],
 "metadata": {
  "kernelspec": {
   "display_name": "Python 3.9.13 64-bit",
   "language": "python",
   "name": "python3"
  },
  "language_info": {
   "codemirror_mode": {
    "name": "ipython",
    "version": 3
   },
   "file_extension": ".py",
   "mimetype": "text/x-python",
   "name": "python",
   "nbconvert_exporter": "python",
   "pygments_lexer": "ipython3",
   "version": "3.9.13"
  },
  "orig_nbformat": 4,
  "vscode": {
   "interpreter": {
    "hash": "aee8b7b246df8f9039afb4144a1f6fd8d2ca17a180786b69acc140d282b71a49"
   }
  }
 },
 "nbformat": 4,
 "nbformat_minor": 2
}
